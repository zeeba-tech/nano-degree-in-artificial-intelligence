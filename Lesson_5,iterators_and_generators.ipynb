{
  "nbformat": 4,
  "nbformat_minor": 0,
  "metadata": {
    "colab": {
      "name": "Lesson-5,iterators and generators.ipynb",
      "provenance": [],
      "collapsed_sections": [],
      "authorship_tag": "ABX9TyOTJULGWKstUVI9xIoB9t7X",
      "include_colab_link": true
    },
    "kernelspec": {
      "name": "python3",
      "display_name": "Python 3"
    },
    "language_info": {
      "name": "python"
    }
  },
  "cells": [
    {
      "cell_type": "markdown",
      "metadata": {
        "id": "view-in-github",
        "colab_type": "text"
      },
      "source": [
        "<a href=\"https://colab.research.google.com/github/zeeba-tech/nano-degree-in-artificial-intelligence/blob/main/Lesson_5%2Citerators_and_generators.ipynb\" target=\"_parent\"><img src=\"https://colab.research.google.com/assets/colab-badge.svg\" alt=\"Open In Colab\"/></a>"
      ]
    },
    {
      "cell_type": "code",
      "metadata": {
        "colab": {
          "base_uri": "https://localhost:8080/"
        },
        "id": "hCG00Q6MmRjy",
        "outputId": "ed939274-6e94-41ee-a1bd-66fd5ca77eca"
      },
      "source": [
        "lessons = [\"Why Python Programming\", \"Data Types and Operators\", \"Control Flow\", \"Functions\", \"Scripting\"]\n",
        "\n",
        "for x in enumerate(lessons,1):\n",
        "  print(x)"
      ],
      "execution_count": null,
      "outputs": [
        {
          "output_type": "stream",
          "text": [
            "(1, 'Why Python Programming')\n",
            "(2, 'Data Types and Operators')\n",
            "(3, 'Control Flow')\n",
            "(4, 'Functions')\n",
            "(5, 'Scripting')\n"
          ],
          "name": "stdout"
        }
      ]
    },
    {
      "cell_type": "code",
      "metadata": {
        "colab": {
          "base_uri": "https://localhost:8080/"
        },
        "id": "jQaI5Wd5vZ9Y",
        "outputId": "285765fc-7735-4251-dcef-3f10386a4cc7"
      },
      "source": [
        "def print_add(a,b):\n",
        "  x=a+b\n",
        "  for i in range(x):\n",
        "   yield  (i)\n",
        "\n",
        "c=print_add(5,4)\n",
        "print(c)"
      ],
      "execution_count": null,
      "outputs": [
        {
          "output_type": "stream",
          "text": [
            "<generator object print_add at 0x7f59bf819750>\n"
          ],
          "name": "stdout"
        }
      ]
    },
    {
      "cell_type": "code",
      "metadata": {
        "colab": {
          "base_uri": "https://localhost:8080/"
        },
        "id": "ohghpBVzVaNj",
        "outputId": "90c1562a-2020-4036-8ac2-c596eeb73f05"
      },
      "source": [
        "next(c)"
      ],
      "execution_count": null,
      "outputs": [
        {
          "output_type": "execute_result",
          "data": {
            "text/plain": [
              "3"
            ]
          },
          "metadata": {
            "tags": []
          },
          "execution_count": 16
        }
      ]
    },
    {
      "cell_type": "code",
      "metadata": {
        "colab": {
          "base_uri": "https://localhost:8080/"
        },
        "id": "2NlhvSyVV1MX",
        "outputId": "1f3be574-c2e5-466d-f97a-25556e37aea6"
      },
      "source": [
        "for i in c:\n",
        "  print(i)"
      ],
      "execution_count": null,
      "outputs": [
        {
          "output_type": "stream",
          "text": [
            "0\n",
            "1\n",
            "2\n",
            "3\n",
            "4\n",
            "5\n",
            "6\n",
            "7\n",
            "8\n"
          ],
          "name": "stdout"
        }
      ]
    },
    {
      "cell_type": "code",
      "metadata": {
        "id": "YcMN2iSV0lL1"
      },
      "source": [
        "lessons = [\"Why Python Programming\", \"Data Types and Operators\", \"Control Flow\", \"Functions\", \"Scripting\"]\n",
        "\n",
        "def my_enumerate(iterable, start=0):\n",
        "    # Implement your generator function here\n",
        "    count=start\n",
        "    for i in iterable:\n",
        "        yield i,count\n",
        "        count=count+1"
      ],
      "execution_count": null,
      "outputs": []
    },
    {
      "cell_type": "code",
      "metadata": {
        "colab": {
          "base_uri": "https://localhost:8080/"
        },
        "id": "9cbE-kCm_ZkB",
        "outputId": "d272e116-978e-4575-ad00-171ab25d1dad"
      },
      "source": [
        "for i in range(4,5): print(i)"
      ],
      "execution_count": null,
      "outputs": [
        {
          "output_type": "stream",
          "text": [
            "4\n"
          ],
          "name": "stdout"
        }
      ]
    },
    {
      "cell_type": "code",
      "metadata": {
        "colab": {
          "base_uri": "https://localhost:8080/"
        },
        "id": "Hu2A7Vxh6jQw",
        "outputId": "9e6ba68b-652d-4662-dbba-215501aa91b5"
      },
      "source": [
        "lessons = [\"Why Python Programming\", \"Data Types and Operators\", \"Control Flow\", \"Functions\", \"Scripting\"]\n",
        "imran = [\"sheik\",\"mohamed\",\"imran\"]\n",
        "\n",
        "def my_loop(list1, start):\n",
        " end = len(list1)+start  #16\n",
        " for i in range(start, end):\n",
        "   index = i-start # 14-14=0, 15-14=1, 16-14=2, 17-14=3, 18-14=4\n",
        "   yield(i, list1[index])\n",
        "\n",
        "'''for chapter, heading in my_loop(lessons,1):\n",
        "    print(\"Lesson {}: {}\".format(chapter, heading))'''\n",
        "\n",
        "\n",
        "c = my_loop(lessons,1)\n",
        "\n",
        "for i,j in c: \n",
        "  print(i,j)"
      ],
      "execution_count": null,
      "outputs": [
        {
          "output_type": "stream",
          "text": [
            "1 Why Python Programming\n",
            "2 Data Types and Operators\n",
            "3 Control Flow\n",
            "4 Functions\n",
            "5 Scripting\n"
          ],
          "name": "stdout"
        }
      ]
    },
    {
      "cell_type": "code",
      "metadata": {
        "colab": {
          "base_uri": "https://localhost:8080/"
        },
        "id": "LWjUhRIRgaH4",
        "outputId": "ecf6feba-e274-4749-ab36-72ce2e0b68b4"
      },
      "source": [
        ""
      ],
      "execution_count": null,
      "outputs": [
        {
          "output_type": "stream",
          "text": [
            "1 Why Python Programming\n",
            "2 Data Types and Operators\n",
            "3 Control Flow\n",
            "4 Functions\n",
            "5 Scripting\n"
          ],
          "name": "stdout"
        }
      ]
    },
    {
      "cell_type": "code",
      "metadata": {
        "colab": {
          "base_uri": "https://localhost:8080/",
          "height": 35
        },
        "id": "F94tOTZz9v4F",
        "outputId": "06bbe4f4-0c5a-4f9c-c95b-668e7cdccb1a"
      },
      "source": [
        "start=4\n",
        "i=6\n",
        "lessons[i-start]"
      ],
      "execution_count": null,
      "outputs": [
        {
          "output_type": "execute_result",
          "data": {
            "application/vnd.google.colaboratory.intrinsic+json": {
              "type": "string"
            },
            "text/plain": [
              "'Control Flow'"
            ]
          },
          "metadata": {
            "tags": []
          },
          "execution_count": 38
        }
      ]
    },
    {
      "cell_type": "code",
      "metadata": {
        "colab": {
          "base_uri": "https://localhost:8080/",
          "height": 35
        },
        "id": "4KsJZF_x-L-N",
        "outputId": "79ee0cfc-f8c8-45fa-848f-36d0db4a5a20"
      },
      "source": [
        "lessons[12-11]"
      ],
      "execution_count": null,
      "outputs": [
        {
          "output_type": "execute_result",
          "data": {
            "application/vnd.google.colaboratory.intrinsic+json": {
              "type": "string"
            },
            "text/plain": [
              "'Data Types and Operators'"
            ]
          },
          "metadata": {
            "tags": []
          },
          "execution_count": 48
        }
      ]
    },
    {
      "cell_type": "code",
      "metadata": {
        "colab": {
          "base_uri": "https://localhost:8080/"
        },
        "id": "sEzRz61kcgmS",
        "outputId": "d19a3db5-7529-4611-f097-fbd15e2af22c"
      },
      "source": [
        "len(lessons)"
      ],
      "execution_count": null,
      "outputs": [
        {
          "output_type": "execute_result",
          "data": {
            "text/plain": [
              "5"
            ]
          },
          "metadata": {
            "tags": []
          },
          "execution_count": 46
        }
      ]
    },
    {
      "cell_type": "code",
      "metadata": {
        "id": "6D5Pn6GYhZ8_"
      },
      "source": [
        "def chunker(iterable, size):\n",
        "  z=[]\n",
        "  for i in (iterable):\n",
        "    z.append(i)\n",
        "    if len(z) == size or len:\n",
        "       yield z\n",
        "       z=[]"
      ],
      "execution_count": null,
      "outputs": []
    },
    {
      "cell_type": "code",
      "metadata": {
        "id": "-N0mKPySge9T"
      },
      "source": [
        "c=chunker(range(25),4)\n",
        "next(c)\n"
      ],
      "execution_count": null,
      "outputs": []
    }
  ]
}