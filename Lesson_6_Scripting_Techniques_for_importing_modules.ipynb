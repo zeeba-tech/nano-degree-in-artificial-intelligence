{
  "nbformat": 4,
  "nbformat_minor": 0,
  "metadata": {
    "colab": {
      "name": "Lesson-6/Scripting-Techniques for importing modules.ipynb",
      "provenance": [],
      "collapsed_sections": [],
      "authorship_tag": "ABX9TyMa42shOMl87Ap2HDRIWtEH",
      "include_colab_link": true
    },
    "kernelspec": {
      "name": "python3",
      "display_name": "Python 3"
    },
    "language_info": {
      "name": "python"
    }
  },
  "cells": [
    {
      "cell_type": "markdown",
      "metadata": {
        "id": "view-in-github",
        "colab_type": "text"
      },
      "source": [
        "<a href=\"https://colab.research.google.com/github/zeeba-tech/nano-degree-in-artificial-intelligence/blob/main/Lesson_6_Scripting_Techniques_for_importing_modules.ipynb\" target=\"_parent\"><img src=\"https://colab.research.google.com/assets/colab-badge.svg\" alt=\"Open In Colab\"/></a>"
      ]
    },
    {
      "cell_type": "code",
      "metadata": {
        "id": "3Erh-BcYXrFM"
      },
      "source": [
        "'''Techniques for Importing Modules\n",
        "There are other variants of import statements that are useful in different situations.\n",
        "\n",
        "To import an individual function or class from a module:\n",
        "from module_name import object_name\n",
        "To import multiple individual objects from a module:\n",
        "from module_name import first_object, second_object\n",
        "To rename a module:\n",
        "import module_name as new_name\n",
        "To import an object from a module and rename it:\n",
        "from module_name import object_name as new_name\n",
        "To import every object individually from a module (DO NOT DO THIS):\n",
        "from module_name import *\n",
        "If you really want to use all of the objects from a module, use the standard import module_name statement instead and access each of the objects with the dot notation.\n",
        "import module_name\n",
        "\n",
        "Modules, Packages, and Names\n",
        "In order to manage the code better, modules in the Python Standard Library are split down into sub-modules that are contained within a package. A package is simply a module that contains sub-modules. A sub-module is specified with the usual dot notation.\n",
        "\n",
        "Modules that are submodules are specified by the package name and then the submodule name separated by a dot. You can import the submodule like this.\n",
        "\n",
        "import package_name.submodule_name\n",
        "'''"
      ],
      "execution_count": null,
      "outputs": []
    },
    {
      "cell_type": "code",
      "metadata": {
        "id": "nynh74hEX1I_"
      },
      "source": [
        "Importing and accessing from modules\n",
        "In this quiz, you'll be using different methods to import and use the random.randint() function from the random module. Your task is to match the import statement with the way you would then call the function itself.\n",
        "\n",
        "QUIZ QUESTION\n",
        "Match the import statement with the way that random.randint() is called.\n",
        "\n",
        "Submit to check your answer choices!\n",
        "IMPORT STATEMENT\n",
        "\n",
        "CALLING THE FUNCTION\n",
        "\n",
        "import random=random.randint(0,10)\n",
        "\n",
        "\n",
        "from random import randint=randint(0,10)\n",
        "\n",
        "\n",
        "import random as rd=rd.randint(0,10)\n",
        "\n",
        "\n",
        "from random import randint as rint=rint(0,10)\n",
        "\n",
        "\n",
        "from random import *=dont use this import statement\n",
        "\n",
        "\n"
      ],
      "execution_count": null,
      "outputs": []
    }
  ]
}