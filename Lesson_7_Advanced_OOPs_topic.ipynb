{
  "nbformat": 4,
  "nbformat_minor": 0,
  "metadata": {
    "colab": {
      "name": "Lesson-7/Advanced OOPs topic.ipynb",
      "provenance": [],
      "collapsed_sections": [],
      "authorship_tag": "ABX9TyMxkm8svzYD8Idfejyr8LxB",
      "include_colab_link": true
    },
    "kernelspec": {
      "name": "python3",
      "display_name": "Python 3"
    },
    "language_info": {
      "name": "python"
    }
  },
  "cells": [
    {
      "cell_type": "markdown",
      "metadata": {
        "id": "view-in-github",
        "colab_type": "text"
      },
      "source": [
        "<a href=\"https://colab.research.google.com/github/zeeba-tech/nano-degree-in-artificial-intelligence/blob/main/Lesson_7_Advanced_OOPs_topic.ipynb\" target=\"_parent\"><img src=\"https://colab.research.google.com/assets/colab-badge.svg\" alt=\"Open In Colab\"/></a>"
      ]
    },
    {
      "cell_type": "code",
      "metadata": {
        "id": "ZdccXp5uKQJS"
      },
      "source": [
        "'''Advanced OOP Topics\n",
        "Inheritance is the last object-oriented programming topic in the lesson. Thus far you've been exposed to:\n",
        "\n",
        "classes and objects\n",
        "attributes and methods\n",
        "magic methods\n",
        "inheritance\n",
        "Classes, object, attributes, methods, and inheritance are common to all object-oriented programming languages.\n",
        "\n",
        "Knowing these topics is enough to start writing object-oriented software. What you've learned so far is all you need to know to complete this OOP lesson. However, these are only the fundamentals of object-oriented programming.\n",
        "\n",
        "Here is a list of resources for advanced Python object-oriented programming topics.\n",
        "\n",
        "class methods, instance methods, and static methods - these are different types of methods that can be accessed at the class or object level\n",
        "class attributes vs instance attributes - you can also define attributes at the class level or at the instance level\n",
        "multiple inheritance, mixins - A class can inherit from multiple parent classes\n",
        "Python decorators - Decorators are a short-hand way for using functions inside other functions\n",
        "'''"
      ],
      "execution_count": null,
      "outputs": []
    }
  ]
}