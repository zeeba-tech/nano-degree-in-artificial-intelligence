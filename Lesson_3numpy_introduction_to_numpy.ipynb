{
  "nbformat": 4,
  "nbformat_minor": 0,
  "metadata": {
    "colab": {
      "name": "Lesson-3numpy-introduction to numpy.ipynb",
      "provenance": [],
      "collapsed_sections": [],
      "authorship_tag": "ABX9TyOqiDQzNN5mOW6cucIDVOW/",
      "include_colab_link": true
    },
    "kernelspec": {
      "name": "python3",
      "display_name": "Python 3"
    },
    "language_info": {
      "name": "python"
    }
  },
  "cells": [
    {
      "cell_type": "markdown",
      "metadata": {
        "id": "view-in-github",
        "colab_type": "text"
      },
      "source": [
        "<a href=\"https://colab.research.google.com/github/zeeba-tech/nano-degree-in-artificial-intelligence/blob/main/Lesson_3numpy_introduction_to_numpy.ipynb\" target=\"_parent\"><img src=\"https://colab.research.google.com/assets/colab-badge.svg\" alt=\"Open In Colab\"/></a>"
      ]
    },
    {
      "cell_type": "code",
      "metadata": {
        "id": "9oJFyYJfuubZ"
      },
      "source": [
        "Introduction to NumPy\n",
        "NumPy stands for Numerical Python and it's a fundamental package for scientific computing in Python. NumPy provides Python with an extensive math library capable of performing numerical computations effectively and efficiently. These lessons are intended as a basic overview of NumPy and introduce some of its most important features.\n",
        "\n",
        "In the following lessons you will learn:\n",
        "\n",
        "How to import NumPy\n",
        "How to create multidimensional NumPy ndarrays using various methods\n",
        "How to access and change elements in ndarrays\n",
        "How to load and save ndarrays\n",
        "How to use slicing to select or change subsets of an ndarray\n",
        "Understand the difference between a view and a copy an of ndarray\n",
        "How to use Boolean indexing and set operations to select or change subsets of an ndarray\n",
        "How to sort ndarrays\n",
        "How to perform element-wise operations on ndarrays\n",
        "Understand how NumPy uses broadcasting to perform operations on ndarrays of different sizes.\n",
        "Download NumPy\n",
        "NumPy is included with Anaconda. If you don't already have Anaconda installed on your computer, please refer to the Anaconda section to get clear instructions on how to install Anaconda on your PC or Mac.\n",
        "\n",
        "Updating NumPy to a Specific Version\n",
        "You can choose to upgrade/downgrade your NumPy to a specific version by using the command shown below in the Terminal/Anaconda prompt.\n",
        "\n",
        "Tip - Create virtual environments, which helps us to have multiple versions of Python and its packages.\n",
        "\n",
        "# Use either one command\n",
        "conda install numpy=X.XX\n",
        "pip install --upgrade numpy==X.XX\n",
        "where X.XX could be one of the specific version number.\n",
        "\n",
        "NumPy Documentation\n",
        "NumPy is a remarkable math library and it has many functions and features. In these introductory lessons, we will only scratch the surface of what NumPy can do. If you want to learn more about NumPy, make sure you check out the NumPy Documentation:\n",
        "\n",
        "NumPy Manual\n",
        "NumPy User Guide\n",
        "NumPy Reference\n",
        "Scipy Lectures\n",
        "\n"
      ],
      "execution_count": null,
      "outputs": []
    }
  ]
}