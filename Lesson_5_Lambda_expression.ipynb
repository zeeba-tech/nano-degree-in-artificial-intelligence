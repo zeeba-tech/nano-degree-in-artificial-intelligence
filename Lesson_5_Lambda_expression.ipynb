{
  "nbformat": 4,
  "nbformat_minor": 0,
  "metadata": {
    "colab": {
      "name": "Lesson-5/Lambda expression.ipynb",
      "provenance": [],
      "collapsed_sections": [],
      "authorship_tag": "ABX9TyMbEho4hpvT1j1ytkt7vVkw",
      "include_colab_link": true
    },
    "kernelspec": {
      "name": "python3",
      "display_name": "Python 3"
    },
    "language_info": {
      "name": "python"
    }
  },
  "cells": [
    {
      "cell_type": "markdown",
      "metadata": {
        "id": "view-in-github",
        "colab_type": "text"
      },
      "source": [
        "<a href=\"https://colab.research.google.com/github/zeeba-tech/nano-degree-in-artificial-intelligence/blob/main/Lesson_5_Lambda_expression.ipynb\" target=\"_parent\"><img src=\"https://colab.research.google.com/assets/colab-badge.svg\" alt=\"Open In Colab\"/></a>"
      ]
    },
    {
      "cell_type": "code",
      "metadata": {
        "id": "4VAd1cAONBL-"
      },
      "source": [
        "def multiply(x, y):\n",
        "    return x * y"
      ],
      "execution_count": null,
      "outputs": []
    },
    {
      "cell_type": "code",
      "metadata": {
        "id": "3JvXfGk_MFPV"
      },
      "source": [
        "can be reduced to:\n",
        "\n",
        "multiply = lambda x, y: x * y"
      ],
      "execution_count": 1,
      "outputs": []
    },
    {
      "cell_type": "code",
      "metadata": {
        "colab": {
          "base_uri": "https://localhost:8080/"
        },
        "id": "dMhfsSSSMInu",
        "outputId": "e66f3c6a-e47a-4ed2-eb88-809184a8eef8"
      },
      "source": [
        "multiply(4,5)\n"
      ],
      "execution_count": 2,
      "outputs": [
        {
          "output_type": "execute_result",
          "data": {
            "text/plain": [
              "20"
            ]
          },
          "metadata": {
            "tags": []
          },
          "execution_count": 2
        }
      ]
    },
    {
      "cell_type": "code",
      "metadata": {
        "id": "QYoKOi77MMdp"
      },
      "source": [
        "'''Components of a Lambda Function\n",
        "The lambda keyword is used to indicate that this is a lambda expression.\n",
        "Following lambda are one or more arguments for the anonymous function separated by commas, followed by a colon :. Similar to functions, the way the arguments are named in a lambda expression is arbitrary.\n",
        "Last is an expression that is evaluated and returned in this function. This is a lot like an expression you might see as a return statement in a function.\n",
        "With this structure, lambda expressions aren’t ideal for complex functions, but can be very useful for short, simple functions'''"
      ],
      "execution_count": null,
      "outputs": []
    },
    {
      "cell_type": "code",
      "metadata": {
        "id": "3mVng9ZmS0HI"
      },
      "source": [
        "'''Quiz: Lambda with Map\n",
        "map() is a higher-order built-in function that takes a function and iterable as inputs, and returns an iterator that applies the function to each element of the iterable. The code below uses map() to find the mean of each list in numbers to create the list averages. Give it a test run to see what happens.\n",
        "\n",
        "Rewrite this code to be more concise by replacing the mean function with a lambda expression defined within the call to map().'''"
      ],
      "execution_count": null,
      "outputs": []
    },
    {
      "cell_type": "code",
      "metadata": {
        "colab": {
          "base_uri": "https://localhost:8080/"
        },
        "id": "aozl-cBaS5FW",
        "outputId": "e92b2113-fa16-4c71-b7e7-174cefa8f85c"
      },
      "source": [
        "numbers = [\n",
        "              [34, 63, 88, 71, 29],\n",
        "              [90, 78, 51, 27, 45],\n",
        "              [63, 37, 85, 46, 22],\n",
        "              [51, 22, 34, 11, 18]\n",
        "           ]\n",
        "'''\n",
        "def mean(num_list):\n",
        "    return sum(num_list) / len(num_list)\n",
        "    \n",
        "mean=lambda num_list:sum(num_list) / len(num_list)\n",
        "mean(6)'''\n",
        "\n",
        "averages = list(map(lambda x:sum(x) / len(x), numbers))\n",
        "print(averages)"
      ],
      "execution_count": 3,
      "outputs": [
        {
          "output_type": "stream",
          "text": [
            "[57.0, 58.2, 50.6, 27.2]\n"
          ],
          "name": "stdout"
        }
      ]
    },
    {
      "cell_type": "code",
      "metadata": {
        "id": "uy3FcUYgS8Oh"
      },
      "source": [
        "'''\n",
        "Quiz: Lambda with Filter\n",
        "filter() is a higher-order built-in function that takes a function and iterable as inputs and returns an iterator with the elements from the iterable for which the function returns True. The code below uses filter() to get the names in cities that are fewer than 10 characters long to create the list short_cities. Give it a test run to see what happens.\n",
        "\n",
        "Rewrite this code to be more concise by replacing the is_short function with a lambda expression defined within the call to filter().'''"
      ],
      "execution_count": null,
      "outputs": []
    },
    {
      "cell_type": "code",
      "metadata": {
        "colab": {
          "base_uri": "https://localhost:8080/"
        },
        "id": "BbSv6D9ETDYU",
        "outputId": "07901e0f-46da-4bee-e0c2-e8e611f5bde3"
      },
      "source": [
        "cities = [\"New York City\", \"Los Angeles\", \"Chicago\", \"Mountain View\", \"Denver\", \"Boston\"]\n",
        "\n",
        "def is_short(name):\n",
        "    return len(name) < 10\n",
        "'''    \n",
        "is_short=lambda name:len(name) < 10\n",
        "is_short(cities)'''\n",
        "\n",
        "short_cities = list(filter(lambda x:len(x) < 10, cities))\n",
        "print(short_cities)"
      ],
      "execution_count": 4,
      "outputs": [
        {
          "output_type": "stream",
          "text": [
            "['Chicago', 'Denver', 'Boston']\n"
          ],
          "name": "stdout"
        }
      ]
    },
    {
      "cell_type": "code",
      "metadata": {
        "id": "OnFDhA4FTHH6"
      },
      "source": [
        ""
      ],
      "execution_count": null,
      "outputs": []
    }
  ]
}