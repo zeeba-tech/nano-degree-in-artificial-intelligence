{
  "nbformat": 4,
  "nbformat_minor": 0,
  "metadata": {
    "colab": {
      "name": "Github -lesson-1-version control in daily use.ipynb",
      "provenance": [],
      "collapsed_sections": [],
      "authorship_tag": "ABX9TyNYEjgEW5qGSiu/vfol807r",
      "include_colab_link": true
    },
    "kernelspec": {
      "name": "python3",
      "display_name": "Python 3"
    },
    "language_info": {
      "name": "python"
    }
  },
  "cells": [
    {
      "cell_type": "markdown",
      "metadata": {
        "id": "view-in-github",
        "colab_type": "text"
      },
      "source": [
        "<a href=\"https://colab.research.google.com/github/zeeba-tech/nano-degree-in-artificial-intelligence/blob/main/Github_lesson_1_version_control_in_daily_use.ipynb\" target=\"_parent\"><img src=\"https://colab.research.google.com/assets/colab-badge.svg\" alt=\"Open In Colab\"/></a>"
      ]
    },
    {
      "cell_type": "markdown",
      "metadata": {
        "id": "7l7zsOg2sKd-"
      },
      "source": [
        "Version Control Is Everywhere\n",
        "My job revolves around working with documents. I create new documents all the time, I fill them with information (hopefully informative information!) and then edit...edit...edit! Is your job like this? Perhaps it's not documents of text, but you're probably working with data in some form or another that changes over time.\n",
        "\n",
        "Now you might not think that you're using version control when working with documents, and you'd be right...sort of. You're not actively maintaining different versions of a document as you write it. But that doesn't mean there aren't different versions of the document. The computer is keeping track of the different versions for you!\n",
        "\n",
        "Don't believe me? Aside from pondering your propensity towards doubting, let's prove I'm right:\n",
        "\n",
        "open up your favorite text editor/code editor\n",
        "type some content (how about \"version control is dull!\")\n",
        "change one of the words in you wrote (e.g. change \"dull\" to \"life-changing awesome\")\n",
        "now (here it comes…!) press cmd + z or ctrl + z\n",
        "💥 Version control in action! (See?...told you I wasn't lying) I bet you use the \"undo\" command all the time. I know that I sure do!\n",
        "\n",
        "Practically every application I've ever used has an undo feature. You can think of this as a form of version control, but it's a rather limited form of version control. Let's look at a more powerful form by checking out a Google Docs document.\n",
        "\n",
        "A Screenshot of The Google Doc outline for this Git Course\n",
        "The Google Doc outline for this Git Course.\n",
        "\n",
        "If you've ever written in a Google doc, have you noticed the small gray text at the top that tells you about the status of the document? Ever noticed that as you type, it's actively saving the document? Then, when you finish typing, it tells you that the document has saved.\n",
        "\n",
        "Status of a Google Docs document. The status says \"Saving…\" while the document is being edited, and changes to \"All changes saved in Drive\" after the content is saved.\n",
        "Status of a Google Docs document. The status says \"Saving…\" while the document is being edited, and changes to \"All changes saved in Drive\" after the content is saved.\n",
        "\n",
        "The real question is, did you know that is a link that you can click on? Wanna see for yourself? Try it out in one of your own Google Docs.\n",
        "\n",
        "Clicking on the link takes you to a \"Revision history\" page. (Ooo! Did you notice the word \"revision\"? The word \"version\" is a synonym for \"revision\"!)\n",
        "\n",
        "\n",
        "Revision History Isn't Powerful Enough\n",
        "Google Docs' Revision history page is incredibly powerful! I've used it on several occasions to salvage text that I'd written at one point, erased, and then realized I actually did want to keep.\n",
        "\n",
        "But for all its ability, it's not as powerful as we'd like. What's it missing? A few that I can think of are:\n",
        "\n",
        "the ability to label a change\n",
        "the ability to give a detailed explanation of why a change was made\n",
        "the ability to move between different versions of the same document\n",
        "the ability to undo change A, make edit B, then get back change A without affecting edit B\n",
        "The version control tool, Git, can do all of those things - and more!!! (bet you didn't see that coming!) So have I sold you yet on the awesomeness that is Git? I hope so, cause we're about to dive into it in the next section.\n",
        "\n",
        ";"
      ]
    },
    {
      "cell_type": "code",
      "metadata": {
        "id": "r-BnOjRor_Yo"
      },
      "source": [
        ""
      ],
      "execution_count": null,
      "outputs": []
    }
  ]
}