{
  "nbformat": 4,
  "nbformat_minor": 0,
  "metadata": {
    "colab": {
      "name": "Lesson-7/A couple of notes about OOPs.ipynb",
      "provenance": [],
      "collapsed_sections": [],
      "authorship_tag": "ABX9TyMccCWc51hgjDchQLFnn/rS",
      "include_colab_link": true
    },
    "kernelspec": {
      "name": "python3",
      "display_name": "Python 3"
    },
    "language_info": {
      "name": "python"
    }
  },
  "cells": [
    {
      "cell_type": "markdown",
      "metadata": {
        "id": "view-in-github",
        "colab_type": "text"
      },
      "source": [
        "<a href=\"https://colab.research.google.com/github/zeeba-tech/nano-degree-in-artificial-intelligence/blob/main/Lesson_7_A_couple_of_notes_about_OOPs.ipynb\" target=\"_parent\"><img src=\"https://colab.research.google.com/assets/colab-badge.svg\" alt=\"Open In Colab\"/></a>"
      ]
    },
    {
      "cell_type": "code",
      "metadata": {
        "id": "W7nrk1cLRYHq"
      },
      "source": [
        "'''Set and Get methods\n",
        "The last part of the video mentioned that accessing attributes in Python can be somewhat different than in other programming languages like Java and C++. This section goes into further detail.\n",
        "\n",
        "The shirt class has a method to change the price of the shirt: shirt_one.change_price(20). In Python, you can also change the values of an attribute with the following syntax:\n",
        "\n",
        "shirt_one.price = 10\n",
        "shirt_one.price = 20\n",
        "shirt_one.color = 'red'\n",
        "shirt_one.size = 'M'\n",
        "shirt_one.style = 'long_sleeve'\n",
        "This code accesses and changes the price, color, size and style attributes directly. Accessing attributes directly would be frowned upon in many other languages but not in Python. Instead, the general object-oriented programming convention is to use methods to access attributes or change attribute values. These methods are called set and get methods or setter and getter methods.\n",
        "\n",
        "A get method is for obtaining an attribute value. A set method is for changing an attribute value. If you were writing a Shirt class, the code could look like this:\n",
        "\n",
        "class Shirt:\n",
        "\n",
        "    def __init__(self, shirt_color, shirt_size, shirt_style, shirt_price):\n",
        "        self._price = shirt_price\n",
        "\n",
        "    def get_price(self):\n",
        "      return self._price\n",
        "\n",
        "    def set_price(self, new_price):\n",
        "      self._price = new_price\n",
        "Instantiating and using an object might look like this:\n",
        "\n",
        "shirt_one = Shirt('yellow', 'M', 'long-sleeve', 15)\n",
        "print(shirt_one.get_price())\n",
        "shirt_one.set_price(10)\n",
        "In the class definition, the underscore in front of price is a somewhat controversial Python convention. In other languages like C++ or Java, price could be explicitly labeled as a private variable. This would prohibit an object from accessing the price attribute directly like shirt_one._price = 15. However, Python does not distinguish between private and public variables like other languages. Therefore, there is some controversy about using the underscore convention as well as get and set methods in Python. Why use get and set methods in Python when Python wasn't designed to use them?\n",
        "\n",
        "At the same time, you'll find that some Python programmers develop object-oriented programs using get and set methods anyway. Following the Python convention, the underscore in front of price is to let a programmer know that price should only be accessed with get and set methods rather than accessing price directly with shirt_one._price. However, a programmer could still access _price directly because there is nothing in the Python language to prevent the direct access.\n",
        "\n",
        "To reiterate, a programmer could technically still do something like shirt_one._price = 10, and the code would work. But accessing price directly, in this case, would not be following the intent of how the Shirt class was designed.\n",
        "\n",
        "One of the benefits of set and get methods is that, as previously mentioned in the course, you can hide the implementation from your user. Maybe originally a variable was coded as a list and later became a dictionary. With set and get methods, you could easily change how that variable gets accessed. Without set and get methods, you'd have to go to every place in the code that accessed the variable directly and change the code.\n",
        "\n",
        "You can read more about get and set methods in Python on this Python Tutorial site.\n",
        "\n",
        "A Note about Attributes\n",
        "There are some drawbacks to accessing attributes directly versus writing a method for accessing attributes.\n",
        "\n",
        "In terms of object-oriented programming, the rules in Python are a bit looser than in other programming languages. As previously mentioned, in some languages, like C++, you can explicitly state whether or not an object should be allowed to change or access an attribute's values directly. Python does not have this option.\n",
        "\n",
        "Why might it be better to change a value with a method instead of directly? Changing values via a method gives you more flexibility in the long-term. What if the units of measurement change, like the store was originally meant to work in US dollars and now has to handle Euros? Here's an example:\n",
        "\n",
        "Example Dollars versus Euros\n",
        "If you've changed attribute values directly, you'll have to go through your code and find all the places where US dollars were used, like:\n",
        "\n",
        "shirt_one.price = 10 # US dollars\n",
        "and then manually change to Euros\n",
        "\n",
        "shirt_one.price = 8 # Euros\n",
        "If you had used a method, then you would only have to change the method to convert from dollars to Euros.\n",
        "\n",
        "\n",
        "def change_price(self, new_price):\n",
        "    self.price = new_price * 0.81 # convert dollars to Euros\n",
        "\n",
        "shirt_one.change_price(10)\n",
        "For the purposes of this introduction to object-oriented programming, you will not need to worry about updating attributes directly versus with a method; however, if you decide to further your studies of object-oriented programming, especially in another language such as C++ or Java, you'll have to take this into consideration.\n",
        "\n",
        "Modularized Code\n",
        "Thus far in the lesson, all of the code has been in Jupyter Notebooks. For example, in the previous exercise, a code cell loaded the Shirt class, which gave you access to the Shirt class throughout the rest of the notebook; however, if you were developing a software program, you would want to modularize this code.\n",
        "\n",
        "You would put the Shirt class into its own Python script called, say, shirt.py. And then in another Python script, you would import the Shirt class with a line like: from shirt import Shirt.\n",
        "\n",
        "For now, as you get used to OOP syntax, you'll be completing exercises in Jupyter notebooks. But midway through the lesson, you'll modularize object-oriented code into separate files.\n",
        "\n",
        "'''"
      ],
      "execution_count": null,
      "outputs": []
    },
    {
      "cell_type": "code",
      "metadata": {
        "colab": {
          "base_uri": "https://localhost:8080/"
        },
        "id": "oGLlJ2FJz-S-",
        "outputId": "945ceffa-85fc-4940-be02-2cdae0c3625c"
      },
      "source": [
        "### TODO:\n",
        "#   - code a Pants class with the following attributes\n",
        "#   - color (string) eg 'red', 'yellow', 'orange'\n",
        "#   - waist_size (integer) eg 8, 9, 10, 32, 33, 34\n",
        "#   - length (integer) eg 27, 28, 29, 30, 31\n",
        "#   - price (float) eg 9.28\n",
        "\n",
        "### TODO: Declare the Pants Class \n",
        "\n",
        "### TODO: write an __init__ function to initialize the attributes\n",
        "\n",
        "### TODO: write a change_price method:\n",
        "#    Args:\n",
        "#        new_price (float): the new price of the shirt\n",
        "#    Returns:\n",
        "#        None\n",
        "\n",
        "### TODO: write a discount method:\n",
        "#    Args:\n",
        "#        discount (float): a decimal value for the discount. \n",
        "#            For example 0.05 for a 5% discount.\n",
        "#\n",
        "#    Returns:\n",
        "#        float: the discounted price\n",
        "\n",
        "\n",
        "class Shirt:\n",
        "\n",
        "    def __init__(self, shirt_color, shirt_size, shirt_style, shirt_price):\n",
        "        self._price = shirt_price\n",
        "\n",
        "    def get_price(self):\n",
        "      return self._price\n",
        "\n",
        "    def set_price(self, new_price):\n",
        "      self._price = new_price\n",
        "\n",
        "\n",
        "shirt_one = Shirt('yellow', 'M', 'long-sleeve', 15)\n",
        "print(shirt_one.get_price())\n",
        "shirt_one.set_price(10)\n"
      ],
      "execution_count": 1,
      "outputs": [
        {
          "output_type": "stream",
          "text": [
            "15\n"
          ],
          "name": "stdout"
        }
      ]
    },
    {
      "cell_type": "code",
      "metadata": {
        "colab": {
          "base_uri": "https://localhost:8080/"
        },
        "id": "XJ4vX7qtBjaO",
        "outputId": "bf882895-7b00-48c2-cf88-0fb308898767"
      },
      "source": [
        "class Pants:\n",
        "    def __init__(self,color,waist_size,length,price):\n",
        "        self.color=color\n",
        "        self.waist_size=waist_size\n",
        "        self.length=length\n",
        "        self.price=price\n",
        "        \n",
        "    def change_price(self,new_price):\n",
        "        self.price=new_price\n",
        "        \n",
        "    def discount(self,discount):\n",
        "        return self.price *(1-discount)\n",
        "    \n",
        "  \n",
        "pants_one=Pants(\"red\",8,27,9.28)\n",
        "print(pants_one.color)\n",
        "pants_one.change_price(10)\n",
        "print(pants_one.price)\n",
        "print(pants_one.discount(.05))"
      ],
      "execution_count": 2,
      "outputs": [
        {
          "output_type": "stream",
          "text": [
            "red\n",
            "10\n",
            "9.5\n"
          ],
          "name": "stdout"
        }
      ]
    },
    {
      "cell_type": "code",
      "metadata": {
        "colab": {
          "base_uri": "https://localhost:8080/"
        },
        "id": "U8mCI6jM_B9M",
        "outputId": "1fa8dc96-2cbd-46dc-9f86-1fb718f538ed"
      },
      "source": [
        "def check_results():\n",
        "    pants = Pants('red', 35, 36, 15.12)\n",
        "    assert pants.color == 'red'\n",
        "    assert pants.waist_size == 35\n",
        "    assert pants.length == 36\n",
        "    assert pants.price == 15.12\n",
        "    \n",
        "    pants.change_price(10) == 10\n",
        "    assert pants.price == 10 \n",
        "    \n",
        "    assert pants.discount(.1) == 9\n",
        "    \n",
        "    print('You made it to the end of the check. Nice job!')\n",
        "\n",
        "check_results()"
      ],
      "execution_count": 3,
      "outputs": [
        {
          "output_type": "stream",
          "text": [
            "You made it to the end of the check. Nice job!\n"
          ],
          "name": "stdout"
        }
      ]
    },
    {
      "cell_type": "code",
      "metadata": {
        "id": "YMNRyKEo_HFE"
      },
      "source": [
        "### TODO:\n",
        "#   Code a SalesPerson class with the following attributes\n",
        "#   - first_name (string), the first name of the salesperson\n",
        "#   - last_name (string), the last name of the salesperson\n",
        "#   - employee_id (int), the employee ID number like 5681923\n",
        "#   - salary (float), the monthly salary of the employee\n",
        "#   - pants_sold (list of Pants objects), \n",
        "#            pants that the salesperson has sold \n",
        "#   - total_sales (float), sum of sales of pants sold\n",
        "\n",
        "### TODO: Declare the SalesPerson Class \n",
        "\n",
        "### TODO: write an __init__ function to initialize the attributes\n",
        "###    Input Args for the __init__ function:\n",
        "#        first_name (str)\n",
        "#        last_name (str)\n",
        "#        employee_id (int)\n",
        "# .      salary (float)\n",
        "#\n",
        "# You can initialize pants_sold as an empty list\n",
        "# You can initialize total_sales to zero.\n",
        "#\n",
        "###\n",
        "\n",
        "### TODO: write a sell_pants method:\n",
        "#\n",
        "#    This method receives a Pants object and appends\n",
        "#    the object to the pants_sold attribute list\n",
        "#\n",
        "#    Args:\n",
        "#        pants (Pants object): a pants object\n",
        "#    Returns:\n",
        "#        None\n",
        "\n",
        "### TODO: write a display_sales method:\n",
        "#    \n",
        "#    This method has no input or outputs. When this method \n",
        "#    is called, the code iterates through the pants_sold list\n",
        "#    and prints out the characteristics of each pair of pants\n",
        "#    line by line. The print out should look something like this\n",
        "#\n",
        "#   color: blue, waist_size: 34, length: 34, price: 10\n",
        "#   color: red, waist_size: 36, length: 30, price: 14.15\n",
        "#\n",
        "#\n",
        "#\n",
        "###\n",
        "\n",
        "### TODO: write a calculate_sales method:\n",
        "#      This method calculates the total sales for the sales person.\n",
        "#      The method should iterate through the pants_sold attribute list\n",
        "#      and sum the prices of the pants sold. The sum should be stored\n",
        "#      in the total_sales attribute and then return the total.\n",
        "#      \n",
        "#      Args:\n",
        "#        None\n",
        "#      Returns:\n",
        "#        float: total sales\n",
        "#\n",
        "###  \n",
        "\n",
        "\n",
        "### TODO: write a calculate_commission method:\n",
        "#\n",
        "#   The salesperson receives a commission based on the total\n",
        "#   sales of pants. The method receives a percentage, and then\n",
        "#   calculate the total sales of pants based on the price,\n",
        "#   and then returns the commission as (percentage * total sales)\n",
        "#\n",
        "#    Args:\n",
        "#        percentage (float): comission percentage as a decimal\n",
        "#\n",
        "#    Returns:\n",
        "#        float: total commission\n",
        "class SalesPerson:\n",
        "    def __init__(self,first_name,last_name,employee_id,salary):\n",
        "        self.first_name=first_name\n",
        "        self.last_name=last_name\n",
        "        self.employee_id=employee_id\n",
        "        self.salary=salary\n",
        "        self.pants_sold=[]\n",
        "        self.total_sales=0\n",
        "    \n",
        "    def sell_pants(self,pants_one):\n",
        "        self.pants_sold.append(pants_one)\n",
        "        \n",
        "    def calculate_sales(self):\n",
        "         for i in self.pants_sold:\n",
        "            self.total_sales+=i.price\n",
        "         return self.total_sales\n",
        "        \n",
        "    def display_sales(self):\n",
        "        print(self.pants_sold)\n",
        "        for i in self.pants_sold:\n",
        "            print(\"color:{}, waist_size:{}, length:{}, price:{}\".format(pants_one.color,pants_one.waist_size,pants_one.length,pants_one.price))\n",
        "            \n",
        "    def calculate_commission(self,percentage):\n",
        "        return percentage*self.total_sales\n",
        "    \n",
        "person=SalesPerson(\"zeeba\",\"navas\", 2581923,5000)"
      ],
      "execution_count": 4,
      "outputs": []
    },
    {
      "cell_type": "code",
      "metadata": {
        "colab": {
          "base_uri": "https://localhost:8080/"
        },
        "id": "92Md9YVTD5VU",
        "outputId": "a62bbb0d-820d-4bbc-8cea-9aab5eb9c4ab"
      },
      "source": [
        "#Run the code cell below to check results\n",
        "#If you run the next code cell and get an error, then revise your code until the code cell doesn't output anything.\n",
        "\n",
        "def check_results():\n",
        "    pants_one = Pants('red', 35, 36, 15.12)\n",
        "    pants_two = Pants('blue', 40, 38, 24.12)\n",
        "    pants_three = Pants('tan', 28, 30, 8.12)\n",
        "    \n",
        "    salesperson = SalesPerson('Amy', 'Gonzalez', 2581923, 40000)\n",
        "    \n",
        "    assert salesperson.first_name == 'Amy'\n",
        "    assert salesperson.last_name == 'Gonzalez'\n",
        "    assert salesperson.employee_id == 2581923\n",
        "    assert salesperson.salary == 40000\n",
        "    assert salesperson.pants_sold == []\n",
        "    assert salesperson.total_sales == 0\n",
        "    \n",
        "    salesperson.sell_pants(pants_one)\n",
        "    salesperson.pants_sold[0] == pants_one.color\n",
        "    \n",
        "    salesperson.sell_pants(pants_two)\n",
        "    salesperson.sell_pants(pants_three)\n",
        "    \n",
        "    assert len(salesperson.pants_sold) == 3\n",
        "    assert round(salesperson.calculate_sales(),2) == 47.36\n",
        "    assert round(salesperson.calculate_commission(.1),2) == 4.74\n",
        "    \n",
        "    print('Great job, you made it to the end of the code checks!')\n",
        "    \n",
        "check_results()\n"
      ],
      "execution_count": 9,
      "outputs": [
        {
          "output_type": "stream",
          "text": [
            "Great job, you made it to the end of the code checks!\n"
          ],
          "name": "stdout"
        }
      ]
    },
    {
      "cell_type": "code",
      "metadata": {
        "colab": {
          "base_uri": "https://localhost:8080/",
          "height": 132
        },
        "id": "HWHr-rh-EAXD",
        "outputId": "e2e5e76f-d61f-4352-cb51-fd0aaf7b3af2"
      },
      "source": [
        "#Check display_sales() method\n",
        "#If you run the code cell below, you should get output similar to this:\n",
        "'''\n",
        "color: red, waist_size: 35, length: 36, price: 15.12\n",
        "color: blue, waist_size: 40, length: 38, price: 24.12\n",
        "color: tan, waist_size: 28, length: 30, price: 8.12\n",
        ")'''\n",
        "pants_one = Pants('red', 35, 36, 15.12)\n",
        "pants_two = Pants('blue', 40, 38, 24.12)\n",
        "pants_three = Pants('tan', 28, 30, 8.12)\n",
        "​\n",
        "salesperson = SalesPerson('Amy', 'Gonzalez', 2581923, 40000)\n",
        "​\n",
        "salesperson.sell_pants(pants_one)    \n",
        "salesperson.sell_pants(pants_two)\n",
        "salesperson.sell_pants(pants_three)\n",
        "​\n",
        "salesperson.display_sales()"
      ],
      "execution_count": 10,
      "outputs": [
        {
          "output_type": "error",
          "ename": "SyntaxError",
          "evalue": "ignored",
          "traceback": [
            "\u001b[0;36m  File \u001b[0;32m\"<ipython-input-10-5b20b1cdc5b6>\"\u001b[0;36m, line \u001b[0;32m11\u001b[0m\n\u001b[0;31m    ​\u001b[0m\n\u001b[0m    ^\u001b[0m\n\u001b[0;31mSyntaxError\u001b[0m\u001b[0;31m:\u001b[0m invalid character in identifier\n"
          ]
        }
      ]
    },
    {
      "cell_type": "code",
      "metadata": {
        "id": "DUuqkCABEEYR"
      },
      "source": [
        ""
      ],
      "execution_count": null,
      "outputs": []
    }
  ]
}