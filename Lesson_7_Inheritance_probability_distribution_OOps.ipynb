{
  "nbformat": 4,
  "nbformat_minor": 0,
  "metadata": {
    "colab": {
      "name": "Lesson-7/Inheritance probability distribution-OOps.ipynb",
      "provenance": [],
      "collapsed_sections": [],
      "authorship_tag": "ABX9TyNgO56Ylmrj9kWHlwvVQaPs",
      "include_colab_link": true
    },
    "kernelspec": {
      "name": "python3",
      "display_name": "Python 3"
    },
    "language_info": {
      "name": "python"
    }
  },
  "cells": [
    {
      "cell_type": "markdown",
      "metadata": {
        "id": "view-in-github",
        "colab_type": "text"
      },
      "source": [
        "<a href=\"https://colab.research.google.com/github/zeeba-tech/nano-degree-in-artificial-intelligence/blob/main/Lesson_7_Inheritance_probability_distribution_OOps.ipynb\" target=\"_parent\"><img src=\"https://colab.research.google.com/assets/colab-badge.svg\" alt=\"Open In Colab\"/></a>"
      ]
    },
    {
      "cell_type": "code",
      "metadata": {
        "id": "pfuJpeCkD_pn"
      },
      "source": [
        "'''Inheritance with the Gaussian Class\n",
        "To give another example of inheritance, take a look at the code in this Jupyter notebook. The Gaussian distribution code is refactored into a generic Distribution class and a Gaussian distribution class. Read through the code in this Jupyter notebook to see how the code works.\n",
        "\n",
        "The Distribution class takes care of the initialization and the read_data_file method. Then the rest of the Gaussian code is in the Gaussian class. You'll later use this Distribution class in an exercise at the end of the lesson.\n",
        "\n",
        "Run the code in each cell of this Jupyter notebook. This is a code demonstration, so you do not need to write any code.'''"
      ],
      "execution_count": null,
      "outputs": []
    },
    {
      "cell_type": "code",
      "metadata": {
        "id": "0UV267nGJCot"
      },
      "source": [
        "class Distribution:\n",
        "    \n",
        "    def __init__(self, mu=0, sigma=1):\n",
        "    \n",
        "        \"\"\" Generic distribution class for calculating and \n",
        "        visualizing a probability distribution.\n",
        "    \n",
        "        Attributes:\n",
        "            mean (float) representing the mean value of the distribution\n",
        "            stdev (float) representing the standard deviation of the distribution\n",
        "            data_list (list of floats) a list of floats extracted from the data file\n",
        "            \"\"\"\n",
        "        \n",
        "        self.mean = mu\n",
        "        self.stdev = sigma\n",
        "        self.data = []\n",
        "\n",
        "\n",
        "    def read_data_file(self, file_name):\n",
        "    \n",
        "        \"\"\"Function to read in data from a txt file. The txt file should have\n",
        "        one number (float) per line. The numbers are stored in the data attribute.\n",
        "                \n",
        "        Args:\n",
        "            file_name (string): name of a file to read from\n",
        "        \n",
        "        Returns:\n",
        "            None\n",
        "        \n",
        "        \"\"\"\n",
        "            \n",
        "        with open(file_name) as file:\n",
        "            data_list = []\n",
        "            line = file.readline()\n",
        "            while line:\n",
        "                data_list.append(int(line))\n",
        "                line = file.readline()\n",
        "        file.close()\n",
        "    \n",
        "        self.data = data_list"
      ],
      "execution_count": 1,
      "outputs": []
    },
    {
      "cell_type": "code",
      "metadata": {
        "id": "QZx-Ci1QJV28"
      },
      "source": [
        "import math\n",
        "import matplotlib.pyplot as plt\n",
        "\n",
        "class Gaussian(Distribution):\n",
        "    \"\"\" Gaussian distribution class for calculating and \n",
        "    visualizing a Gaussian distribution.\n",
        "    \n",
        "    Attributes:\n",
        "        mean (float) representing the mean value of the distribution\n",
        "        stdev (float) representing the standard deviation of the distribution\n",
        "        data_list (list of floats) a list of floats extracted from the data file\n",
        "            \n",
        "    \"\"\"\n",
        "    def __init__(self, mu=0, sigma=1):\n",
        "        \n",
        "        Distribution.__init__(self, mu, sigma)\n",
        "    \n",
        "        \n",
        "    \n",
        "    def calculate_mean(self):\n",
        "    \n",
        "        \"\"\"Function to calculate the mean of the data set.\n",
        "        \n",
        "        Args: \n",
        "            None\n",
        "        \n",
        "        Returns: \n",
        "            float: mean of the data set\n",
        "    \n",
        "        \"\"\"\n",
        "                    \n",
        "        avg = 1.0 * sum(self.data) / len(self.data)\n",
        "        \n",
        "        self.mean = avg\n",
        "        \n",
        "        return self.mean\n",
        "\n",
        "\n",
        "\n",
        "    def calculate_stdev(self, sample=True):\n",
        "\n",
        "        \"\"\"Function to calculate the standard deviation of the data set.\n",
        "        \n",
        "        Args: \n",
        "            sample (bool): whether the data represents a sample or population\n",
        "        \n",
        "        Returns: \n",
        "            float: standard deviation of the data set\n",
        "    \n",
        "        \"\"\"\n",
        "\n",
        "        if sample:\n",
        "            n = len(self.data) - 1\n",
        "        else:\n",
        "            n = len(self.data)\n",
        "    \n",
        "        mean = self.calculate_mean()\n",
        "    \n",
        "        sigma = 0\n",
        "    \n",
        "        for d in self.data:\n",
        "            sigma += (d - mean) ** 2\n",
        "        \n",
        "        sigma = math.sqrt(sigma / n)\n",
        "    \n",
        "        self.stdev = sigma\n",
        "        \n",
        "        return self.stdev\n",
        "        \n",
        "        \n",
        "        \n",
        "    def plot_histogram(self):\n",
        "        \"\"\"Function to output a histogram of the instance variable data using \n",
        "        matplotlib pyplot library.\n",
        "        \n",
        "        Args:\n",
        "            None\n",
        "            \n",
        "        Returns:\n",
        "            None\n",
        "        \"\"\"\n",
        "        plt.hist(self.data)\n",
        "        plt.title('Histogram of Data')\n",
        "        plt.xlabel('data')\n",
        "        plt.ylabel('count')\n",
        "        \n",
        "        \n",
        "        \n",
        "    def pdf(self, x):\n",
        "        \"\"\"Probability density function calculator for the gaussian distribution.\n",
        "        \n",
        "        Args:\n",
        "            x (float): point for calculating the probability density function\n",
        "            \n",
        "        \n",
        "        Returns:\n",
        "            float: probability density function output\n",
        "        \"\"\"\n",
        "        \n",
        "        return (1.0 / (self.stdev * math.sqrt(2*math.pi))) * math.exp(-0.5*((x - self.mean) / self.stdev) ** 2)\n",
        "        \n",
        "\n",
        "    def plot_histogram_pdf(self, n_spaces = 50):\n",
        "\n",
        "        \"\"\"Function to plot the normalized histogram of the data and a plot of the \n",
        "        probability density function along the same range\n",
        "        \n",
        "        Args:\n",
        "            n_spaces (int): number of data points \n",
        "        \n",
        "        Returns:\n",
        "            list: x values for the pdf plot\n",
        "            list: y values for the pdf plot\n",
        "            \n",
        "        \"\"\"\n",
        "        \n",
        "        mu = self.mean\n",
        "        sigma = self.stdev\n",
        "\n",
        "        min_range = min(self.data)\n",
        "        max_range = max(self.data)\n",
        "        \n",
        "         # calculates the interval between x values\n",
        "        interval = 1.0 * (max_range - min_range) / n_spaces\n",
        "\n",
        "        x = []\n",
        "        y = []\n",
        "        \n",
        "        # calculate the x values to visualize\n",
        "        for i in range(n_spaces):\n",
        "            tmp = min_range + interval*i\n",
        "            x.append(tmp)\n",
        "            y.append(self.pdf(tmp))\n",
        "\n",
        "        # make the plots\n",
        "        fig, axes = plt.subplots(2,sharex=True)\n",
        "        fig.subplots_adjust(hspace=.5)\n",
        "        axes[0].hist(self.data, density=True)\n",
        "        axes[0].set_title('Normed Histogram of Data')\n",
        "        axes[0].set_ylabel('Density')\n",
        "\n",
        "        axes[1].plot(x, y)\n",
        "        axes[1].set_title('Normal Distribution for \\n Sample Mean and Sample Standard Deviation')\n",
        "        axes[0].set_ylabel('Density')\n",
        "        plt.show()\n",
        "\n",
        "        return x, y\n",
        "        \n",
        "    def __add__(self, other):\n",
        "        \n",
        "        \"\"\"Function to add together two Gaussian distributions\n",
        "        \n",
        "        Args:\n",
        "            other (Gaussian): Gaussian instance\n",
        "            \n",
        "        Returns:\n",
        "            Gaussian: Gaussian distribution\n",
        "            \n",
        "        \"\"\"\n",
        "        \n",
        "        result = Gaussian()\n",
        "        result.mean = self.mean + other.mean\n",
        "        result.stdev = math.sqrt(self.stdev ** 2 + other.stdev ** 2)\n",
        "        \n",
        "        return result\n",
        "        \n",
        "        \n",
        "    def __repr__(self):\n",
        "    \n",
        "        \"\"\"Function to output the characteristics of the Gaussian instance\n",
        "        \n",
        "        Args:\n",
        "            None\n",
        "        \n",
        "        Returns:\n",
        "            string: characteristics of the Gaussian\n",
        "        \n",
        "        \"\"\"\n",
        "        \n",
        "        return \"mean {}, standard deviation {}\".format(self.mean, self.stdev)"
      ],
      "execution_count": 2,
      "outputs": []
    },
    {
      "cell_type": "code",
      "metadata": {
        "colab": {
          "base_uri": "https://localhost:8080/",
          "height": 360
        },
        "id": "QH9m9IEvJcqV",
        "outputId": "a57bccd3-ec37-4304-b0c3-4791da06fa24"
      },
      "source": [
        "# initialize two gaussian distributions\n",
        "gaussian_one = Gaussian(25, 3)\n",
        "gaussian_two = Gaussian(30, 2)\n",
        "\n",
        "# initialize a third gaussian distribution reading in a data efile\n",
        "gaussian_three = Gaussian()\n",
        "gaussian_three.read_data_file('numbers.txt')\n",
        "gaussian_three.calculate_mean()\n",
        "gaussian_three.calculate_stdev()"
      ],
      "execution_count": 3,
      "outputs": [
        {
          "output_type": "error",
          "ename": "FileNotFoundError",
          "evalue": "ignored",
          "traceback": [
            "\u001b[0;31m---------------------------------------------------------------------------\u001b[0m",
            "\u001b[0;31mFileNotFoundError\u001b[0m                         Traceback (most recent call last)",
            "\u001b[0;32m<ipython-input-3-c4596aafb703>\u001b[0m in \u001b[0;36m<module>\u001b[0;34m()\u001b[0m\n\u001b[1;32m      5\u001b[0m \u001b[0;31m# initialize a third gaussian distribution reading in a data efile\u001b[0m\u001b[0;34m\u001b[0m\u001b[0;34m\u001b[0m\u001b[0;34m\u001b[0m\u001b[0m\n\u001b[1;32m      6\u001b[0m \u001b[0mgaussian_three\u001b[0m \u001b[0;34m=\u001b[0m \u001b[0mGaussian\u001b[0m\u001b[0;34m(\u001b[0m\u001b[0;34m)\u001b[0m\u001b[0;34m\u001b[0m\u001b[0;34m\u001b[0m\u001b[0m\n\u001b[0;32m----> 7\u001b[0;31m \u001b[0mgaussian_three\u001b[0m\u001b[0;34m.\u001b[0m\u001b[0mread_data_file\u001b[0m\u001b[0;34m(\u001b[0m\u001b[0;34m'numbers.txt'\u001b[0m\u001b[0;34m)\u001b[0m\u001b[0;34m\u001b[0m\u001b[0;34m\u001b[0m\u001b[0m\n\u001b[0m\u001b[1;32m      8\u001b[0m \u001b[0mgaussian_three\u001b[0m\u001b[0;34m.\u001b[0m\u001b[0mcalculate_mean\u001b[0m\u001b[0;34m(\u001b[0m\u001b[0;34m)\u001b[0m\u001b[0;34m\u001b[0m\u001b[0;34m\u001b[0m\u001b[0m\n\u001b[1;32m      9\u001b[0m \u001b[0mgaussian_three\u001b[0m\u001b[0;34m.\u001b[0m\u001b[0mcalculate_stdev\u001b[0m\u001b[0;34m(\u001b[0m\u001b[0;34m)\u001b[0m\u001b[0;34m\u001b[0m\u001b[0;34m\u001b[0m\u001b[0m\n",
            "\u001b[0;32m<ipython-input-1-9bfefa2a6b40>\u001b[0m in \u001b[0;36mread_data_file\u001b[0;34m(self, file_name)\u001b[0m\n\u001b[1;32m     30\u001b[0m         \"\"\"\n\u001b[1;32m     31\u001b[0m \u001b[0;34m\u001b[0m\u001b[0m\n\u001b[0;32m---> 32\u001b[0;31m         \u001b[0;32mwith\u001b[0m \u001b[0mopen\u001b[0m\u001b[0;34m(\u001b[0m\u001b[0mfile_name\u001b[0m\u001b[0;34m)\u001b[0m \u001b[0;32mas\u001b[0m \u001b[0mfile\u001b[0m\u001b[0;34m:\u001b[0m\u001b[0;34m\u001b[0m\u001b[0;34m\u001b[0m\u001b[0m\n\u001b[0m\u001b[1;32m     33\u001b[0m             \u001b[0mdata_list\u001b[0m \u001b[0;34m=\u001b[0m \u001b[0;34m[\u001b[0m\u001b[0;34m]\u001b[0m\u001b[0;34m\u001b[0m\u001b[0;34m\u001b[0m\u001b[0m\n\u001b[1;32m     34\u001b[0m             \u001b[0mline\u001b[0m \u001b[0;34m=\u001b[0m \u001b[0mfile\u001b[0m\u001b[0;34m.\u001b[0m\u001b[0mreadline\u001b[0m\u001b[0;34m(\u001b[0m\u001b[0;34m)\u001b[0m\u001b[0;34m\u001b[0m\u001b[0;34m\u001b[0m\u001b[0m\n",
            "\u001b[0;31mFileNotFoundError\u001b[0m: [Errno 2] No such file or directory: 'numbers.txt'"
          ]
        }
      ]
    },
    {
      "cell_type": "code",
      "metadata": {
        "colab": {
          "base_uri": "https://localhost:8080/"
        },
        "id": "IL7RdBNkJgaC",
        "outputId": "9fb00585-5790-4bdf-8fd8-824fd44920c9"
      },
      "source": [
        "# print out the mean and standard deviations\n",
        "print(gaussian_one.mean)\n",
        "print(gaussian_two.mean)\n",
        "\n",
        "print(gaussian_one.stdev)\n",
        "print(gaussian_two.stdev)\n",
        "\n",
        "print(gaussian_three.mean)\n",
        "print(gaussian_three.stdev)"
      ],
      "execution_count": 4,
      "outputs": [
        {
          "output_type": "stream",
          "text": [
            "25\n",
            "30\n",
            "3\n",
            "2\n",
            "0\n",
            "1\n"
          ],
          "name": "stdout"
        }
      ]
    },
    {
      "cell_type": "code",
      "metadata": {
        "colab": {
          "base_uri": "https://localhost:8080/",
          "height": 308
        },
        "id": "rMbl3u5bJnHD",
        "outputId": "d9762d96-3888-4181-9da6-60eecbe58b91"
      },
      "source": [
        "# plot histogram of gaussian three\n",
        "gaussian_three.plot_histogram_pdf()"
      ],
      "execution_count": 5,
      "outputs": [
        {
          "output_type": "error",
          "ename": "ValueError",
          "evalue": "ignored",
          "traceback": [
            "\u001b[0;31m---------------------------------------------------------------------------\u001b[0m",
            "\u001b[0;31mValueError\u001b[0m                                Traceback (most recent call last)",
            "\u001b[0;32m<ipython-input-5-f75948fd24a7>\u001b[0m in \u001b[0;36m<module>\u001b[0;34m()\u001b[0m\n\u001b[1;32m      1\u001b[0m \u001b[0;31m# plot histogram of gaussian three\u001b[0m\u001b[0;34m\u001b[0m\u001b[0;34m\u001b[0m\u001b[0;34m\u001b[0m\u001b[0m\n\u001b[0;32m----> 2\u001b[0;31m \u001b[0mgaussian_three\u001b[0m\u001b[0;34m.\u001b[0m\u001b[0mplot_histogram_pdf\u001b[0m\u001b[0;34m(\u001b[0m\u001b[0;34m)\u001b[0m\u001b[0;34m\u001b[0m\u001b[0;34m\u001b[0m\u001b[0m\n\u001b[0m",
            "\u001b[0;32m<ipython-input-2-c5828978aa99>\u001b[0m in \u001b[0;36mplot_histogram_pdf\u001b[0;34m(self, n_spaces)\u001b[0m\n\u001b[1;32m    118\u001b[0m         \u001b[0msigma\u001b[0m \u001b[0;34m=\u001b[0m \u001b[0mself\u001b[0m\u001b[0;34m.\u001b[0m\u001b[0mstdev\u001b[0m\u001b[0;34m\u001b[0m\u001b[0;34m\u001b[0m\u001b[0m\n\u001b[1;32m    119\u001b[0m \u001b[0;34m\u001b[0m\u001b[0m\n\u001b[0;32m--> 120\u001b[0;31m         \u001b[0mmin_range\u001b[0m \u001b[0;34m=\u001b[0m \u001b[0mmin\u001b[0m\u001b[0;34m(\u001b[0m\u001b[0mself\u001b[0m\u001b[0;34m.\u001b[0m\u001b[0mdata\u001b[0m\u001b[0;34m)\u001b[0m\u001b[0;34m\u001b[0m\u001b[0;34m\u001b[0m\u001b[0m\n\u001b[0m\u001b[1;32m    121\u001b[0m         \u001b[0mmax_range\u001b[0m \u001b[0;34m=\u001b[0m \u001b[0mmax\u001b[0m\u001b[0;34m(\u001b[0m\u001b[0mself\u001b[0m\u001b[0;34m.\u001b[0m\u001b[0mdata\u001b[0m\u001b[0;34m)\u001b[0m\u001b[0;34m\u001b[0m\u001b[0;34m\u001b[0m\u001b[0m\n\u001b[1;32m    122\u001b[0m \u001b[0;34m\u001b[0m\u001b[0m\n",
            "\u001b[0;31mValueError\u001b[0m: min() arg is an empty sequence"
          ]
        }
      ]
    },
    {
      "cell_type": "code",
      "metadata": {
        "colab": {
          "base_uri": "https://localhost:8080/"
        },
        "id": "W8ieG8wGJumC",
        "outputId": "921d4f79-5402-41cd-a011-8073b412e1fc"
      },
      "source": [
        "# add gaussian_one and gaussian_two together\n",
        "gaussian_one + gaussian_two"
      ],
      "execution_count": 6,
      "outputs": [
        {
          "output_type": "execute_result",
          "data": {
            "text/plain": [
              "mean 55, standard deviation 3.605551275463989"
            ]
          },
          "metadata": {
            "tags": []
          },
          "execution_count": 6
        }
      ]
    },
    {
      "cell_type": "code",
      "metadata": {
        "id": "q4LzUaWeJzqZ"
      },
      "source": [
        ""
      ],
      "execution_count": null,
      "outputs": []
    }
  ]
}