{
  "nbformat": 4,
  "nbformat_minor": 0,
  "metadata": {
    "colab": {
      "name": "Github -lesson-1-Git and version control terminology.ipynb",
      "provenance": [],
      "collapsed_sections": [],
      "authorship_tag": "ABX9TyMC16ZT/bNEmacnBdHCq3pI",
      "include_colab_link": true
    },
    "kernelspec": {
      "name": "python3",
      "display_name": "Python 3"
    },
    "language_info": {
      "name": "python"
    }
  },
  "cells": [
    {
      "cell_type": "markdown",
      "metadata": {
        "id": "view-in-github",
        "colab_type": "text"
      },
      "source": [
        "<a href=\"https://colab.research.google.com/github/zeeba-tech/nano-degree-in-artificial-intelligence/blob/main/Github_lesson_1_Git_and_version_control_terminology.ipynb\" target=\"_parent\"><img src=\"https://colab.research.google.com/assets/colab-badge.svg\" alt=\"Open In Colab\"/></a>"
      ]
    },
    {
      "cell_type": "code",
      "metadata": {
        "id": "r4ZqwhaSw9wg"
      },
      "source": [
        ""
      ],
      "execution_count": null,
      "outputs": []
    },
    {
      "cell_type": "markdown",
      "metadata": {
        "id": "ZIGM5PPtxhYY"
      },
      "source": [
        "You can find the Terminology handout at the bottom of the page. The file is named Git Key Terms and is in the Course Materials section.\n",
        "\n",
        "Terminology\n",
        "Version Control System / Source Code Manager\n",
        "A version control system (abbreviated as VCS) is a tool that manages different versions of source code. A source code manager (abbreviated as SCM) is another name for a version control system.\n",
        "\n",
        "Git is an SCM (and therefore a VCS!). The URL for the Git website is https://git-scm.com/ (see how it has \"SCM\" directly in its domain!).\n",
        "\n",
        "Commit\n",
        "Git thinks of its data like a set of snapshots of a mini filesystem. Every time you commit (save the state of your project in Git), it basically takes a picture of what all your files look like at that moment and stores a reference to that snapshot. You can think of it as a save point in a game - it saves your project's files and any information about them.\n",
        "\n",
        "Everything you do in Git is to help you make commits, so a commit is the fundamental unit in Git.\n",
        "\n",
        "Repository / repo\n",
        "A repository is a directory which contains your project work, as well as a few files (hidden by default on Mac OS X) which are used to communicate with Git. Repositories can exist either locally on your computer or as a remote copy on another computer. A repository is made up of commits.\n",
        "\n",
        "Working Directory\n",
        "The Working Directory is the files that you see in your computer's file system. When you open your project files up on a code editor, you're working with files in the Working Directory.\n",
        "\n",
        "This is in contrast to the files that have been saved (in commits!) in the repository.\n",
        "\n",
        "When working with Git, the Working Directory is also different from the command line's concept of the current working directory which is the directory that your shell is \"looking at\" right now.\n",
        "\n",
        "Checkout\n",
        "A checkout is when content in the repository has been copied to the Working Directory.\n",
        "\n",
        "Staging Area / Staging Index / Index\n",
        "A file in the Git directory that stores information about what will go into your next commit. You can think of the staging area as a prep table where Git will take the next commit. Files on the Staging Index are poised to be added to the repository.\n",
        "\n",
        "SHA\n",
        "A SHA is basically an ID number for each commit. Here's what a commit's SHA might look like: e2adf8ae3e2e4ed40add75cc44cf9d0a869afeb6.\n",
        "\n",
        "It is a 40-character string composed of characters (0–9 and a–f) and calculated based on the contents of a file or directory structure in Git. \"SHA\" is shorthand for \"Secure Hash Algorithm\". If you're interested in learning about hashes, check out our Intro to Computer Science course.\n",
        "\n",
        "Branch\n",
        "A branch is when a new line of development is created that diverges from the main line of development. This alternative line of development can continue without altering the main line.\n",
        "\n",
        "Going back to the example of save point in a game, you can think of a branch as where you make a save point in your game and then decide to try out a risky move in the game. If the risky move doesn't pan out, then you can just go back to the save point. The key thing that makes branches incredibly powerful is that you can make save points on one branch, and then switch to a different branch and make save points there, too.\n",
        "\n",
        "With this terminology in mind, let's take a high-level look at how we'll be using Git by looking at the typical workflow when working with version control.\n",
        "\n",
        "Play Video\n",
        "QUIZ QUESTION\n",
        "The HTML file has HTML and CSS changes on the Staging Index and an additional HTML change in the Working Directory. From what you've learned so far with how committing works, what do you think will get committed if a commit were made right now?\n",
        "\n",
        "\n",
        "\n",
        "the HTML and CSS file changes on the Staging Index\n",
        "\n",
        "\n",
        "Play Video\n",
        "Play Video\n",
        "Supporting Materials\n",
        "Git Terms PDF\n",
        ";"
      ]
    }
  ]
}