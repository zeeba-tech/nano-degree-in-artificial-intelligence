{
  "nbformat": 4,
  "nbformat_minor": 0,
  "metadata": {
    "colab": {
      "name": "Lesson-7/-oops/Class,Object,Method,Attribute.ipynb",
      "provenance": [],
      "collapsed_sections": [],
      "authorship_tag": "ABX9TyPsooYN1ykNZRoa1vRF+TgQ",
      "include_colab_link": true
    },
    "kernelspec": {
      "name": "python3",
      "display_name": "Python 3"
    },
    "language_info": {
      "name": "python"
    }
  },
  "cells": [
    {
      "cell_type": "markdown",
      "metadata": {
        "id": "view-in-github",
        "colab_type": "text"
      },
      "source": [
        "<a href=\"https://colab.research.google.com/github/zeeba-tech/nano-degree-in-artificial-intelligence/blob/main/Lesson_7_oops_Class%2CObject%2CMethod%2CAttribute.ipynb\" target=\"_parent\"><img src=\"https://colab.research.google.com/assets/colab-badge.svg\" alt=\"Open In Colab\"/></a>"
      ]
    },
    {
      "cell_type": "code",
      "metadata": {
        "id": "QJz9wQ9w7GtJ"
      },
      "source": [
        "Object-Oriented Programming (OOP) Vocabulary\n",
        "class - a blueprint consisting of methods and attributes\n",
        "object - an instance of a class. It can help to think of objects as something in the real world like a yellow pencil, a small dog, a blue shirt, etc. However, as you'll see later in the lesson, objects can be more abstract.\n",
        "attribute - a descriptor or characteristic. Examples would be color, length, size, etc. These attributes can take on specific values like blue, 3 inches, large, etc.\n",
        "method - an action that a class or object could take\n",
        "OOP - a commonly used abbreviation for object-oriented programming\n",
        "encapsulation - one of the fundamental ideas behind object-oriented programming is called encapsulation: you can combine functions and data all into a single entity. In object-oriented programming, this single entity is called a class. Encapsulation allows you to hide implementation details much like how the scikit-learn package hides the implementation of machine learning algorithms.\n",
        "In English, you might hear an attribute described as a property, description, feature, quality, trait, or characteristic. All of these are saying the same thing.\n",
        "\n",
        "Here is a reminder of how a class, object, attributes and methods relate to each other.\n",
        "\n",
        "classes versus objects\n",
        "A class is a blueprint consisting of attributes and methods.\n",
        "\n",
        "QUIZ QUESTION\n",
        "Match the vocabulary term on the left with the examples on the right.\n",
        "\n",
        "Submit to check your answer choices!\n",
        "TERM\n",
        "\n",
        "EXAMPLES\n",
        "\n",
        "Object-stephen markin,angela merkel,brad pitt\n",
        "\n",
        "\n",
        "Class-scientist,chancellor,actor\n",
        "\n",
        "\n",
        "Attribute-color,size,shape\n",
        "\n",
        "\n",
        "Method-to rain,to ring,to ripen\n",
        "\n",
        "\n",
        "Value-gray,large,round\n",
        "\n",
        "\n"
      ],
      "execution_count": null,
      "outputs": []
    }
  ]
}