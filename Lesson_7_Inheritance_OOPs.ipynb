{
  "nbformat": 4,
  "nbformat_minor": 0,
  "metadata": {
    "colab": {
      "name": "Lesson-7/Inheritance-OOPs.ipynb",
      "provenance": [],
      "collapsed_sections": [],
      "authorship_tag": "ABX9TyNWP0Fw4jvm2kve2aGUCET6",
      "include_colab_link": true
    },
    "kernelspec": {
      "name": "python3",
      "display_name": "Python 3"
    },
    "language_info": {
      "name": "python"
    }
  },
  "cells": [
    {
      "cell_type": "markdown",
      "metadata": {
        "id": "view-in-github",
        "colab_type": "text"
      },
      "source": [
        "<a href=\"https://colab.research.google.com/github/zeeba-tech/nano-degree-in-artificial-intelligence/blob/main/Lesson_7_Inheritance_OOPs.ipynb\" target=\"_parent\"><img src=\"https://colab.research.google.com/assets/colab-badge.svg\" alt=\"Open In Colab\"/></a>"
      ]
    },
    {
      "cell_type": "code",
      "metadata": {
        "id": "VUwYdtPczis6"
      },
      "source": [
        "I'''inheritance Exercise Clothing\n",
        "The following code contains a Clothing parent class and two children classes: Shirt and Pants.\n",
        "\n",
        "Your job is to code a class called Blouse. Read through the code and fill out the TODOs. Then check your work with the unit tests at the bottom of the code.'''"
      ],
      "execution_count": null,
      "outputs": []
    },
    {
      "cell_type": "code",
      "metadata": {
        "id": "0sDaCwUb40SF"
      },
      "source": [
        "class Clothing:\n",
        "\n",
        "    def __init__(self, color, size, style, price):\n",
        "        self.color = color\n",
        "        self.size = size\n",
        "        self.style = style\n",
        "        self.price = price\n",
        "        \n",
        "    def change_price(self, price):\n",
        "        self.price = price\n",
        "        \n",
        "    def calculate_discount(self, discount):\n",
        "        return self.price * (1 - discount)\n",
        "    \n",
        "    def calculate_shipping(self,weight,rate):\n",
        "        weight=0.5\n",
        "        rate=3\n",
        "        return weight * rate\n",
        "        \n",
        "class Shirt(Clothing):\n",
        "    \n",
        "    def __init__(self, color, size, style, price, long_or_short):\n",
        "        \n",
        "        Clothing.__init__(self, color, size, style, price)\n",
        "        self.long_or_short = long_or_short\n",
        "    \n",
        "    def double_price(self):\n",
        "        self.price = 2*self.price\n",
        "         \n",
        "    \n",
        "class Pants(Clothing):\n",
        "\n",
        "    def __init__(self, color, size, style, price, waist):\n",
        "        \n",
        "        Clothing.__init__(self, color, size, style, price)\n",
        "        self.waist = waist\n",
        "        \n",
        "    def calculate_discount(self, discount):\n",
        "        return self.price * (1 - discount / 2)\n",
        "    \n",
        "class Blouse(Clothing):\n",
        "    def __init__(self,color, size, style, price, country_of_origin):\n",
        "        \n",
        "        Clothing.__init__(self, color, size, style, price)\n",
        "        self.country_of_origin=\"Brazil\"\n",
        "    \n",
        "    def triple_price(self):\n",
        "        self.price=3*self.price\n",
        "# TODO: Write a class called Blouse, that inherits from the Clothing class\n",
        "# and has the the following attributes and methods:\n",
        "#   attributes: color, size, style, price, country_of_origin\n",
        "#     where country_of_origin is a string that holds the name of a \n",
        "#     country\n",
        "#\n",
        "#   methods: triple_price, which has no inputs and returns three times\n",
        "#     the price of the blouse\n",
        "#\n",
        "#\n",
        "\n",
        "# TODO: Add a method to the clothing class called calculate_shipping.\n",
        "#   The method has two inputs: weight and rate. Weight is a float\n",
        "#   representing the weight of the article of clothing. Rate is a float\n",
        "#   representing the shipping weight. The method returns weight * rate\n",
        "\n",
        "x=Shirt('orange', 'M', 'stripes', 35,\"short\")\n",
        "x= Pants('black', 32, 'baggy', 60, 30)\n",
        "x=Blouse('blue', 'M', 'luxury', 40, 'Brazil')\n"
      ],
      "execution_count": 1,
      "outputs": []
    },
    {
      "cell_type": "code",
      "metadata": {
        "id": "d3T9nO09DUl1"
      },
      "source": [
        ""
      ],
      "execution_count": null,
      "outputs": []
    }
  ]
}