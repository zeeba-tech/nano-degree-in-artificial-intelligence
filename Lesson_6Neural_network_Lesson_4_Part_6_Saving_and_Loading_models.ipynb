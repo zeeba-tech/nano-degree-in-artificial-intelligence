{
  "nbformat": 4,
  "nbformat_minor": 0,
  "metadata": {
    "colab": {
      "name": "Lesson-6Neural network/Lesson-4 Part-6 Saving and Loading models.ipynb",
      "provenance": [],
      "collapsed_sections": [],
      "authorship_tag": "ABX9TyOUIzyfBwAP3kvlmgoHQB/1",
      "include_colab_link": true
    },
    "kernelspec": {
      "name": "python3",
      "display_name": "Python 3"
    },
    "language_info": {
      "name": "python"
    }
  },
  "cells": [
    {
      "cell_type": "markdown",
      "metadata": {
        "id": "view-in-github",
        "colab_type": "text"
      },
      "source": [
        "<a href=\"https://colab.research.google.com/github/zeeba-tech/nano-degree-in-artificial-intelligence/blob/main/Lesson_6Neural_network_Lesson_4_Part_6_Saving_and_Loading_models.ipynb\" target=\"_parent\"><img src=\"https://colab.research.google.com/assets/colab-badge.svg\" alt=\"Open In Colab\"/></a>"
      ]
    },
    {
      "cell_type": "markdown",
      "metadata": {
        "id": "9bu1K1lAKtmX"
      },
      "source": [
        "Saving and Loading Models\n",
        "In this notebook, I'll show you how to save and load models with PyTorch. This is important because you'll often want to load previously trained models to use in making predictions or to continue training on new data.\n"
      ]
    },
    {
      "cell_type": "code",
      "metadata": {
        "colab": {
          "base_uri": "https://localhost:8080/",
          "height": 343
        },
        "id": "LGWvkkPeKj2M",
        "outputId": "556a09e4-d970-4351-83d7-38044285a34c"
      },
      "source": [
        "%matplotlib inline\n",
        "%config InlineBackend.figure_format = 'retina'\n",
        "\n",
        "import matplotlib.pyplot as plt\n",
        "\n",
        "import torch\n",
        "from torch import nn\n",
        "from torch import optim\n",
        "import torch.nn.functional as F\n",
        "from torchvision import datasets, transforms\n",
        "\n",
        "import helper\n",
        "import fc_model"
      ],
      "execution_count": 1,
      "outputs": [
        {
          "output_type": "error",
          "ename": "ModuleNotFoundError",
          "evalue": "ignored",
          "traceback": [
            "\u001b[0;31m---------------------------------------------------------------------------\u001b[0m",
            "\u001b[0;31mModuleNotFoundError\u001b[0m                       Traceback (most recent call last)",
            "\u001b[0;32m<ipython-input-1-9e62fad6e8ac>\u001b[0m in \u001b[0;36m<module>\u001b[0;34m()\u001b[0m\n\u001b[1;32m     11\u001b[0m \u001b[0;34m\u001b[0m\u001b[0m\n\u001b[1;32m     12\u001b[0m \u001b[0;32mimport\u001b[0m \u001b[0mhelper\u001b[0m\u001b[0;34m\u001b[0m\u001b[0;34m\u001b[0m\u001b[0m\n\u001b[0;32m---> 13\u001b[0;31m \u001b[0;32mimport\u001b[0m \u001b[0mfc_model\u001b[0m\u001b[0;34m\u001b[0m\u001b[0;34m\u001b[0m\u001b[0m\n\u001b[0m",
            "\u001b[0;31mModuleNotFoundError\u001b[0m: No module named 'fc_model'",
            "",
            "\u001b[0;31m---------------------------------------------------------------------------\u001b[0;32m\nNOTE: If your import is failing due to a missing package, you can\nmanually install dependencies using either !pip or !apt.\n\nTo view examples of installing some common dependencies, click the\n\"Open Examples\" button below.\n\u001b[0;31m---------------------------------------------------------------------------\u001b[0m\n"
          ]
        }
      ]
    },
    {
      "cell_type": "code",
      "metadata": {
        "id": "gye4m5-sK0bE"
      },
      "source": [
        "# Define a transform to normalize the data\n",
        "transform = transforms.Compose([transforms.ToTensor(),\n",
        "                                transforms.Normalize((0.5,), (0.5,))])\n",
        "# Download and load the training data\n",
        "trainset = datasets.FashionMNIST('F_MNIST_data/', download=True, train=True, transform=transform)\n",
        "trainloader = torch.utils.data.DataLoader(trainset, batch_size=64, shuffle=True)\n",
        "\n",
        "# Download and load the test data\n",
        "testset = datasets.FashionMNIST('F_MNIST_data/', download=True, train=False, transform=transform)\n",
        "testloader = torch.utils.data.DataLoader(testset, batch_size=64, shuffle=True)"
      ],
      "execution_count": null,
      "outputs": []
    },
    {
      "cell_type": "markdown",
      "metadata": {
        "id": "UacJXSslK8V9"
      },
      "source": [
        "Here we can see one of the images."
      ]
    },
    {
      "cell_type": "code",
      "metadata": {
        "id": "W72ZaI4MK9Ge"
      },
      "source": [
        "image, label = next(iter(trainloader))\n",
        "helper.imshow(image[0,:]);"
      ],
      "execution_count": null,
      "outputs": []
    },
    {
      "cell_type": "markdown",
      "metadata": {
        "id": "lvgfrAMlLCd2"
      },
      "source": [
        "Train a network\n",
        "To make things more concise here, I moved the model architecture and training code from the last part to a file called fc_model. Importing this, we can easily create a fully-connected network with fc_model.Network, and train the network using fc_model.train. I'll use this model (once it's trained) to demonstrate how we can save and load models."
      ]
    },
    {
      "cell_type": "code",
      "metadata": {
        "id": "Hgulym3_LFqI"
      },
      "source": [
        "# Create the network, define the criterion and optimizer\n",
        "\n",
        "model = fc_model.Network(784, 10, [512, 256, 128])\n",
        "criterion = nn.NLLLoss()\n",
        "optimizer = optim.Adam(model.parameters(), lr=0.003)"
      ],
      "execution_count": null,
      "outputs": []
    },
    {
      "cell_type": "code",
      "metadata": {
        "id": "Dq6vxgdULIn2"
      },
      "source": [
        "fc_model.train(model, trainloader, testloader, criterion, optimizer, epochs=2)\n",
        "\n",
        "answer:\n",
        "Epoch: 1/2..  Training Loss: 0.672..  Test Loss: 0.565..  Test Accuracy: 0.813\n",
        "Epoch: 1/2..  Training Loss: 0.704..  Test Loss: 0.522..  Test Accuracy: 0.811\n",
        "Epoch: 1/2..  Training Loss: 0.670..  Test Loss: 0.526..  Test Accuracy: 0.814\n",
        "Epoch: 1/2..  Training Loss: 0.679..  Test Loss: 0.524..  Test Accuracy: 0.814\n",
        "Epoch: 1/2..  Training Loss: 0.653..  Test Loss: 0.513..  Test Accuracy: 0.821\n",
        "Epoch: 1/2..  Training Loss: 0.638..  Test Loss: 0.521..  Test Accuracy: 0.821\n",
        "Epoch: 1/2..  Training Loss: 0.675..  Test Loss: 0.530..  Test Accuracy: 0.811\n",
        "Epoch: 1/2..  Training Loss: 0.663..  Test Loss: 0.521..  Test Accuracy: 0.812\n",
        "Epoch: 1/2..  Training Loss: 0.633..  Test Loss: 0.519..  Test Accuracy: 0.816\n",
        "Epoch: 1/2..  Training Loss: 0.641..  Test Loss: 0.510..  Test Accuracy: 0.823\n",
        "Epoch: 1/2..  Training Loss: 0.660..  Test Loss: 0.531..  Test Accuracy: 0.818\n",
        "Epoch: 1/2..  Training Loss: 0.655..  Test Loss: 0.513..  Test Accuracy: 0.826\n",
        "Epoch: 1/2..  Training Loss: 0.652..  Test Loss: 0.519..  Test Accuracy: 0.817\n",
        "Epoch: 1/2..  Training Loss: 0.658..  Test Loss: 0.506..  Test Accuracy: 0.822\n",
        "Epoch: 1/2..  Training Loss: 0.668..  Test Loss: 0.518..  Test Accuracy: 0.829\n",
        "Epoch: 1/2..  Training Loss: 0.703..  Test Loss: 0.545..  Test Accuracy: 0.818\n",
        "Epoch: 1/2..  Training Loss: 0.674..  Test Loss: 0.503..  Test Accuracy: 0.822\n",
        "Epoch: 1/2..  Training Loss: 0.664..  Test Loss: 0.514..  Test Accuracy: 0.822\n",
        "Epoch: 1/2..  Training Loss: 0.712..  Test Loss: 0.515..  Test Accuracy: 0.830\n",
        "Epoch: 1/2..  Training Loss: 0.642..  Test Loss: 0.505..  Test Accuracy: 0.827\n",
        "Epoch: 1/2..  Training Loss: 0.653..  Test Loss: 0.515..  Test Accuracy: 0.827\n",
        "Epoch: 1/2..  Training Loss: 0.651..  Test Loss: 0.503..  Test Accuracy: 0.827\n",
        "Epoch: 1/2..  Training Loss: 0.715..  Test Loss: 0.515..  Test Accuracy: 0.822\n",
        "Epoch: 2/2..  Training Loss: 0.666..  Test Loss: 0.501..  Test Accuracy: 0.827\n",
        "Epoch: 2/2..  Training Loss: 0.629..  Test Loss: 0.482..  Test Accuracy: 0.830\n",
        "Epoch: 2/2..  Training Loss: 0.649..  Test Loss: 0.499..  Test Accuracy: 0.826\n",
        "Epoch: 2/2..  Training Loss: 0.656..  Test Loss: 0.471..  Test Accuracy: 0.832\n",
        "Epoch: 2/2..  Training Loss: 0.618..  Test Loss: 0.532..  Test Accuracy: 0.821\n",
        "Epoch: 2/2..  Training Loss: 0.698..  Test Loss: 0.529..  Test Accuracy: 0.803\n",
        "Epoch: 2/2..  Training Loss: 0.686..  Test Loss: 0.494..  Test Accuracy: 0.829\n",
        "Epoch: 2/2..  Training Loss: 0.667..  Test Loss: 0.502..  Test Accuracy: 0.831\n",
        "Epoch: 2/2..  Training Loss: 0.665..  Test Loss: 0.499..  Test Accuracy: 0.828\n",
        "Epoch: 2/2..  Training Loss: 0.626..  Test Loss: 0.498..  Test Accuracy: 0.824\n",
        "Epoch: 2/2..  Training Loss: 0.692..  Test Loss: 0.509..  Test Accuracy: 0.827\n",
        "Epoch: 2/2..  Training Loss: 0.651..  Test Loss: 0.502..  Test Accuracy: 0.824\n",
        "Epoch: 2/2..  Training Loss: 0.690..  Test Loss: 0.499..  Test Accuracy: 0.825\n",
        "Epoch: 2/2..  Training Loss: 0.634..  Test Loss: 0.487..  Test Accuracy: 0.835\n",
        "Epoch: 2/2..  Training Loss: 0.624..  Test Loss: 0.491..  Test Accuracy: 0.830\n",
        "Epoch: 2/2..  Training Loss: 0.653..  Test Loss: 0.495..  Test Accuracy: 0.828\n",
        "Epoch: 2/2..  Training Loss: 0.609..  Test Loss: 0.520..  Test Accuracy: 0.818\n",
        "Epoch: 2/2..  Training Loss: 0.671..  Test Loss: 0.526..  Test Accuracy: 0.816\n",
        "Epoch: 2/2..  Training Loss: 0.713..  Test Loss: 0.518..  Test Accuracy: 0.824\n",
        "Epoch: 2/2..  Training Loss: 0.655..  Test Loss: 0.522..  Test Accuracy: 0.823\n",
        "Epoch: 2/2..  Training Loss: 0.641..  Test Loss: 0.485..  Test Accuracy: 0.833\n",
        "Epoch: 2/2..  Training Loss: 0.678..  Test Loss: 0.521..  Test Accuracy: 0.829\n",
        "Epoch: 2/2..  Training Loss: 0.655..  Test Loss: 0.530..  Test Accuracy: 0.818"
      ],
      "execution_count": null,
      "outputs": []
    },
    {
      "cell_type": "markdown",
      "metadata": {
        "id": "nh-kZDtdLZ08"
      },
      "source": [
        "Saving and loading networks\n",
        "As you can imagine, it's impractical to train a network every time you need to use it. Instead, we can save trained networks then load them later to train more or use them for predictions.\n",
        "\n",
        "The parameters for PyTorch networks are stored in a model's state_dict. We can see the state dict contains the weight and bias matrices for each of our layers."
      ]
    },
    {
      "cell_type": "code",
      "metadata": {
        "id": "fKVFj2elLYPJ"
      },
      "source": [
        "print(\"Our model: \\n\\n\", model, '\\n')\n",
        "print(\"The state dict keys: \\n\\n\", model.state_dict().keys())\n",
        "\n",
        "answer:\n",
        "Our model: \n",
        "\n",
        " Network(\n",
        "  (hidden_layers): ModuleList(\n",
        "    (0): Linear(in_features=784, out_features=512, bias=True)\n",
        "    (1): Linear(in_features=512, out_features=256, bias=True)\n",
        "    (2): Linear(in_features=256, out_features=128, bias=True)\n",
        "  )\n",
        "  (output): Linear(in_features=128, out_features=10, bias=True)\n",
        "  (dropout): Dropout(p=0.5)\n",
        ") \n",
        "\n",
        "The state dict keys: \n",
        "\n",
        " odict_keys(['hidden_layers.0.weight', 'hidden_layers.0.bias', 'hidden_layers.1.weight', 'hidden_layers.1.bias', 'hidden_layers.2.weight', 'hidden_layers.2.bias', 'output.weight', 'output.bias'])"
      ],
      "execution_count": null,
      "outputs": []
    },
    {
      "cell_type": "markdown",
      "metadata": {
        "id": "0zQiD-6xLmKf"
      },
      "source": [
        "The simplest thing to do is simply save the state dict with torch.save. For example, we can save it to a file 'checkpoint.pth'."
      ]
    },
    {
      "cell_type": "code",
      "metadata": {
        "id": "1hEdL2VCLo_D"
      },
      "source": [
        "torch.save(model.state_dict(), 'checkpoint.pth')"
      ],
      "execution_count": null,
      "outputs": []
    },
    {
      "cell_type": "markdown",
      "metadata": {
        "id": "cRF-A_hcLrnb"
      },
      "source": [
        "Then we can load the state dict with torch.load"
      ]
    },
    {
      "cell_type": "code",
      "metadata": {
        "id": "HfmgAy_gLsXF"
      },
      "source": [
        "state_dict = torch.load('checkpoint.pth')\n",
        "print(state_dict.keys())\n",
        "\n",
        "answer:\n",
        "odict_keys(['hidden_layers.0.weight', 'hidden_layers.0.bias', 'hidden_layers.1.weight', 'hidden_layers.1.bias', 'hidden_layers.2.weight', 'hidden_layers.2.bias', 'output.weight', 'output.bias'])\n"
      ],
      "execution_count": null,
      "outputs": []
    },
    {
      "cell_type": "markdown",
      "metadata": {
        "id": "1tIBm3gyL0X2"
      },
      "source": [
        "And to load the state dict in to the network, you do model.load_state_dict(state_dict)."
      ]
    },
    {
      "cell_type": "code",
      "metadata": {
        "id": "BwEkClZ9L1JQ"
      },
      "source": [
        "model.load_state_dict(state_dict)"
      ],
      "execution_count": null,
      "outputs": []
    },
    {
      "cell_type": "markdown",
      "metadata": {
        "id": "rs-UlWLcL7o-"
      },
      "source": [
        "Seems pretty straightforward, but as usual it's a bit more complicated. Loading the state dict works only if the model architecture is exactly the same as the checkpoint architecture. If I create a model with a different architecture, this fails."
      ]
    },
    {
      "cell_type": "code",
      "metadata": {
        "id": "yo5oPClSL-lj"
      },
      "source": [
        " Try this\n",
        "model = fc_model.Network(784, 10, [400, 200, 100])\n",
        "# This will throw an error because the tensor sizes are wrong!\n",
        "model.load_state_dict(state_dict)\n",
        "\n",
        "answer:\n",
        "---------------------------------------------------------------------------\n",
        "RuntimeError                              Traceback (most recent call last)\n",
        "<ipython-input-13-d859c59ebec0> in <module>()\n",
        "      2 model = fc_model.Network(784, 10, [400, 200, 100])\n",
        "      3 # This will throw an error because the tensor sizes are wrong!\n",
        "----> 4 model.load_state_dict(state_dict)\n",
        "\n",
        "/opt/conda/lib/python3.6/site-packages/torch/nn/modules/module.py in load_state_dict(self, state_dict, strict)\n",
        "    719         if len(error_msgs) > 0:\n",
        "    720             raise RuntimeError('Error(s) in loading state_dict for {}:\\n\\t{}'.format(\n",
        "--> 721                                self.__class__.__name__, \"\\n\\t\".join(error_msgs)))\n",
        "    722 \n",
        "    723     def parameters(self):\n",
        "\n",
        "RuntimeError: Error(s) in loading state_dict for Network:\n",
        "\tWhile copying the parameter named \"hidden_layers.0.weight\", whose dimensions in the model are torch.Size([400, 784]) and whose dimensions in the checkpoint are torch.Size([512, 784]).\n",
        "\tWhile copying the parameter named \"hidden_layers.0.bias\", whose dimensions in the model are torch.Size([400]) and whose dimensions in the checkpoint are torch.Size([512]).\n",
        "\tWhile copying the parameter named \"hidden_layers.1.weight\", whose dimensions in the model are torch.Size([200, 400]) and whose dimensions in the checkpoint are torch.Size([256, 512]).\n",
        "\tWhile copying the parameter named \"hidden_layers.1.bias\", whose dimensions in the model are torch.Size([200]) and whose dimensions in the checkpoint are torch.Size([256]).\n",
        "\tWhile copying the parameter named \"hidden_layers.2.weight\", whose dimensions in the model are torch.Size([100, 200]) and whose dimensions in the checkpoint are torch.Size([128, 256]).\n",
        "\tWhile copying the parameter named \"hidden_layers.2.bias\", whose dimensions in the model are torch.Size([100]) and whose dimensions in the checkpoint are torch.Size([128]).\n",
        "\tWhile copying the parameter named \"output.weight\", whose dimensions in the model are torch.Size([10, 100]) and whose dimensions in the checkpoint are torch.Size([10, 128]).\n"
      ],
      "execution_count": null,
      "outputs": []
    },
    {
      "cell_type": "markdown",
      "metadata": {
        "id": "xdMka5K8MHp2"
      },
      "source": [
        "This means we need to rebuild the model exactly as it was when trained. Information about the model architecture needs to be saved in the checkpoint, along with the state dict. To do this, you build a dictionary with all the information you need to compeletely rebuild the model."
      ]
    },
    {
      "cell_type": "code",
      "metadata": {
        "id": "1GTsFjblMJ92"
      },
      "source": [
        "checkpoint = {'input_size': 784,\n",
        "              'output_size': 10,\n",
        "              'hidden_layers': [each.out_features for each in model.hidden_layers],\n",
        "              'state_dict': model.state_dict()}\n",
        "\n",
        "torch.save(checkpoint, 'checkpoint.pth')"
      ],
      "execution_count": null,
      "outputs": []
    },
    {
      "cell_type": "markdown",
      "metadata": {
        "id": "rF0lz715MRph"
      },
      "source": [
        "Now the checkpoint has all the necessary information to rebuild the trained model. You can easily make that a function if you want. Similarly, we can write a function to load checkpoints. "
      ]
    },
    {
      "cell_type": "code",
      "metadata": {
        "id": "to9F8vaSMU5m"
      },
      "source": [
        "def load_checkpoint(filepath):\n",
        "    checkpoint = torch.load(filepath)\n",
        "    model = fc_model.Network(checkpoint['input_size'],\n",
        "                             checkpoint['output_size'],\n",
        "                             checkpoint['hidden_layers'])\n",
        "    model.load_state_dict(checkpoint['state_dict'])\n",
        "    \n",
        "    return model"
      ],
      "execution_count": null,
      "outputs": []
    },
    {
      "cell_type": "code",
      "metadata": {
        "id": "EUopxNIvMXrg"
      },
      "source": [
        "model = load_checkpoint('checkpoint.pth')\n",
        "print(model)\n",
        "\n",
        "answer:\n",
        "Network(\n",
        "  (hidden_layers): ModuleList(\n",
        "    (0): Linear(in_features=784, out_features=400, bias=True)\n",
        "    (1): Linear(in_features=400, out_features=200, bias=True)\n",
        "    (2): Linear(in_features=200, out_features=100, bias=True)\n",
        "  )\n",
        "  (output): Linear(in_features=100, out_features=10, bias=True)\n",
        "  (dropout): Dropout(p=0.5)\n"
      ],
      "execution_count": null,
      "outputs": []
    }
  ]
}