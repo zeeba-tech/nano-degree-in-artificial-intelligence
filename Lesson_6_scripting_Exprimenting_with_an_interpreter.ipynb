{
  "nbformat": 4,
  "nbformat_minor": 0,
  "metadata": {
    "colab": {
      "name": "Lesson-6-scripting/Exprimenting with an interpreter.ipynb",
      "provenance": [],
      "collapsed_sections": [],
      "authorship_tag": "ABX9TyP3WoxPDMj/mjIN0Z9CPLzN",
      "include_colab_link": true
    },
    "kernelspec": {
      "name": "python3",
      "display_name": "Python 3"
    },
    "language_info": {
      "name": "python"
    }
  },
  "cells": [
    {
      "cell_type": "markdown",
      "metadata": {
        "id": "view-in-github",
        "colab_type": "text"
      },
      "source": [
        "<a href=\"https://colab.research.google.com/github/zeeba-tech/nano-degree-in-artificial-intelligence/blob/main/Lesson_6_scripting_Exprimenting_with_an_interpreter.ipynb\" target=\"_parent\"><img src=\"https://colab.research.google.com/assets/colab-badge.svg\" alt=\"Open In Colab\"/></a>"
      ]
    },
    {
      "cell_type": "code",
      "metadata": {
        "id": "b6Fv3f6XbWCF"
      },
      "source": [
        "'''Experimenting With An Interpreter\n",
        "Start your Python interactive interpreter by entering the command python in your terminal. You can type here to interact with Python directly. This is an awesome place to experiment and try bits of Python code at a time. Just enter Python code, and the output will appear on the next line.\n",
        "\n",
        ">>> type(5.23)\n",
        "<class 'float'>\n",
        "In the interpreter, the value of the last line in a prompt will be outputted automatically. If you had multiple lines where you’d want to output values, you’d still have to use print.\n",
        "\n",
        "If you start to define a function you will see a change in the prompt, to signify that this is a continuation line. You'll have to include your own indentation as you define the function.\n",
        "\n",
        ">>> def cylinder_volume(height, radius):\n",
        "...         pi = 3.14159\n",
        "...         return height * pi * radius ** 2\n",
        "A drawback of the interpreter is that it’s tricky to edit code. If you made a mistake when typing this function, or forgot to indent the body of the function, you can't use the mouse to click your cursor where you want it. You have to navigate with arrow keys to move the cursor forwards and backwards through the line itself for editing. It would be helpful for you to learn useful shortcuts for actions like moving to the beginning or end of the line.\n",
        "\n",
        "Notice I can reference any objects I defined earlier in the interpreter!\n",
        "\n",
        ">>> cylinder_volume(10, 3)\n",
        "282.7431\n",
        "One useful trick is using the up and down arrow to cycle through your recent commands at the interactive prompt. This can be useful to re-run or adapt code you've already tried.\n",
        "\n",
        "To quit the Python interactive interpreter, use the command exit() or hit ctrl-D on mac or linux, and ctrl-Z then Enter for windows.\n",
        "\n",
        "IPython\n",
        "There is actually an awesome alternative to the default Python interactive interpreter, IPython, which comes with many additional features.\n",
        "\n",
        "tab completion\n",
        "? for details about an object\n",
        "! to execute system shell commands\n",
        "syntax highlighting!\n",
        "and a lot more you can find here!\n",
        "\n",
        "'''"
      ],
      "execution_count": null,
      "outputs": []
    }
  ]
}