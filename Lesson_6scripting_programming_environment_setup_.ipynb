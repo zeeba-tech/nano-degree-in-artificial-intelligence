{
  "nbformat": 4,
  "nbformat_minor": 0,
  "metadata": {
    "colab": {
      "name": "Lesson-6scripting-programming environment setup-.ipynb",
      "provenance": [],
      "collapsed_sections": [],
      "authorship_tag": "ABX9TyPgSPtWCBXIVLrKPqqyWPtk",
      "include_colab_link": true
    },
    "kernelspec": {
      "name": "python3",
      "display_name": "Python 3"
    },
    "language_info": {
      "name": "python"
    }
  },
  "cells": [
    {
      "cell_type": "markdown",
      "metadata": {
        "id": "view-in-github",
        "colab_type": "text"
      },
      "source": [
        "<a href=\"https://colab.research.google.com/github/zeeba-tech/nano-degree-in-artificial-intelligence/blob/main/Lesson_6scripting_programming_environment_setup_.ipynb\" target=\"_parent\"><img src=\"https://colab.research.google.com/assets/colab-badge.svg\" alt=\"Open In Colab\"/></a>"
      ]
    },
    {
      "cell_type": "code",
      "metadata": {
        "id": "V67_BisWErwA"
      },
      "source": [
        "'''Configure Your Own Python Programming Setup\n",
        "Now you've seen my setup, take a moment to get yourself comfortable on your own computer.\n",
        "\n",
        "Below you will find a number of different options for code editors. We recommend for all of our courses using Atom, which will work on all operating systems. If you decide not to use Atom, for first time coders Sublime is also popular.\n",
        "\n",
        "For Mac and Linux:\n",
        "Visual Studio Code\n",
        "Atom\n",
        "Sublime Text\n",
        "emacs\n",
        "vim\n",
        "For Windows:\n",
        "Visual Studio Code\n",
        "Atom\n",
        "Sublime Text\n",
        "Notepad++\n",
        "Get your screen set up with a text editor, terminal/command line and the Udacity classroom in a web browser, so you can iterate on your Python script. Play with the display options to see what you find most comfortable to look at, and see if you can find a tab-to-four-spaces option - that'll be very useful for Python indentation.\n",
        "\n",
        "'''"
      ],
      "execution_count": null,
      "outputs": []
    }
  ]
}