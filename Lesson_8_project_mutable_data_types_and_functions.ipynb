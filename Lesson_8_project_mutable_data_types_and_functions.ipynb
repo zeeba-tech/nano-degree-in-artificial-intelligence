{
  "nbformat": 4,
  "nbformat_minor": 0,
  "metadata": {
    "colab": {
      "name": "Lesson-8-project mutable data types and functions.ipynb",
      "provenance": [],
      "collapsed_sections": [],
      "authorship_tag": "ABX9TyOPzG4zKR3VJcGPlNtxTP8+",
      "include_colab_link": true
    },
    "kernelspec": {
      "name": "python3",
      "display_name": "Python 3"
    },
    "language_info": {
      "name": "python"
    }
  },
  "cells": [
    {
      "cell_type": "markdown",
      "metadata": {
        "id": "view-in-github",
        "colab_type": "text"
      },
      "source": [
        "<a href=\"https://colab.research.google.com/github/zeeba-tech/nano-degree-in-artificial-intelligence/blob/main/Lesson_8_project_mutable_data_types_and_functions.ipynb\" target=\"_parent\"><img src=\"https://colab.research.google.com/assets/colab-badge.svg\" alt=\"Open In Colab\"/></a>"
      ]
    },
    {
      "cell_type": "code",
      "metadata": {
        "id": "jWNNBqpg54C3"
      },
      "source": [
        "#List created outside a function &passed into that function\n",
        "      # function is able to change mutable object(list)\n",
        "dogs=[\"luna\",\"ally\",\"lincoln\",\"cody\"]\n",
        "\n",
        "def animal(pets):\n",
        "  pets.pop(1)\n",
        "  pets.append(\"brutly\")\n",
        "  pets+=[\"indian dog\"]\n"
      ],
      "execution_count": 4,
      "outputs": []
    },
    {
      "cell_type": "code",
      "metadata": {
        "colab": {
          "base_uri": "https://localhost:8080/"
        },
        "id": "ZkbriIQX6oZN",
        "outputId": "1101a6d4-e85e-43fe-a898-4322a813e2e7"
      },
      "source": [
        "animal(dogs)\n",
        "print(dogs)"
      ],
      "execution_count": 5,
      "outputs": [
        {
          "output_type": "stream",
          "text": [
            "['luna', 'lincoln', 'cody', 'brutly', 'indian dog']\n"
          ],
          "name": "stdout"
        }
      ]
    },
    {
      "cell_type": "code",
      "metadata": {
        "id": "R-RT0zeX6rP3"
      },
      "source": [
        "#List created within in the function & its not returned\n",
        "\n",
        "def animals():\n",
        "  dogs=[\"luna\",\"ally\",\"lincoln\",\"cody\"]\n",
        "  pets.pop(1)\n",
        "  pets.append(\"brutly\")\n",
        "  pets+=[\"indian dog\"]"
      ],
      "execution_count": 18,
      "outputs": []
    },
    {
      "cell_type": "code",
      "metadata": {
        "colab": {
          "base_uri": "https://localhost:8080/",
          "height": 308
        },
        "id": "3FTSG7ch8aXF",
        "outputId": "cecc2910-cdc4-4864-fb5b-8654250e6206"
      },
      "source": [
        "animals()\n",
        "print()"
      ],
      "execution_count": 19,
      "outputs": [
        {
          "output_type": "error",
          "ename": "UnboundLocalError",
          "evalue": "ignored",
          "traceback": [
            "\u001b[0;31m---------------------------------------------------------------------------\u001b[0m",
            "\u001b[0;31mUnboundLocalError\u001b[0m                         Traceback (most recent call last)",
            "\u001b[0;32m<ipython-input-19-c69a933ae12c>\u001b[0m in \u001b[0;36m<module>\u001b[0;34m()\u001b[0m\n\u001b[0;32m----> 1\u001b[0;31m \u001b[0manimals\u001b[0m\u001b[0;34m(\u001b[0m\u001b[0;34m)\u001b[0m\u001b[0;34m\u001b[0m\u001b[0;34m\u001b[0m\u001b[0m\n\u001b[0m\u001b[1;32m      2\u001b[0m \u001b[0mprint\u001b[0m\u001b[0;34m(\u001b[0m\u001b[0;34m)\u001b[0m\u001b[0;34m\u001b[0m\u001b[0;34m\u001b[0m\u001b[0m\n",
            "\u001b[0;32m<ipython-input-18-ca6c68487897>\u001b[0m in \u001b[0;36manimals\u001b[0;34m()\u001b[0m\n\u001b[1;32m      3\u001b[0m \u001b[0;32mdef\u001b[0m \u001b[0manimals\u001b[0m\u001b[0;34m(\u001b[0m\u001b[0;34m)\u001b[0m\u001b[0;34m:\u001b[0m\u001b[0;34m\u001b[0m\u001b[0;34m\u001b[0m\u001b[0m\n\u001b[1;32m      4\u001b[0m   \u001b[0mdogs\u001b[0m\u001b[0;34m=\u001b[0m\u001b[0;34m[\u001b[0m\u001b[0;34m\"luna\"\u001b[0m\u001b[0;34m,\u001b[0m\u001b[0;34m\"ally\"\u001b[0m\u001b[0;34m,\u001b[0m\u001b[0;34m\"lincoln\"\u001b[0m\u001b[0;34m,\u001b[0m\u001b[0;34m\"cody\"\u001b[0m\u001b[0;34m]\u001b[0m\u001b[0;34m\u001b[0m\u001b[0;34m\u001b[0m\u001b[0m\n\u001b[0;32m----> 5\u001b[0;31m   \u001b[0mpets\u001b[0m\u001b[0;34m.\u001b[0m\u001b[0mpop\u001b[0m\u001b[0;34m(\u001b[0m\u001b[0;36m1\u001b[0m\u001b[0;34m)\u001b[0m\u001b[0;34m\u001b[0m\u001b[0;34m\u001b[0m\u001b[0m\n\u001b[0m\u001b[1;32m      6\u001b[0m   \u001b[0mpets\u001b[0m\u001b[0;34m.\u001b[0m\u001b[0mappend\u001b[0m\u001b[0;34m(\u001b[0m\u001b[0;34m\"brutly\"\u001b[0m\u001b[0;34m)\u001b[0m\u001b[0;34m\u001b[0m\u001b[0;34m\u001b[0m\u001b[0m\n\u001b[1;32m      7\u001b[0m   \u001b[0mpets\u001b[0m\u001b[0;34m+=\u001b[0m\u001b[0;34m[\u001b[0m\u001b[0;34m\"indian dog\"\u001b[0m\u001b[0;34m]\u001b[0m\u001b[0;34m\u001b[0m\u001b[0;34m\u001b[0m\u001b[0m\n",
            "\u001b[0;31mUnboundLocalError\u001b[0m: local variable 'pets' referenced before assignment"
          ]
        }
      ]
    },
    {
      "cell_type": "code",
      "metadata": {
        "id": "F1bfXngo8hPo"
      },
      "source": [
        "# List created within function & its returned\n",
        "\n",
        "def animals():\n",
        "  pets=[\"luna\",\"ally\",\"lincoln\",\"cody\"]\n",
        "  pets.pop(1)\n",
        "  pets.append(\"brutly\")\n",
        "  pets+=[\"indian dog\"]\n",
        "  return pets"
      ],
      "execution_count": 13,
      "outputs": []
    },
    {
      "cell_type": "code",
      "metadata": {
        "colab": {
          "base_uri": "https://localhost:8080/"
        },
        "id": "E010-NmP884X",
        "outputId": "f02030e7-dabe-476b-a468-25ab89e2d152"
      },
      "source": [
        "dogs=animals()\n",
        "print(dogs)"
      ],
      "execution_count": 14,
      "outputs": [
        {
          "output_type": "stream",
          "text": [
            "['luna', 'lincoln', 'cody', 'brutly', 'indian dog']\n"
          ],
          "name": "stdout"
        }
      ]
    },
    {
      "cell_type": "code",
      "metadata": {
        "id": "RZRX6ZJM9Ghr"
      },
      "source": [
        ""
      ],
      "execution_count": null,
      "outputs": []
    }
  ]
}