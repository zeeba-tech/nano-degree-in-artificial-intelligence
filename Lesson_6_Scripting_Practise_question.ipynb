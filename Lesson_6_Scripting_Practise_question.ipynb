{
  "nbformat": 4,
  "nbformat_minor": 0,
  "metadata": {
    "colab": {
      "name": "Lesson-6 Scripting Practise question.ipynb",
      "provenance": [],
      "collapsed_sections": [],
      "authorship_tag": "ABX9TyNUoBS6IYqzM9e8IbyEivUz",
      "include_colab_link": true
    },
    "kernelspec": {
      "name": "python3",
      "display_name": "Python 3"
    },
    "language_info": {
      "name": "python"
    }
  },
  "cells": [
    {
      "cell_type": "markdown",
      "metadata": {
        "id": "view-in-github",
        "colab_type": "text"
      },
      "source": [
        "<a href=\"https://colab.research.google.com/github/zeeba-tech/nano-degree-in-artificial-intelligence/blob/main/Lesson_6_Scripting_Practise_question.ipynb\" target=\"_parent\"><img src=\"https://colab.research.google.com/assets/colab-badge.svg\" alt=\"Open In Colab\"/></a>"
      ]
    },
    {
      "cell_type": "code",
      "metadata": {
        "colab": {
          "base_uri": "https://localhost:8080/"
        },
        "id": "LiiBwJr0Q5eg",
        "outputId": "48db26bf-f49f-48e1-dce7-259bc9b471d6"
      },
      "source": [
        "'''Practice Question\n",
        "For the following practice question you will need to write code in Python in the workspace below. This will allow you to practice the concepts discussed in the Scripting lesson, such as reading and writing files. You will see some older concepts too, but again, we have them there to review and reinforce your understanding of those concepts.\n",
        "\n",
        "Question: Create a function that opens the flowers.txt, reads every line in it, and saves it as a dictionary. The main (separate) function should take user input (user's first name and last name) and parse the user input to identify the first letter of the first name. It should then use it to print the flower name with the same first letter (from dictionary created in the first function).\n",
        "\n",
        "Sample Output:\n",
        "\n",
        ">>> Enter your First [space] Last name only: Bill Newman\n",
        ">>> Unique flower name with the first letter: Bellflower\n",
        "Using this workspace\n",
        "\n",
        "We have provided a programming environment with a Terminal and code editor, so you can do all your work right here. Here are a few tips orienting you to this kind of workspace.\n",
        "\n",
        "On the top panel is a code editor where you can edit the Python file match_lower_name.py. Scroll up and down in this panel to see all the code. You can also expand or shrink this panel by clicking and dragging its bottom border. We have included the flower.txt file that includes the list of unique flower names for each alphabet. You can click on it in the left to open it in a new tab.\n",
        "\n",
        "On the bottom panel, you can execute your Python file by clicking on New Terminal and entering python match_flower_name.py on the command line.\n",
        "# Write your code here'''\n",
        "flowers='flowers.txt'\n",
        "\n",
        "with open(flowers,'r') as f:\n",
        "    a=f.read()\n",
        "\n",
        "flower_list=a.split(\"\\n\")\n",
        "flower_dict = {}\n",
        "\n",
        "for b in flower_list:\n",
        "    i = b.split(': ')\n",
        "    flower_dict[i[0]] = i[1]\n",
        "\n",
        "#print (flower_dict)\n",
        "\n",
        "\n",
        "            \n",
        "           \n",
        "        \n",
        "# HINT: create a dictionary from flowers.txt\n",
        "def name(func_input,func_dict):\n",
        "    return (func_dict[func_input[0]])\n",
        "\n",
        "user_input=input(\"Enter your First [space] Last name only:\")\n",
        "print(\"Unique flower name with the first letter:{}\".format(name(user_input,flower_dict)))\n",
        "#name('Imran', flower_dict)  \n",
        "# HINT: create a function to ask for user's first and last name\n",
        "\n",
        "\n",
        "# print the desired output\n",
        "\n"
      ],
      "execution_count": 1,
      "outputs": [
        {
          "output_type": "stream",
          "text": [
            "Enter your First [space] Last name only:Riza\n",
            "Unique flower name with the first letter:Rain Lily\n"
          ],
          "name": "stdout"
        }
      ]
    }
  ]
}