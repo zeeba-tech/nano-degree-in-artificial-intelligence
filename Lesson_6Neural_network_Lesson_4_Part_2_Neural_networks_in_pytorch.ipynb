{
  "nbformat": 4,
  "nbformat_minor": 0,
  "metadata": {
    "colab": {
      "name": "Lesson-6Neural network/Lesson-4 Part-2 Neural networks in pytorch.ipynb",
      "provenance": [],
      "collapsed_sections": [],
      "authorship_tag": "ABX9TyNQUN1t0nOHgassaYpooXMq",
      "include_colab_link": true
    },
    "kernelspec": {
      "name": "python3",
      "display_name": "Python 3"
    },
    "language_info": {
      "name": "python"
    }
  },
  "cells": [
    {
      "cell_type": "markdown",
      "metadata": {
        "id": "view-in-github",
        "colab_type": "text"
      },
      "source": [
        "<a href=\"https://colab.research.google.com/github/zeeba-tech/nano-degree-in-artificial-intelligence/blob/main/Lesson_6Neural_network_Lesson_4_Part_2_Neural_networks_in_pytorch.ipynb\" target=\"_parent\"><img src=\"https://colab.research.google.com/assets/colab-badge.svg\" alt=\"Open In Colab\"/></a>"
      ]
    },
    {
      "cell_type": "markdown",
      "metadata": {
        "id": "qWbDpfB2cslN"
      },
      "source": [
        "Neural networks with PyTorch\n",
        "Deep learning networks tend to be massive with dozens or hundreds of layers, that's where the term \"deep\" comes from. You can build one of these deep networks using only weight matrices as we did in the previous notebook, but in general it's very cumbersome and difficult to implement. PyTorch has a nice module nn that provides a nice way to efficiently build large neural networks."
      ]
    },
    {
      "cell_type": "code",
      "metadata": {
        "id": "BCm-G8a9cKrZ"
      },
      "source": [
        "# Import necessary packages\n",
        "\n",
        "%matplotlib inline\n",
        "%config InlineBackend.figure_format = 'retina'\n",
        "\n",
        "import numpy as np\n",
        "import torch\n",
        "\n",
        "import helper\n",
        "\n",
        "import matplotlib.pyplot as plt"
      ],
      "execution_count": null,
      "outputs": []
    },
    {
      "cell_type": "markdown",
      "metadata": {
        "id": "muzgIoWicxhS"
      },
      "source": [
        "Now we're going to build a larger network that can solve a (formerly) difficult problem, identifying text in an image. Here we'll use the MNIST dataset which consists of greyscale handwritten digits. Each image is 28x28 pixels, you can see a sample below\n",
        "\n",
        "\n",
        "Our goal is to build a neural network that can take one of these images and predict the digit in the image.\n",
        "\n",
        "First up, we need to get our dataset. This is provided through the torchvision package. The code below will download the MNIST dataset, then create training and test datasets for us. Don't worry too much about the details here, you'll learn more about this later."
      ]
    },
    {
      "cell_type": "code",
      "metadata": {
        "id": "yrdXpa9adBqX"
      },
      "source": [
        "### Run this cell\n",
        "\n",
        "from torchvision import datasets, transforms\n",
        "\n",
        "# Define a transform to normalize the data\n",
        "transform = transforms.Compose([transforms.ToTensor(),\n",
        "                              transforms.Normalize((0.5,), (0.5,)),\n",
        "                              ])\n",
        "\n",
        "# Download and load the training data\n",
        "trainset = datasets.MNIST('~/.pytorch/MNIST_data/', download=True, train=True, transform=transform)\n",
        "trainloader = torch.utils.data.DataLoader(trainset, batch_size=64, shuffle=True)\n",
        "\n",
        "Downloading http://yann.lecun.com/exdb/mnist/train-images-idx3-ubyte.gz\n",
        "Downloading http://yann.lecun.com/exdb/mnist/train-labels-idx1-ubyte.gz\n",
        "Downloading http://yann.lecun.com/exdb/mnist/t10k-images-idx3-ubyte.gz\n",
        "Downloading http://yann.lecun.com/exdb/mnist/t10k-labels-idx1-ubyte.gz\n",
        "Processing...\n",
        "Done!"
      ],
      "execution_count": null,
      "outputs": []
    },
    {
      "cell_type": "markdown",
      "metadata": {
        "id": "mzxeYa9bdJH7"
      },
      "source": [
        "We have the training data loaded into trainloader and we make that an iterator with iter(trainloader). Later, we'll use this to loop through the dataset for training, like\n",
        "\n",
        "for image, label in trainloader:\n",
        "    ## do things with images and labels\n",
        "You'll notice I created the trainloader with a batch size of 64, and shuffle=True. The batch size is the number of images we get in one iteration from the data loader and pass through our network, often called a batch. And shuffle=True tells it to shuffle the dataset every time we start going through the data loader again. But here I'm just grabbing the first batch so we can check out the data. We can see below that images is just a tensor with size (64, 1, 28, 28). So, 64 images per batch, 1 color channel, and 28x28 images.\n",
        "\n"
      ]
    },
    {
      "cell_type": "code",
      "metadata": {
        "id": "AZ8qChLmdMde"
      },
      "source": [
        "dataiter = iter(trainloader)\n",
        "images, labels = dataiter.next()\n",
        "print(type(images))\n",
        "print(images.shape)\n",
        "print(labels.shape)\n",
        "\n",
        "\n",
        "<class 'torch.Tensor'>\n",
        "torch.Size([64, 1, 28, 28])\n",
        "torch.Size([64])"
      ],
      "execution_count": null,
      "outputs": []
    },
    {
      "cell_type": "markdown",
      "metadata": {
        "id": "PnrGeGv6dZe0"
      },
      "source": [
        "This is what one of the images looks like."
      ]
    },
    {
      "cell_type": "code",
      "metadata": {
        "id": "d5Ehj9r1ddAE"
      },
      "source": [
        "plt.imshow(images[1].numpy().squeeze(), cmap='Greys_r');"
      ],
      "execution_count": null,
      "outputs": []
    },
    {
      "cell_type": "markdown",
      "metadata": {
        "id": "iwHP7z8KdjTG"
      },
      "source": [
        "First, let's try to build a simple network for this dataset using weight matrices and matrix multiplications. Then, we'll see how to do it using PyTorch's nn module which provides a much more convenient and powerful method for defining network architectures.\n",
        "\n",
        "The networks you've seen so far are called fully-connected or dense networks. Each unit in one layer is connected to each unit in the next layer. In fully-connected networks, the input to each layer must be a one-dimensional vector (which can be stacked into a 2D tensor as a batch of multiple examples). However, our images are 28x28 2D tensors, so we need to convert them into 1D vectors. Thinking about sizes, we need to convert the batch of images with shape (64, 1, 28, 28) to a have a shape of (64, 784), 784 is 28 times 28. This is typically called flattening, we flattened the 2D images into 1D vectors.\n",
        "\n",
        "Previously you built a network with one output unit. Here we need 10 output units, one for each digit. We want our network to predict the digit shown in an image, so what we'll do is calculate probabilities that the image is of any one digit or class. This ends up being a discrete probability distribution over the classes (digits) that tells us the most likely class for the image. That means we need 10 output units for the 10 classes (digits). We'll see how to convert the network output into a probability distribution next.\n",
        "\n",
        "Exercise: Flatten the batch of images images. Then build a multi-layer network with 784 input units, 256 hidden units, and 10 output units using random tensors for the weights and biases. For now, use a sigmoid activation for the hidden layer. Leave the output layer without an activation, we'll add one that gives us a probability distribution next."
      ]
    },
    {
      "cell_type": "code",
      "metadata": {
        "id": "CsxMXYwXdmnh"
      },
      "source": [
        "#a=torch.rand(64,1,28,28)\n",
        "#a.shape\n",
        "images=torch.reshape(images,(64,784))"
      ],
      "execution_count": null,
      "outputs": []
    },
    {
      "cell_type": "code",
      "metadata": {
        "id": "Cvy_W1IbdngH"
      },
      "source": [
        "## Your solution\n",
        "from torch import nn\n",
        "A=torch.rand(784,256)\n",
        "def activation(x):\n",
        "    return 1/(1+torch.exp(-x))\n",
        "hidden_one= nn.Linear(784,256)\n",
        "output_layer= nn.Linear(256,10)\n",
        "out =output_layer(activation(hidden_one(images)))# output of your network, should have shape (64,10)"
      ],
      "execution_count": null,
      "outputs": []
    },
    {
      "cell_type": "markdown",
      "metadata": {
        "id": "_9M8PUz7dql4"
      },
      "source": [
        "Now we have 10 outputs for our network. We want to pass in an image to our network and get out a probability distribution over the classes that tells us the likely class(es) the image belongs to. Something that looks like this:\n",
        "\n",
        "Here we see that the probability for each class is roughly the same. This is representing an untrained network, it hasn't seen any data yet so it just returns a uniform distribution with equal probabilities for each class.\n",
        "\n",
        "To calculate this probability distribution, we often use the softmax function. Mathematically this looks like\n",
        "\n",
        "𝜎(𝑥𝑖)=𝑒𝑥𝑖∑𝐾𝑘𝑒𝑥𝑘\n",
        " \n",
        "What this does is squish each input  𝑥𝑖  between 0 and 1 and normalizes the values to give you a proper probability distribution where the probabilites sum up to one.\n",
        "\n",
        "Exercise: Implement a function softmax that performs the softmax calculation and returns probability distributions for each example in the batch. Note that you'll need to pay attention to the shapes when doing this. If you have a tensor a with shape (64, 10) and a tensor b with shape (64,), doing a/b will give you an error because PyTorch will try to do the division across the columns (called broadcasting) but you'll get a size mismatch. The way to think about this is for each of the 64 examples, you only want to divide by one value, the sum in the denominator. So you need b to have a shape of (64, 1). This way PyTorch will divide the 10 values in each row of a by the one value in each row of b. Pay attention to how you take the sum as well. You'll need to define the dim keyword in torch.sum. Setting dim=0 takes the sum across the rows while dim=1 takes the sum across the columns."
      ]
    },
    {
      "cell_type": "code",
      "metadata": {
        "id": "RoRaPadLdxEP"
      },
      "source": [
        "def softmax(x):\n",
        "    num=torch.exp(x)\n",
        "    den=num.sum(dim=1,keepdim=True)\n",
        "    return num/den\n",
        "    ## TODO: Implement the softmax function here\n",
        "\n",
        "# Here, out should be the output of the network in the previous excercise with shape (64,10)\n",
        "probabilities = softmax(out)\n",
        "\n",
        "# Does it have the right shape? Should be (64, 10)\n",
        "print(probabilities.shape)\n",
        "# Does it sum to 1?\n",
        "print(probabilities.sum(dim=1))\n",
        "\n",
        "answer:\n",
        "torch.Size([64, 10])\n",
        "tensor([ 1.0000,  1.0000,  1.0000,  1.0000,  1.0000,  1.0000,  1.0000,\n",
        "         1.0000,  1.0000,  1.0000,  1.0000,  1.0000,  1.0000,  1.0000,\n",
        "         1.0000,  1.0000,  1.0000,  1.0000,  1.0000,  1.0000,  1.0000,\n",
        "         1.0000,  1.0000,  1.0000,  1.0000,  1.0000,  1.0000,  1.0000,\n",
        "         1.0000,  1.0000,  1.0000,  1.0000,  1.0000,  1.0000,  1.0000,\n",
        "         1.0000,  1.0000,  1.0000,  1.0000,  1.0000,  1.0000,  1.0000,\n",
        "         1.0000,  1.0000,  1.0000,  1.0000,  1.0000,  1.0000,  1.0000,\n",
        "         1.0000,  1.0000,  1.0000,  1.0000,  1.0000,  1.0000,  1.0000,\n",
        "         1.0000,  1.0000,  1.0000,  1.0000,  1.0000,  1.0000,  1.0000,\n",
        "         1.0000])"
      ],
      "execution_count": null,
      "outputs": []
    },
    {
      "cell_type": "markdown",
      "metadata": {
        "id": "Fa7eagBQd6iP"
      },
      "source": [
        "Building networks with PyTorch\n",
        "PyTorch provides a module nn that makes building networks much simpler. Here I'll show you how to build the same one as above with 784 inputs, 256 hidden units, 10 output units and a softmax output."
      ]
    },
    {
      "cell_type": "code",
      "metadata": {
        "id": "RKONoJpHd7ff"
      },
      "source": [
        "from torch import nn"
      ],
      "execution_count": null,
      "outputs": []
    },
    {
      "cell_type": "code",
      "metadata": {
        "id": "R2RYJXkpoghy"
      },
      "source": [
        "class Network(nn.Module):\n",
        "    def __init__(self):\n",
        "        super().__init__()\n",
        "        \n",
        "        # Inputs to hidden layer linear transformation\n",
        "        self.hidden = nn.Linear(784, 256)\n",
        "        # Output layer, 10 units - one for each digit\n",
        "        self.output = nn.Linear(256, 10)\n",
        "        \n",
        "        # Define sigmoid activation and softmax output \n",
        "        self.sigmoid = nn.Sigmoid()\n",
        "        self.softmax = nn.Softmax(dim=1)\n",
        "        \n",
        "    def forward(self, x):\n",
        "        # Pass the input tensor through each of our operations\n",
        "        x = self.hidden(x)\n",
        "        x = self.sigmoid(x)\n",
        "        x = self.output(x)\n",
        "        x = self.softmax(x)\n",
        "        \n",
        "        return x"
      ],
      "execution_count": null,
      "outputs": []
    },
    {
      "cell_type": "markdown",
      "metadata": {
        "id": "R902t-d7olao"
      },
      "source": [
        "Let's go through this bit by bit.\n",
        "\n",
        "class Network(nn.Module):\n",
        "Here we're inheriting from nn.Module. Combined with super().__init__() this creates a class that tracks the architecture and provides a lot of useful methods and attributes. It is mandatory to inherit from nn.Module when you're creating a class for your network. The name of the class itself can be anything.\n",
        "\n",
        "self.hidden = nn.Linear(784, 256)\n",
        "This line creates a module for a linear transformation,  𝑥𝐖+𝑏 , with 784 inputs and 256 outputs and assigns it to self.hidden. The module automatically creates the weight and bias tensors which we'll use in the forward method. You can access the weight and bias tensors once the network (net) is created with net.hidden.weight and net.hidden.bias.\n",
        "\n",
        "self.output = nn.Linear(256, 10)\n",
        "Similarly, this creates another linear transformation with 256 inputs and 10 outputs.\n",
        "\n",
        "self.sigmoid = nn.Sigmoid()\n",
        "self.softmax = nn.Softmax(dim=1)\n",
        "Here I defined operations for the sigmoid activation and softmax output. Setting dim=1 in nn.Softmax(dim=1) calculates softmax across the columns.\n",
        "\n",
        "def forward(self, x):\n",
        "PyTorch networks created with nn.Module must have a forward method defined. It takes in a tensor x and passes it through the operations you defined in the __init__ method.\n",
        "\n",
        "x = self.hidden(x)\n",
        "x = self.sigmoid(x)\n",
        "x = self.output(x)\n",
        "x = self.softmax(x)\n",
        "Here the input tensor x is passed through each operation a reassigned to x. We can see that the input tensor goes through the hidden layer, then a sigmoid function, then the output layer, and finally the softmax function. It doesn't matter what you name the variables here, as long as the inputs and outputs of the operations match the network architecture you want to build. The order in which you define things in the __init__ method doesn't matter, but you'll need to sequence the operations correctly in the forward method.\n",
        "\n",
        "Now we can create a Network object."
      ]
    },
    {
      "cell_type": "code",
      "metadata": {
        "id": "Cy3SzhCyoqI1"
      },
      "source": [
        "# Create the network and look at it's text representation\n",
        "model = Network()\n",
        "model\n",
        "\n",
        "\n",
        "answer:\n",
        "Network(\n",
        "  (hidden): Linear(in_features=784, out_features=256, bias=True)\n",
        "  (output): Linear(in_features=256, out_features=10, bias=True)\n",
        "  (sigmoid): Sigmoid()\n",
        "  (softmax): Softmax()\n",
        ")"
      ],
      "execution_count": null,
      "outputs": []
    },
    {
      "cell_type": "markdown",
      "metadata": {
        "id": "TFPXEo-lo31u"
      },
      "source": [
        "You can define the network somewhat more concisely and clearly using the torch.nn.functional module. This is the most common way you'll see networks defined as many operations are simple element-wise functions. We normally import this module as F, import torch.nn.functional as F."
      ]
    },
    {
      "cell_type": "code",
      "metadata": {
        "id": "_fpTo0uQo4pn"
      },
      "source": [
        "import torch.nn.functional as F\n",
        "\n",
        "class Network(nn.Module):\n",
        "    def __init__(self):\n",
        "        super().__init__()\n",
        "        # Inputs to hidden layer linear transformation\n",
        "        self.hidden = nn.Linear(784, 256)\n",
        "        # Output layer, 10 units - one for each digit\n",
        "        self.output = nn.Linear(256, 10)\n",
        "        \n",
        "    def forward(self, x):\n",
        "        # Hidden layer with sigmoid activation\n",
        "        x = F.sigmoid(self.hidden(x))\n",
        "        # Output layer with softmax activation\n",
        "        x = F.softmax(self.output(x), dim=1)\n",
        "        \n",
        "        return x"
      ],
      "execution_count": null,
      "outputs": []
    },
    {
      "cell_type": "markdown",
      "metadata": {
        "id": "3JI4IsY_pA8O"
      },
      "source": [
        "Activation functions\n",
        "So far we've only been looking at the softmax activation, but in general any function can be used as an activation function. The only requirement is that for a network to approximate a non-linear function, the activation functions must be non-linear. Here are a few more examples of common activation functions: Tanh (hyperbolic tangent), and ReLU (rectified linear unit).\n",
        "\n",
        "\n",
        "In practice, the ReLU function is used almost exclusively as the activation function for hidden layers.\n",
        "\n",
        "Your Turn to Build a Network\n",
        "\n",
        "Exercise: Create a network with 784 input units, a hidden layer with 128 units and a ReLU activation, then a hidden layer with 64 units and a ReLU activation, and finally an output layer with a softmax activation as shown above. You can use a ReLU activation with the nn.ReLU module or F.relu function."
      ]
    },
    {
      "cell_type": "code",
      "metadata": {
        "id": "miZagNBjpB4Y"
      },
      "source": [
        "## Your solution here\n",
        "import torch.nn.functional as F\n",
        "\n",
        "class Network(nn.Module):\n",
        "    def __init__(self):\n",
        "        super().__init__()\n",
        "        # Inputs to hidden layer linear transformation\n",
        "        self.fc1 = nn.Linear(784, 128)\n",
        "        self.fc2 = nn.Linear(128, 64)\n",
        "        # Output layer, 10 units - one for each digit\n",
        "        self.output = nn.Linear(64, 10)\n",
        "        \n",
        "    def forward(self, x):\n",
        "        # Hidden layer with sigmoid activation\n",
        "        x = F.relu(self.fc1(x))\n",
        "        x = F.relu(self.fc2(x))\n",
        "        # Output layer with softmax activation\n",
        "        x = F.softmax(self.output(x), dim=1)\n",
        "        \n",
        "        return x\n",
        "\n",
        "model = Network()"
      ],
      "execution_count": null,
      "outputs": []
    },
    {
      "cell_type": "markdown",
      "metadata": {
        "id": "kKkA63ONpIMv"
      },
      "source": [
        "Initializing weights and biases\n",
        "The weights and such are automatically initialized for you, but it's possible to customize how they are initialized. The weights and biases are tensors attached to the layer you defined, you can get them with model.fc1.weight for instance."
      ]
    },
    {
      "cell_type": "code",
      "metadata": {
        "id": "C8ZbDno8pLZB"
      },
      "source": [
        "print(model.fc1.weight)\n",
        "print(model.fc1.bias)\n",
        "\n",
        "answer:\n",
        "Parameter containing:\n",
        "tensor([[-1.1261e-02,  1.1217e-02,  4.8471e-04,  ..., -2.1865e-02,\n",
        "          2.6783e-02,  3.6627e-03],\n",
        "        [-2.0704e-02, -3.0969e-02, -7.2904e-03,  ..., -2.9899e-02,\n",
        "         -1.4176e-03, -7.2796e-03],\n",
        "        [ 1.0748e-02,  3.1815e-02,  3.3789e-02,  ..., -3.4978e-02,\n",
        "          2.0171e-02,  6.3406e-03],\n",
        "        ...,\n",
        "        [-7.2047e-03, -1.2859e-02,  1.4892e-02,  ..., -1.5493e-02,\n",
        "          1.7423e-02,  1.6717e-04],\n",
        "        [ 6.8431e-03, -1.8398e-02,  1.2549e-02,  ..., -7.1769e-03,\n",
        "          2.3805e-02, -1.7412e-02],\n",
        "        [-2.4006e-02,  1.3991e-02, -3.3398e-02,  ...,  1.0731e-02,\n",
        "         -9.2350e-03,  2.5480e-02]])\n",
        "Parameter containing:\n",
        "tensor(1.00000e-02 *\n",
        "       [-2.4709,  1.3795,  2.7431,  2.8267,  0.4171,  2.3915,  0.8035,\n",
        "         0.3552,  2.9346, -1.9868, -1.3006,  1.1713, -1.6602, -0.0231,\n",
        "         3.2149, -1.9056, -0.3762,  3.1179, -2.8202, -2.9024,  0.0570,\n",
        "         1.0953,  1.6570, -0.6562,  1.3005, -0.2343,  0.6593, -1.3798,\n",
        "         0.1433, -1.8678,  2.8219,  0.2726, -0.8522,  2.4528, -3.1283,\n",
        "        -0.6610,  0.4462, -2.3481, -2.4845,  0.6310, -3.1869, -1.8564,\n",
        "        -3.5190,  3.0261,  1.8130, -2.4622,  0.1754,  1.8188,  3.2390,\n",
        "         3.5473, -1.1495,  2.5836, -1.8830,  1.3723,  2.8052,  1.0337,\n",
        "        -1.1644,  0.3633, -3.1183, -1.0568,  2.6921, -2.2419,  1.0102,\n",
        "        -0.5003,  0.3480, -0.1178,  2.1334, -1.3627, -0.3760, -0.4213,\n",
        "        -0.2029,  3.3963,  0.6899,  2.3718, -3.5521,  2.9944,  2.6849,\n",
        "        -2.4523,  3.1383,  2.5589, -2.6050, -3.0417, -1.8385, -3.1592,\n",
        "         1.9287, -0.3156,  3.1589, -1.4218, -0.1810,  0.9074, -0.3827,\n",
        "        -1.6681,  0.2572, -3.3279, -2.0739, -3.3170,  0.8458,  2.9279,\n",
        "         3.3939, -2.8429,  0.4197,  1.8409, -3.5310,  1.4192,  0.6400,\n",
        "         2.0468, -0.1177, -0.2588,  1.3043,  1.3570, -2.7989, -3.4177,\n",
        "        -1.1683, -1.9153, -1.6995, -1.7046, -2.6859, -2.3552, -2.7798,\n",
        "        -2.0588,  3.2634,  0.3058,  2.0573, -0.5760,  1.0618,  3.4155,\n",
        "        -3.0954,  1.6810])"
      ],
      "execution_count": null,
      "outputs": []
    },
    {
      "cell_type": "markdown",
      "metadata": {
        "id": "G-STg06ppVLD"
      },
      "source": [
        "For custom initialization, we want to modify these tensors in place. These are actually autograd Variables, so we need to get back the actual tensors with model.fc1.weight.data. Once we have the tensors, we can fill them with zeros (for biases) or random normal values."
      ]
    },
    {
      "cell_type": "code",
      "metadata": {
        "id": "9Nw6NAaOpWAP"
      },
      "source": [
        "# Set biases to all zeros\n",
        "model.fc1.bias.data.fill_(0)\n",
        "\n",
        "answer:\n",
        "tensor([ 0.,  0.,  0.,  0.,  0.,  0.,  0.,  0.,  0.,  0.,  0.,  0.,\n",
        "         0.,  0.,  0.,  0.,  0.,  0.,  0.,  0.,  0.,  0.,  0.,  0.,\n",
        "         0.,  0.,  0.,  0.,  0.,  0.,  0.,  0.,  0.,  0.,  0.,  0.,\n",
        "         0.,  0.,  0.,  0.,  0.,  0.,  0.,  0.,  0.,  0.,  0.,  0.,\n",
        "         0.,  0.,  0.,  0.,  0.,  0.,  0.,  0.,  0.,  0.,  0.,  0.,\n",
        "         0.,  0.,  0.,  0.,  0.,  0.,  0.,  0.,  0.,  0.,  0.,  0.,\n",
        "         0.,  0.,  0.,  0.,  0.,  0.,  0.,  0.,  0.,  0.,  0.,  0.,\n",
        "         0.,  0.,  0.,  0.,  0.,  0.,  0.,  0.,  0.,  0.,  0.,  0.,\n",
        "         0.,  0.,  0.,  0.,  0.,  0.,  0.,  0.,  0.,  0.,  0.,  0.,\n",
        "         0.,  0.,  0.,  0.,  0.,  0.,  0.,  0.,  0.,  0.,  0.,  0.,\n",
        "         0.,  0.,  0.,  0.,  0.,  0.,  0.,  0.])\n"
      ],
      "execution_count": null,
      "outputs": []
    },
    {
      "cell_type": "code",
      "metadata": {
        "id": "ottb-K70pd19"
      },
      "source": [
        "# sample from random normal with standard dev = 0.01\n",
        "model.fc1.weight.data.normal_(std=0.01)\n",
        "\n",
        "answer:\n",
        "tensor([[ 9.7066e-04, -2.2178e-03,  8.2958e-03,  ..., -4.5777e-03,\n",
        "          1.5365e-03, -4.0214e-03],\n",
        "        [-6.5539e-03, -3.4407e-03, -4.2940e-03,  ...,  3.3533e-03,\n",
        "          5.6943e-03, -2.1422e-03],\n",
        "        [-1.9333e-02, -6.9631e-03,  1.6874e-02,  ...,  4.7386e-03,\n",
        "          4.8482e-03, -5.8861e-03],\n",
        "        ...,\n",
        "        [ 3.5799e-03,  2.7405e-03,  1.0511e-03,  ..., -8.2334e-03,\n",
        "         -2.4457e-02,  9.4140e-03],\n",
        "        [-4.6979e-03, -1.9604e-02,  1.3308e-03,  ...,  8.1072e-04,\n",
        "          1.0167e-02, -4.6685e-04],\n",
        "        [ 1.7796e-02, -1.0355e-03, -1.4589e-02,  ..., -1.0640e-02,\n",
        "          1.4906e-02, -6.4852e-03]])"
      ],
      "execution_count": null,
      "outputs": []
    },
    {
      "cell_type": "markdown",
      "metadata": {
        "id": "aMm1-Zhxpomx"
      },
      "source": [
        "Forward pass\n",
        "Now that we have a network, let's see what happens when we pass in an image."
      ]
    },
    {
      "cell_type": "code",
      "metadata": {
        "id": "pvgPPEbippme"
      },
      "source": [
        "# Grab some data \n",
        "dataiter = iter(trainloader)\n",
        "images, labels = dataiter.next()\n",
        "\n",
        "# Resize images into a 1D vector, new shape is (batch size, color channels, image pixels) \n",
        "images.resize_(64, 1, 784)\n",
        "# or images.resize_(images.shape[0], 1, 784) to automatically get batch size\n",
        "\n",
        "# Forward pass through the network\n",
        "img_idx = 0\n",
        "ps = model.forward(images[img_idx,:])\n",
        "\n",
        "img = images[img_idx]\n",
        "helper.view_classify(img.view(1, 28, 28), ps)"
      ],
      "execution_count": null,
      "outputs": []
    },
    {
      "cell_type": "markdown",
      "metadata": {
        "id": "imLJX5XGpskK"
      },
      "source": [
        "As you can see above, our network has basically no idea what this digit is. It's because we haven't trained it yet, all the weights are random!\n",
        "\n",
        "Using nn.Sequential\n",
        "PyTorch provides a convenient way to build networks like this where a tensor is passed sequentially through operations, nn.Sequential (documentation). Using this to build the equivalent network:"
      ]
    },
    {
      "cell_type": "code",
      "metadata": {
        "id": "Da6VGpWXpw4v"
      },
      "source": [
        "# Hyperparameters for our network\n",
        "input_size = 784\n",
        "hidden_sizes = [128, 64]\n",
        "output_size = 10\n",
        "\n",
        "# Build a feed-forward network\n",
        "model = nn.Sequential(nn.Linear(input_size, hidden_sizes[0]),\n",
        "                      nn.ReLU(),\n",
        "                      nn.Linear(hidden_sizes[0], hidden_sizes[1]),\n",
        "                      nn.ReLU(),\n",
        "                      nn.Linear(hidden_sizes[1], output_size),\n",
        "                      nn.Softmax(dim=1))\n",
        "print(model)\n",
        "\n",
        "# Forward pass through the network and display output\n",
        "images, labels = next(iter(trainloader))\n",
        "images.resize_(images.shape[0], 1, 784)\n",
        "ps = model.forward(images[0,:])\n",
        "helper.view_classify(images[0].view(1, 28, 28), ps)\n",
        "\n",
        "\n",
        "answer:\n",
        "Sequential(\n",
        "  (0): Linear(in_features=784, out_features=128, bias=True)\n",
        "  (1): ReLU()\n",
        "  (2): Linear(in_features=128, out_features=64, bias=True)\n",
        "  (3): ReLU()\n",
        "  (4): Linear(in_features=64, out_features=10, bias=True)\n",
        "  (5): Softmax()\n",
        ")"
      ],
      "execution_count": null,
      "outputs": []
    },
    {
      "cell_type": "markdown",
      "metadata": {
        "id": "1QUVTGz_p4uO"
      },
      "source": [
        "Here our model is the same as before: 784 input units, a hidden layer with 128 units, ReLU activation, 64 unit hidden layer, another ReLU, then the output layer with 10 units, and the softmax output.\n",
        "\n",
        "The operations are availble by passing in the appropriate index. For example, if you want to get first Linear operation and look at the weights, you'd use model[0]."
      ]
    },
    {
      "cell_type": "code",
      "metadata": {
        "id": "NwxsTlgdp7X5"
      },
      "source": [
        "print(model[0])\n",
        "model[0].weight\n",
        "\n",
        "answer:\n",
        "\n",
        "Linear(in_features=784, out_features=128, bias=True)\n",
        "Parameter containing:\n",
        "tensor(1.00000e-02 *\n",
        "       [[ 2.9824, -3.0802,  0.7577,  ..., -1.4384, -1.7854,  1.0666],\n",
        "        [ 2.7765, -1.0042,  0.9881,  ..., -3.4831, -0.6239, -0.9895],\n",
        "        [ 0.9148, -1.1658, -2.6035,  ..., -0.8364, -3.3811,  2.9968],\n",
        "        ...,\n",
        "        [-0.3491, -1.6149,  2.7226,  ..., -1.3779, -1.3043,  2.6479],\n",
        "        [-2.6072, -1.7516, -0.6937,  ...,  3.1413, -0.1546, -2.4987],\n",
        "        [-0.7088, -0.1609,  1.2809,  ...,  2.7685,  1.3176, -0.6124]])"
      ],
      "execution_count": null,
      "outputs": []
    },
    {
      "cell_type": "markdown",
      "metadata": {
        "id": "oA8XrIDMqCD_"
      },
      "source": [
        "You can also pass in an OrderedDict to name the individual layers and operations, instead of using incremental integers. Note that dictionary keys must be unique, so each operation must have a different name"
      ]
    },
    {
      "cell_type": "code",
      "metadata": {
        "id": "8xzV9jDvqE5E"
      },
      "source": [
        "from collections import OrderedDict\n",
        "model = nn.Sequential(OrderedDict([\n",
        "                      ('fc1', nn.Linear(input_size, hidden_sizes[0])),\n",
        "                      ('relu1', nn.ReLU()),\n",
        "                      ('fc2', nn.Linear(hidden_sizes[0], hidden_sizes[1])),\n",
        "                      ('relu2', nn.ReLU()),\n",
        "                      ('output', nn.Linear(hidden_sizes[1], output_size)),\n",
        "                      ('softmax', nn.Softmax(dim=1))]))\n",
        "model\n",
        "\n",
        "answer:\n",
        "Sequential(\n",
        "  (fc1): Linear(in_features=784, out_features=128, bias=True)\n",
        "  (relu1): ReLU()\n",
        "  (fc2): Linear(in_features=128, out_features=64, bias=True)\n",
        "  (relu2): ReLU()\n",
        "  (output): Linear(in_features=64, out_features=10, bias=True)\n",
        "  (softmax): Softmax()\n",
        ")"
      ],
      "execution_count": null,
      "outputs": []
    },
    {
      "cell_type": "markdown",
      "metadata": {
        "id": "_s1cVkggqNMb"
      },
      "source": [
        "Now you can access layers either by integer or the name"
      ]
    },
    {
      "cell_type": "code",
      "metadata": {
        "id": "te-yx4q-qQIM"
      },
      "source": [
        "print(model[0])\n",
        "print(model.fc1)\n",
        "\n",
        "answer:\n",
        "Linear(in_features=784, out_features=128, bias=True)\n",
        "Linear(in_features=784, out_features=128, bias=True)"
      ],
      "execution_count": null,
      "outputs": []
    },
    {
      "cell_type": "markdown",
      "metadata": {
        "id": "LBLT5z1xqaAl"
      },
      "source": [
        "In the next notebook, we'll see how we can train a neural network to accuractly predict the numbers appearing in the MNIST images"
      ]
    }
  ]
}