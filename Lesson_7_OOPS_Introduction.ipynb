{
  "nbformat": 4,
  "nbformat_minor": 0,
  "metadata": {
    "colab": {
      "name": "Lesson-7/OOPS-Introduction.ipynb",
      "provenance": [],
      "collapsed_sections": [],
      "authorship_tag": "ABX9TyPkjvCHVZmReHQE8czRzQ89",
      "include_colab_link": true
    },
    "kernelspec": {
      "name": "python3",
      "display_name": "Python 3"
    },
    "language_info": {
      "name": "python"
    }
  },
  "cells": [
    {
      "cell_type": "markdown",
      "metadata": {
        "id": "view-in-github",
        "colab_type": "text"
      },
      "source": [
        "<a href=\"https://colab.research.google.com/github/zeeba-tech/nano-degree-in-artificial-intelligence/blob/main/Lesson_7_OOPS_Introduction.ipynb\" target=\"_parent\"><img src=\"https://colab.research.google.com/assets/colab-badge.svg\" alt=\"Open In Colab\"/></a>"
      ]
    },
    {
      "cell_type": "code",
      "metadata": {
        "id": "VDJVEft-u5-T"
      },
      "source": [
        "Why Object-Oriented Programming?\n",
        "Object-oriented programming has a few benefits over procedural programming, which is the programming style you first learned.\n",
        "\n",
        "Object-oriented programming allows you to create large, modular programs that can easily expand over time.\n",
        "Object-oriented programs hide implementation from the end-user\n",
        "Consider Python package like scikit-learn, pandas, or numpy. These are all Python libraries built with object-oriented programming. Scikit-learn, for example, is a relatively large and complex package built with object-oriented programming. This package has expanded over the years with new functionality and new algorithms.\n",
        "\n",
        "When you train a machine learning algorithm with scikit-learn, you don't have to know anything about how the algorithm's code.\n",
        "\n",
        "Here's an example taken from the scikit-learn website:\n",
        "\n",
        "from sklearn import svm\n",
        "X = [[0, 0], [1, 1]]\n",
        "y = [0, 1]\n",
        "clf = svm.SVC()\n",
        "clf.fit(X, y)  \n",
        "How does scikit-learn train the SVM model? You don't need to know because the implementation is hidden with object-oriented programming. (Whether or not you SHOULD understand how SVM works is a different question).\n",
        "\n"
      ],
      "execution_count": null,
      "outputs": []
    }
  ]
}