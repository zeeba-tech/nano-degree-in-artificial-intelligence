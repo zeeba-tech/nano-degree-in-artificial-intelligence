{
  "nbformat": 4,
  "nbformat_minor": 0,
  "metadata": {
    "colab": {
      "name": "Lesson-6-Scripting with raw input.ipynb",
      "provenance": [],
      "collapsed_sections": [],
      "authorship_tag": "ABX9TyOvEDxhcACSWFIzMzyKwXv6",
      "include_colab_link": true
    },
    "kernelspec": {
      "name": "python3",
      "display_name": "Python 3"
    },
    "language_info": {
      "name": "python"
    }
  },
  "cells": [
    {
      "cell_type": "markdown",
      "metadata": {
        "id": "view-in-github",
        "colab_type": "text"
      },
      "source": [
        "<a href=\"https://colab.research.google.com/github/zeeba-tech/nano-degree-in-artificial-intelligence/blob/main/Lesson_6_Scripting_with_raw_input.ipynb\" target=\"_parent\"><img src=\"https://colab.research.google.com/assets/colab-badge.svg\" alt=\"Open In Colab\"/></a>"
      ]
    },
    {
      "cell_type": "code",
      "metadata": {
        "id": "jFue7r8iGqag"
      },
      "source": [
        "'''Scripting With Raw Input\n",
        "We can get raw input from the user with the built-in function input, which takes in an optional string argument that you can use to specify a message to show to the user when asking for input.\n",
        "\n",
        "name = input(\"Enter your name: \")\n",
        "print(\"Hello there, {}!\".format(name.title()))\n",
        "This prompts the user to enter a name and then uses the input in a greeting. The input function takes in whatever the user types and stores it as a string. If you want to interpret their input as something other than a string, like an integer, as in the example below, you need to wrap the result with the new type to convert it from a string.\n",
        "\n",
        "num = int(input(\"Enter an integer\"))\n",
        "print(\"hello\" * num)\n",
        "We can also interpret user input as a Python expression using the built-in function eval. This function evaluates a string as a line of Python.\n",
        "\n",
        "result = eval(input(\"Enter an expression: \"))\n",
        "print(result)\n",
        "If the user inputs 2 * 3, this outputs 6.'''\n",
        "\n"
      ],
      "execution_count": null,
      "outputs": []
    },
    {
      "cell_type": "code",
      "metadata": {
        "id": "_JjEMi6iHdnY"
      },
      "source": [
        "names =  # get and process input for a list of names\n",
        "assignments =  # get and process input for a list of the number of assignments\n",
        "grades =  # get and process input for a list of grades\n",
        "\n",
        "# message string to be used for each student\n",
        "# HINT: use .format() with this string in your for loop\n",
        "message = \"Hi {},\\n\\nThis is a reminder that you have {} assignments left to \\\n",
        "submit before you can graduate. You're current grade is {} and can increase \\\n",
        "to {} if you submit all assignments before the due date.\\n\\n\"\n",
        "\n",
        "# write a for loop that iterates through each set of names, assignments, and grades to print each student's message\n",
        "\n"
      ],
      "execution_count": null,
      "outputs": []
    },
    {
      "cell_type": "code",
      "metadata": {
        "id": "eh9lB4fgHfFx"
      },
      "source": [
        "names = input(\"Enter names separated by commas: \").title().split(\",\")\n",
        "assignments = input(\"Enter assignment counts separated by commas: \").split(\",\")\n",
        "grades = input(\"Enter grades separated by commas: \").split(\",\")\n",
        "\n",
        "message = \"Hi {},\\n\\nThis is a reminder that you have {} assignments left to \\\n",
        "submit before you can graduate. You're current grade is {} and can increase \\\n",
        "to {} if you submit all assignments before the due date.\\n\\n\"\n",
        "\n",
        "for name, assignment, grade in zip(names, assignments, grades):\n",
        "    print(message.format(name, assignment, grade, int(grade) + int(assignment)*2))"
      ],
      "execution_count": null,
      "outputs": []
    }
  ]
}