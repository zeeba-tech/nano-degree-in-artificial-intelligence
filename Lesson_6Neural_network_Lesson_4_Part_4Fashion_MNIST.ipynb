{
  "nbformat": 4,
  "nbformat_minor": 0,
  "metadata": {
    "colab": {
      "name": "Lesson-6Neural network/Lesson-4 Part-4Fashion-MNIST.ipynb",
      "provenance": [],
      "collapsed_sections": [],
      "authorship_tag": "ABX9TyOIEb0FNEquKIo9sUXTTRUX",
      "include_colab_link": true
    },
    "kernelspec": {
      "name": "python3",
      "display_name": "Python 3"
    },
    "language_info": {
      "name": "python"
    }
  },
  "cells": [
    {
      "cell_type": "markdown",
      "metadata": {
        "id": "view-in-github",
        "colab_type": "text"
      },
      "source": [
        "<a href=\"https://colab.research.google.com/github/zeeba-tech/nano-degree-in-artificial-intelligence/blob/main/Lesson_6Neural_network_Lesson_4_Part_4Fashion_MNIST.ipynb\" target=\"_parent\"><img src=\"https://colab.research.google.com/assets/colab-badge.svg\" alt=\"Open In Colab\"/></a>"
      ]
    },
    {
      "cell_type": "markdown",
      "metadata": {
        "id": "Px_6PMryPAkB"
      },
      "source": [
        "Classifying Fashion-MNIST\n",
        "Now it's your turn to build and train a neural network. You'll be using the Fashion-MNIST dataset, a drop-in replacement for the MNIST dataset. MNIST is actually quite trivial with neural networks where you can easily achieve better than 97% accuracy. Fashion-MNIST is a set of 28x28 greyscale images of clothes. It's more complex than MNIST, so it's a better representation of the actual performance of your network, and a better representation of datasets you'll use in the real world.\n",
        "\n",
        "\n",
        "In this notebook, you'll build your own neural network. For the most part, you could just copy and paste the code from Part 3, but you wouldn't be learning. It's important for you to write the code yourself and get it to work. Feel free to consult the previous notebooks though as you work through this.\n",
        "\n",
        "First off, let's load the dataset through torchvision."
      ]
    },
    {
      "cell_type": "code",
      "metadata": {
        "id": "gN1fDUe9PCGj"
      },
      "source": [
        "import torch\n",
        "from torchvision import datasets, transforms\n",
        "import helper\n",
        "\n",
        "# Define a transform to normalize the data\n",
        "transform = transforms.Compose([transforms.ToTensor(),\n",
        "                                transforms.Normalize((0.5, 0.5, 0.5), (0.5, 0.5, 0.5))])\n",
        "# Download and load the training data\n",
        "trainset = datasets.FashionMNIST('~/.pytorch/F_MNIST_data/', download=True, train=True, transform=transform)\n",
        "trainloader = torch.utils.data.DataLoader(trainset, batch_size=64, shuffle=True)\n",
        "\n",
        "# Download and load the test data\n",
        "testset = datasets.FashionMNIST('~/.pytorch/F_MNIST_data/', download=True, train=False, transform=transform)\n",
        "testloader = torch.utils.data.DataLoader(testset, batch_size=64, shuffle=True)\n",
        "\n",
        "Downloading http://fashion-mnist.s3-website.eu-central-1.amazonaws.com/train-images-idx3-ubyte.gz\n",
        "Downloading http://fashion-mnist.s3-website.eu-central-1.amazonaws.com/train-labels-idx1-ubyte.gz\n",
        "Downloading http://fashion-mnist.s3-website.eu-central-1.amazonaws.com/t10k-images-idx3-ubyte.gz\n",
        "Downloading http://fashion-mnist.s3-website.eu-central-1.amazonaws.com/t10k-labels-idx1-ubyte.gz\n",
        "Processing...\n",
        "Done!"
      ],
      "execution_count": null,
      "outputs": []
    },
    {
      "cell_type": "markdown",
      "metadata": {
        "id": "c0aSCw6ePMhw"
      },
      "source": [
        "Here we can see one of the images."
      ]
    },
    {
      "cell_type": "code",
      "metadata": {
        "id": "D4Cn29LNPNcA"
      },
      "source": [
        "image, label = next(iter(trainloader))\n",
        "helper.imshow(image[0,:]);"
      ],
      "execution_count": null,
      "outputs": []
    },
    {
      "cell_type": "markdown",
      "metadata": {
        "id": "pf1IACU-PT61"
      },
      "source": [
        "Building the network\n",
        "Here you should define your network. As with MNIST, each image is 28x28 which is a total of 784 pixels, and there are 10 classes. You should include at least one hidden layer. We suggest you use ReLU activations for the layers and to return the logits or log-softmax from the forward pass. It's up to you how many layers you add and the size of those layers."
      ]
    },
    {
      "cell_type": "code",
      "metadata": {
        "id": "QIWFpPg7PU31"
      },
      "source": [
        "# TODO: Define your network architecture here\n",
        "import torch\n",
        "from torch import nn\n",
        "import torch.nn.functional as F\n",
        " #build a network:\n",
        "model=nn.Sequential(nn.Linear(784,128),\n",
        "                    nn.ReLU(),\n",
        "                    nn.Linear(128,64),\n",
        "                    nn.ReLU(),\n",
        "                    nn.Linear(64,10),\n",
        "                    nn.ReLU(),\n",
        "                    nn.LogSoftmax())\n",
        "#define the loss\n",
        "criterion=nn.NLLLoss()\n",
        "\n",
        "# Get our data\n",
        "images, label = next(iter(trainloader))\n",
        "\n",
        "#flattening images\n",
        "\n",
        "images=images.view(images.shape[0],-1)\n",
        "#forward pass get our logits\n",
        "\n",
        "logits=model(images)\n",
        " #calculate loss with logits and labels\n",
        "loss=criterion(logits,label)\n",
        "\n",
        "print(loss)\n",
        "\n",
        "\n",
        "\n",
        "answer:\n",
        "tensor(2.2948)"
      ],
      "execution_count": null,
      "outputs": []
    },
    {
      "cell_type": "markdown",
      "metadata": {
        "id": "cme178LTPgD2"
      },
      "source": [
        "Train the network\n",
        "Now you should create your network and train it. First you'll want to define the criterion ( something like nn.CrossEntropyLoss) and the optimizer (typically optim.SGD or optim.Adam).\n",
        "\n",
        "Then write the training code. Remember the training pass is a fairly straightforward process:\n",
        "\n",
        "Make a forward pass through the network to get the logits\n",
        "Use the logits to calculate the loss\n",
        "Perform a backward pass through the network with loss.backward() to calculate the gradients\n",
        "Take a step with the optimizer to update the weights\n",
        "By adjusting the hyperparameters (hidden units, learning rate, etc), you should be able to get the training loss below 0.4."
      ]
    },
    {
      "cell_type": "code",
      "metadata": {
        "id": "98f9MTFaPjZN"
      },
      "source": [
        "# TODO: Create the network, define the criterion and optimizer\n",
        "model=nn.Sequential(nn.Linear(784,512),\n",
        "                    nn.ReLU(),\n",
        "                    nn.Linear(512,256),\n",
        "                    nn.ReLU(),\n",
        "                    nn.Linear(256,128),\n",
        "                    nn.ReLU(),\n",
        "                    nn.Linear(128,10)\n",
        "                    \n",
        "                    )\n",
        "#create loss\n",
        "criterion=nn.CrossEntropyLoss()\n",
        "\n",
        "#get our data\n",
        "images, label = next(iter(trainloader))\n",
        "\n",
        "#flattening images\n",
        "images=images.view(images.shape[0],-1)\n",
        "\n",
        "#get our logits(output of network before paasing to softmax)\n",
        "logits=model(images)\n",
        "# calculate loss\n",
        "\n",
        "loss=criterion(logits,label)\n",
        " \n",
        "\n",
        "print(loss)\n",
        "\n",
        "\n",
        "answer:\n",
        "tensor(2.3149)"
      ],
      "execution_count": null,
      "outputs": []
    },
    {
      "cell_type": "code",
      "metadata": {
        "id": "9LSCBpfvPrHg"
      },
      "source": [
        "# TODO: Train the network here\n",
        "from torch import optim\n",
        "\n",
        "# Optimizers require the parameters to optimize and a learning rate\n",
        "optimizer = optim.Adam(model.parameters(), lr=0.003)\n",
        "\n",
        "print('Initial weights - ', model[0].weight)\n",
        "\n",
        "images, labels = next(iter(trainloader))\n",
        "images.resize_(64, 784)\n",
        "# Clear the gradients, do this because gradients are accumulated\n",
        "optimizer.zero_grad()\n",
        "# Forward pass, then backward pass, then update weights\n",
        "output=model.forward(images)\n",
        "loss=criterion(output,labels)\n",
        "loss.backward()\n",
        "\n",
        "print('Gradient -', model[0].weight.grad)\n",
        "# Take an update step and few the new weights\n",
        "optimizer.step()\n",
        "print('updated weights',model[0].weight.grad)\n",
        "\n",
        "epochs = 3\n",
        "for e in range(epochs):\n",
        "    running_loss = 0\n",
        "    for images, labels in trainloader:\n",
        "        # Flatten MNIST images into a 784 long vector\n",
        "        images = images.view(images.shape[0], -1)\n",
        "        \n",
        "        # TODO: Training pass\n",
        "        optimizer.zero_grad()\n",
        "        output=model.forward(images)\n",
        "        logits = model(images)\n",
        "        loss = criterion(logits, labels)\n",
        "        loss.backward()\n",
        "        optimizer.step()\n",
        "       \n",
        "        \n",
        "        running_loss += loss.item()\n",
        "    else:\n",
        "        print(f\"Training loss: {running_loss/len(trainloader)}\")\n",
        "\n",
        "\n",
        "answer:\n",
        "Initial weights -  Parameter containing:\n",
        "tensor([[-3.0849e-02,  1.8076e-02, -2.0015e-03,  ..., -1.0432e-02,\n",
        "          7.1288e-03, -4.4375e-03],\n",
        "        [-1.8509e-02,  3.2373e-02,  6.7621e-03,  ...,  7.9127e-03,\n",
        "         -1.7961e-02, -1.0918e-02],\n",
        "        [-1.1442e-02, -1.0723e-02, -1.5017e-02,  ..., -2.1449e-03,\n",
        "          3.2004e-02,  1.5501e-02],\n",
        "        ...,\n",
        "        [ 2.9442e-02,  9.5130e-04,  3.2680e-02,  ...,  3.2436e-02,\n",
        "          8.2210e-03, -9.2530e-03],\n",
        "        [ 1.3577e-02,  2.3119e-02,  2.1621e-03,  ...,  2.0997e-02,\n",
        "         -3.4582e-02,  2.4604e-02],\n",
        "        [-2.8931e-02,  1.5525e-02,  3.4440e-02,  ..., -3.3895e-02,\n",
        "          2.8665e-02,  1.2400e-02]])\n",
        "Gradient - tensor(1.00000e-03 *\n",
        "       [[ 1.1169,  1.1169,  1.1169,  ...,  1.1169,  1.1169,  1.1169],\n",
        "        [-0.2872, -0.2872, -0.2872,  ..., -0.2872, -0.2872, -0.2872],\n",
        "        [ 0.0986,  0.0986,  0.0988,  ...,  0.1036,  0.0986,  0.0986],\n",
        "        ...,\n",
        "        [ 0.0043,  0.0043,  0.0045,  ...,  0.0043,  0.0043,  0.0043],\n",
        "        [ 0.0490,  0.0490,  0.0490,  ...,  0.0600,  0.0490,  0.0490],\n",
        "        [ 0.6445,  0.6445,  0.6444,  ...,  0.6426,  0.6445,  0.6445]])\n",
        "updated weights tensor(1.00000e-03 *\n",
        "       [[ 1.1169,  1.1169,  1.1169,  ...,  1.1169,  1.1169,  1.1169],\n",
        "        [-0.2872, -0.2872, -0.2872,  ..., -0.2872, -0.2872, -0.2872],\n",
        "        [ 0.0986,  0.0986,  0.0988,  ...,  0.1036,  0.0986,  0.0986],\n",
        "        ...,\n",
        "        [ 0.0043,  0.0043,  0.0045,  ...,  0.0043,  0.0043,  0.0043],\n",
        "        [ 0.0490,  0.0490,  0.0490,  ...,  0.0600,  0.0490,  0.0490],\n",
        "        [ 0.6445,  0.6445,  0.6444,  ...,  0.6426,  0.6445,  0.6445]])\n",
        "Training loss: 0.5113631303884836\n",
        "Training loss: 0.3995435620580655\n",
        "Training loss: 0.3632501548509608"
      ],
      "execution_count": null,
      "outputs": []
    },
    {
      "cell_type": "code",
      "metadata": {
        "id": "yvfdAwIRP7lr"
      },
      "source": [
        "%matplotlib inline\n",
        "%config InlineBackend.figure_format = 'retina'\n",
        "\n",
        "import helper\n",
        "\n",
        "# Test out your network!\n",
        "\n",
        "dataiter = iter(testloader)\n",
        "images, labels = dataiter.next()\n",
        "img = images[2]\n",
        "# Convert 2D image to 1D vector\n",
        "img = img.resize_(1, 784)\n",
        "\n",
        "# TODO: Calculate the class probabilities (softmax) for img\n",
        "ps =F.softmax(model(img))\n",
        "\n",
        "# Plot the image and probabilities\n",
        "helper.view_classify(img.resize_(1, 28, 28), ps, version='Fashion')\n",
        "\n"
      ],
      "execution_count": null,
      "outputs": []
    }
  ]
}