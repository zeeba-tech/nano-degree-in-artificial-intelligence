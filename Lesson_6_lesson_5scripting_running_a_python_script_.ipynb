{
  "nbformat": 4,
  "nbformat_minor": 0,
  "metadata": {
    "colab": {
      "name": "Lesson-6-lesson-5scripting-running a python script .ipynb",
      "provenance": [],
      "collapsed_sections": [],
      "authorship_tag": "ABX9TyO+YbWLdJBFkk7neeuPV3m4",
      "include_colab_link": true
    },
    "kernelspec": {
      "name": "python3",
      "display_name": "Python 3"
    },
    "language_info": {
      "name": "python"
    }
  },
  "cells": [
    {
      "cell_type": "markdown",
      "metadata": {
        "id": "view-in-github",
        "colab_type": "text"
      },
      "source": [
        "<a href=\"https://colab.research.google.com/github/zeeba-tech/nano-degree-in-artificial-intelligence/blob/main/Lesson_6_lesson_5scripting_running_a_python_script_.ipynb\" target=\"_parent\"><img src=\"https://colab.research.google.com/assets/colab-badge.svg\" alt=\"Open In Colab\"/></a>"
      ]
    },
    {
      "cell_type": "code",
      "metadata": {
        "id": "tHMteAnGEFFO"
      },
      "source": [
        "'''Run a Python Script!\n",
        "Download the zip file first_script attached at the bottom of this page (click it to unzip the file, then move it to an appropriate directory on your computer). This might be a good time to set up a new directory for your learning if you don't have one already.\n",
        "Open your terminal and use cd to navigate to the directory containing that downloaded file.\n",
        "Now that you’re in the directory with the file, you can run it by typing python first_script.py and pressing enter. Note: You may have to enter python3 instead of python to execute Python 3 if you have both versions installed on your computer.\n",
        "You’ll know you’ve run the script successfully if you see this message printed to your terminal:\n",
        "\n",
        "Congratulations on running this script!!'''"
      ],
      "execution_count": null,
      "outputs": []
    }
  ]
}