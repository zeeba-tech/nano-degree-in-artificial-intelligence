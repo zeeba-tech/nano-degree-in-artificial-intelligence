{
  "nbformat": 4,
  "nbformat_minor": 0,
  "metadata": {
    "colab": {
      "name": "Lesson-6/scripting-Reading and writing files.ipynb",
      "provenance": [],
      "collapsed_sections": [],
      "authorship_tag": "ABX9TyNUO5J1owdNVTd6xexxkOak",
      "include_colab_link": true
    },
    "kernelspec": {
      "name": "python3",
      "display_name": "Python 3"
    },
    "language_info": {
      "name": "python"
    }
  },
  "cells": [
    {
      "cell_type": "markdown",
      "metadata": {
        "id": "view-in-github",
        "colab_type": "text"
      },
      "source": [
        "<a href=\"https://colab.research.google.com/github/zeeba-tech/nano-degree-in-artificial-intelligence/blob/main/Lesson_6_scripting_Reading_and_writing_files.ipynb\" target=\"_parent\"><img src=\"https://colab.research.google.com/assets/colab-badge.svg\" alt=\"Open In Colab\"/></a>"
      ]
    },
    {
      "cell_type": "code",
      "metadata": {
        "id": "iO0wsUdB8prI"
      },
      "source": [
        "'''Reading and Writing Files\n",
        "To follow along with the example above, create a new file in Atom, copy the following text into it, and save it as some_file.txt!\n",
        "\n",
        "Hello!!\n",
        "\n",
        "You've read the contents of this file!\n",
        "Here's how we read and write files in Python.\n",
        "\n",
        "Reading a File\n",
        "f = open('my_path/my_file.txt', 'r')\n",
        "file_data = f.read()\n",
        "f.close()\n",
        "First open the file using the built-in function, open. This requires a string that shows the path to the file. The open function returns a file object, which is a Python object through which Python interacts with the file itself. Here, we assign this object to the variable f.\n",
        "There are optional parameters you can specify in the open function. One is the mode in which we open the file. Here, we use r or read only. This is actually the default value for the mode argument.\n",
        "Use the read method to access the contents from the file object. This read method takes the text contained in a file and puts it into a string. Here, we assign the string returned from this method into the variable file_data.\n",
        "When finished with the file, use the close method to free up any system resources taken up by the file.\n",
        "Writing to a File\n",
        "f = open('my_path/my_file.txt', 'w')\n",
        "f.write(\"Hello there!\")\n",
        "f.close()\n",
        "Open the file in writing ('w') mode. If the file does not exist, Python will create it for you. If you open an existing file in writing mode, any content that it had contained previously will be deleted. If you're interested in adding to an existing file, without deleting its content, you should use the append ('a') mode instead of write.\n",
        "Use the write method to add text to the file.\n",
        "Close the file when finished.\n",
        "Too Many Open Files\n",
        "Run the following script in Python to see what happens when you open too many files without closing them!\n",
        "\n",
        "files = []\n",
        "for i in range(10000):\n",
        "    files.append(open('some_file.txt', 'r'))\n",
        "    print(i)\n",
        "\n",
        "With\n",
        "Python provides a special syntax that auto-closes a file for you once you're finished using it.\n",
        "\n",
        "with open('my_path/my_file.txt', 'r') as f:\n",
        "    file_data = f.read()\n",
        "This with keyword allows you to open a file, do operations on it, and automatically close it after the indented code is executed, in this case, reading from the file. Now, we don’t have to call f.close()! You can only access the file object, f, within this indented block.\n",
        "\n",
        "'''"
      ],
      "execution_count": null,
      "outputs": []
    },
    {
      "cell_type": "code",
      "metadata": {
        "colab": {
          "base_uri": "https://localhost:8080/",
          "height": 159
        },
        "id": "lcPq42CKSrGs",
        "outputId": "7fc06bb2-dba6-4405-b636-9466b55ef6aa"
      },
      "source": [
        "'''Calling the read Method with an Integer\n",
        "In the code you saw earlier, the call to f.read() had no arguments passed to it. This defaults to reading all the remainder of the file from its current position - the whole file. If you pass the read method an integer argument, it will read up to that number of characters, output all of them, and keep the 'window' at that position ready to read on.\n",
        "\n",
        "Let's see this in an example that uses the following file, camelot.txt:\n",
        "\n",
        "We're the knights of the round table\n",
        "We dance whenever we're able\n",
        "Here's a script that reads in the file a little at a time by passing an integer argument to .read().\n",
        "\n",
        "with open(\"camelot.txt\") as song:\n",
        "    print(song.read(2))\n",
        "    print(song.read(8))\n",
        "    print(song.read())\n",
        "Outputs:\n",
        "\n",
        "We\n",
        "'re the \n",
        "knights of the round table\n",
        "We dance whenever we're able\n",
        "You can try out this example by creating your own camelot.txt and example.py files with the text above.\n",
        "\n",
        "Each time we called read on the file with an integer argument, it read up to that number of characters, outputted them, and kept the 'window' at that position for the next call to read. This makes moving around in the open file a little tricky, as there aren't many landmarks to navigate by.\n",
        "\n",
        "Reading Line by Line\n",
        "\\ns in blocks of text are newline characters. The newline character marks the end of a line, and tells a program (such as a text editor) to go down to the next line. However, looking at the stream of characters in the file, \\n is just another character.\n",
        "\n",
        "Fortunately, Python knows that these are special characters and you can ask it to read one line at a time. Let's try it!\n",
        "\n",
        "Read the next line\n",
        "Use the relevant part of the Python documentation to find a method that reads the next line of a file. Put the name of the method in the box.\n",
        "\n",
        "readline\n",
        "\n",
        "Conveniently, Python will loop over the lines of a file using the syntax for line in file. I can use this to create a list of lines in the file. Because each line still has its newline character attached, I remove this using .strip().\n",
        "\n",
        "camelot_lines = []\n",
        "with open(\"camelot.txt\") as f:\n",
        "    for line in f:\n",
        "        camelot_lines.append(line.strip())\n",
        "\n",
        "print(camelot_lines)\n",
        "Outputs:\n",
        "\n",
        "[\"We're the knights of the round table\", \"We dance whenever we're able\"]\n",
        "Quiz: Flying Circus Cast List\n",
        "You're going to create a list of the actors who appeared in the television programme Monty Python's Flying Circus.\n",
        "\n",
        "Write a function called create_cast_list that takes a filename as input and returns a list of actors' names. It will be run on the file flying_circus_cast.txt (this information was collected from imdb.com). Each line of that file consists of an actor's name, a comma, and then some (messy) information about roles they played in the programme. You'll need to extract only the name and add it to a list. You might use the .split() method to process each line.\n",
        "\n",
        "cast_list.py\n",
        "flying_circus_cast.txt\n",
        "def create_cast_list(filename):\n",
        "    cast_list = []\n",
        "    \n",
        "    with open('flying_circus_cast.txt') as f:\n",
        "        for name in f:\n",
        "            cast_list.append((' '.join(name.split()[0:2])).replace(',', ''))\n",
        "    \n",
        "    print(cast_list)\n",
        "    #use with to open the file filename\n",
        "    #use the for loop syntax to process each line\n",
        "    #and add the actor name to cast_list\n",
        "    #print(cast_list)\n",
        "\n",
        "            \n",
        "\n",
        "create_cast_list('flying_circus_cast.txt')\n",
        "#for actor in cast_list:\n",
        "#print(cast_list)'''\n",
        "  \n"
      ],
      "execution_count": 2,
      "outputs": [
        {
          "output_type": "execute_result",
          "data": {
            "application/vnd.google.colaboratory.intrinsic+json": {
              "type": "string"
            },
            "text/plain": [
              "'Calling the read Method with an Integer\\nIn the code you saw earlier, the call to f.read() had no arguments passed to it. This defaults to reading all the remainder of the file from its current position - the whole file. If you pass the read method an integer argument, it will read up to that number of characters, output all of them, and keep the \\'window\\' at that position ready to read on.\\n\\nLet\\'s see this in an example that uses the following file, camelot.txt:\\n\\nWe\\'re the knights of the round table\\nWe dance whenever we\\'re able\\nHere\\'s a script that reads in the file a little at a time by passing an integer argument to .read().\\n\\nwith open(\"camelot.txt\") as song:\\n    print(song.read(2))\\n    print(song.read(8))\\n    print(song.read())\\nOutputs:\\n\\nWe\\n\\'re the \\nknights of the round table\\nWe dance whenever we\\'re able\\nYou can try out this example by creating your own camelot.txt and example.py files with the text above.\\n\\nEach time we called read on the file with an integer argument, it read up to that number of characters, outputted them, and kept the \\'window\\' at that position for the next call to read. This makes moving around in the open file a little tricky, as there aren\\'t many landmarks to navigate by.\\n\\nReading Line by Line\\n\\ns in blocks of text are newline characters. The newline character marks the end of a line, and tells a program (such as a text editor) to go down to the next line. However, looking at the stream of characters in the file, \\n is just another character.\\n\\nFortunately, Python knows that these are special characters and you can ask it to read one line at a time. Let\\'s try it!\\n\\nRead the next line\\nUse the relevant part of the Python documentation to find a method that reads the next line of a file. Put the name of the method in the box.\\n\\nreadline\\n\\nConveniently, Python will loop over the lines of a file using the syntax for line in file. I can use this to create a list of lines in the file. Because each line still has its newline character attached, I remove this using .strip().\\n\\ncamelot_lines = []\\nwith open(\"camelot.txt\") as f:\\n    for line in f:\\n        camelot_lines.append(line.strip())\\n\\nprint(camelot_lines)\\nOutputs:\\n\\n[\"We\\'re the knights of the round table\", \"We dance whenever we\\'re able\"]\\nQuiz: Flying Circus Cast List\\nYou\\'re going to create a list of the actors who appeared in the television programme Monty Python\\'s Flying Circus.\\n\\nWrite a function called create_cast_list that takes a filename as input and returns a list of actors\\' names. It will be run on the file flying_circus_cast.txt (this information was collected from imdb.com). Each line of that file consists of an actor\\'s name, a comma, and then some (messy) information about roles they played in the programme. You\\'ll need to extract only the name and add it to a list. You might use the .split() method to process each line.\\n\\ncast_list.py\\nflying_circus_cast.txt\\ndef create_cast_list(filename):\\n    cast_list = []\\n    \\n    with open(\\'flying_circus_cast.txt\\') as f:\\n        for name in f:\\n            cast_list.append((\\' \\'.join(name.split()[0:2])).replace(\\',\\', \\'\\'))\\n    \\n    print(cast_list)\\n    #use with to open the file filename\\n    #use the for loop syntax to process each line\\n    #and add the actor name to cast_list\\n    #print(cast_list)\\n\\n            \\n\\ncreate_cast_list(\\'flying_circus_cast.txt\\')\\n#for actor in cast_list:\\n#print(cast_list)'"
            ]
          },
          "metadata": {
            "tags": []
          },
          "execution_count": 2
        }
      ]
    }
  ]
}