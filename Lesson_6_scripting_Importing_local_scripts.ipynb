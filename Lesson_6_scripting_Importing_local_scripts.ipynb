{
  "nbformat": 4,
  "nbformat_minor": 0,
  "metadata": {
    "colab": {
      "name": "Lesson-6-scripting-Importing local scripts.ipynb",
      "provenance": [],
      "collapsed_sections": [],
      "authorship_tag": "ABX9TyM7jMdz8IdFRxTsCx6J11x5",
      "include_colab_link": true
    },
    "kernelspec": {
      "name": "python3",
      "display_name": "Python 3"
    },
    "language_info": {
      "name": "python"
    }
  },
  "cells": [
    {
      "cell_type": "markdown",
      "metadata": {
        "id": "view-in-github",
        "colab_type": "text"
      },
      "source": [
        "<a href=\"https://colab.research.google.com/github/zeeba-tech/nano-degree-in-artificial-intelligence/blob/main/Lesson_6_scripting_Importing_local_scripts.ipynb\" target=\"_parent\"><img src=\"https://colab.research.google.com/assets/colab-badge.svg\" alt=\"Open In Colab\"/></a>"
      ]
    },
    {
      "cell_type": "code",
      "metadata": {
        "id": "C_csgjDvTpFH"
      },
      "source": [
        "'''Importing Local Scripts\n",
        "We can actually import Python code from other scripts, which is helpful if you are working on a bigger project where you want to organize your code into multiple files and reuse code in those files. If the Python script you want to import is in the same directory as your current script, you just type import followed by the name of the file, without the .py extension.\n",
        "\n",
        "import useful_functions\n",
        "It's the standard convention for import statements to be written at the top of a Python script, each one on a separate line. This import statement creates a module object called useful_functions. Modules are just Python files that contain definitions and statements. To access objects from an imported module, you need to use dot notation.\n",
        "\n",
        "import useful_functions\n",
        "useful_functions.add_five([1, 2, 3, 4])\n",
        "We can add an alias to an imported module to reference it with a different name.\n",
        "\n",
        "import useful_functions as uf\n",
        "uf.add_five([1, 2, 3, 4])\n",
        "Using a main block\n",
        "To avoid running executable statements in a script when it's imported as a module in another script, include these lines in an if __name__ == \"__main__\" block. Or alternatively, include them in a function called main() and call this in the if main block.\n",
        "\n",
        "Whenever we run a script like this, Python actually sets a special built-in variable called __name__ for any module. When we run a script, Python recognizes this module as the main program, and sets the __name__ variable for this module to the string \"__main__\". For any modules that are imported in this script, this built-in __name__ variable is just set to the name of that module. Therefore, the condition if __name__ == \"__main__\"is just checking whether this module is the main program.\n",
        "\n",
        "Try It Out!\n",
        "Here's the code I used in the video above. Create these scripts in the same directory and run them in your terminal! Experiment with the if main block and accessing objects from the imported module!\n",
        "\n",
        "# demo.py\n",
        "\n",
        "import useful_functions as uf\n",
        "\n",
        "scores = [88, 92, 79, 93, 85]\n",
        "\n",
        "mean = uf.mean(scores)\n",
        "curved = uf.add_five(scores)\n",
        "\n",
        "mean_c = uf.mean(curved)\n",
        "\n",
        "print(\"Scores:\", scores)\n",
        "print(\"Original Mean:\", mean, \" New Mean:\", mean_c)\n",
        "\n",
        "print(__name__)\n",
        "print(uf.__name__)\n",
        "# useful_functions.py\n",
        "\n",
        "def mean(num_list):\n",
        "    return sum(num_list) / len(num_list)\n",
        "\n",
        "def add_five(num_list):\n",
        "    return [n + 5 for n in num_list]\n",
        "\n",
        "def main():\n",
        "    print(\"Testing mean function\")\n",
        "    n_list = [34, 44, 23, 46, 12, 24]\n",
        "    correct_mean = 30.5\n",
        "    assert(mean(n_list) == correct_mean)\n",
        "\n",
        "    print(\"Testing add_five function\")\n",
        "    correct_list = [39, 49, 28, 51, 17, 29]\n",
        "    assert(add_five(n_list) == correct_list)\n",
        "\n",
        "    print(\"All tests passed!\")\n",
        "\n",
        "if __name__ == '__main__':\n",
        "    main()\n",
        "'''"
      ],
      "execution_count": null,
      "outputs": []
    },
    {
      "cell_type": "code",
      "metadata": {
        "id": "d8p0z6MCb7aV"
      },
      "source": [
        ""
      ],
      "execution_count": null,
      "outputs": []
    }
  ]
}