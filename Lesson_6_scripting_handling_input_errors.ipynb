{
  "nbformat": 4,
  "nbformat_minor": 0,
  "metadata": {
    "colab": {
      "name": "Lesson-6-scripting/handling input errors.ipynb",
      "provenance": [],
      "collapsed_sections": [],
      "authorship_tag": "ABX9TyOATJ0XEvnKldOXx5GwNCT+",
      "include_colab_link": true
    },
    "kernelspec": {
      "name": "python3",
      "display_name": "Python 3"
    },
    "language_info": {
      "name": "python"
    }
  },
  "cells": [
    {
      "cell_type": "markdown",
      "metadata": {
        "id": "view-in-github",
        "colab_type": "text"
      },
      "source": [
        "<a href=\"https://colab.research.google.com/github/zeeba-tech/nano-degree-in-artificial-intelligence/blob/main/Lesson_6_scripting_handling_input_errors.ipynb\" target=\"_parent\"><img src=\"https://colab.research.google.com/assets/colab-badge.svg\" alt=\"Open In Colab\"/></a>"
      ]
    },
    {
      "cell_type": "code",
      "metadata": {
        "id": "71QRghOzK9Gd"
      },
      "source": [
        "'''Try Statement\n",
        "We can use try statements to handle exceptions. There are four clauses you can use (one more in addition to those shown in the video).\n",
        "\n",
        "try: This is the only mandatory clause in a try statement. The code in this block is the first thing that Python runs in a try statement.\n",
        "except: If Python runs into an exception while running the try block, it will jump to the except block that handles that exception.\n",
        "else: If Python runs into no exceptions while running the try block, it will run the code in this block after running the try block.\n",
        "finally: Before Python leaves this try statement, it will run the code in this finally block under any conditions, even if it's ending the program. E.g., if Python ran into an error while running code in the except or else block, this finally block will still be executed before stopping the program.\n",
        "Why do we need the finally clause in Python?\n",
        "\n",
        "\n",
        "Specifying Exceptions\n",
        "We can actually specify which error we want to handle in an except block like this:\n",
        "\n",
        "try:\n",
        "    # some code\n",
        "except ValueError:\n",
        "    # some code\n",
        "Now, it catches the ValueError exception, but not other exceptions. If we want this handler to address more than one type of exception, we can include a parenthesized tuple after the except with the exceptions.\n",
        "\n",
        "try:\n",
        "    # some code\n",
        "except (ValueError, KeyboardInterrupt):\n",
        "    # some code\n",
        "Or, if we want to execute different blocks of code depending on the exception, you can have multiple except blocks.\n",
        "\n",
        "try:\n",
        "    # some code\n",
        "except ValueError:\n",
        "    # some code\n",
        "except KeyboardInterrupt:\n",
        "    # some code\n",
        "'''"
      ],
      "execution_count": null,
      "outputs": []
    },
    {
      "cell_type": "code",
      "metadata": {
        "colab": {
          "base_uri": "https://localhost:8080/"
        },
        "id": "AdFL5A2cbfZh",
        "outputId": "9e7262fe-0dea-420f-8c48-9eabb0dc8a35"
      },
      "source": [
        "'''Handling Input Errors\n",
        "The party_planner function below takes as input a number of party people and cookies and figures out how many cookies each person gets at the party, assuming equitable distribution of cookies. Then, it returns that number along with how many cookies will be left over.\n",
        "\n",
        "Right now, calling the function with an input of 0 people will cause an error, because it creates a ZeroDivisionError exception. Edit the party_planner function to handle this invalid input. If it runs into this exception, it should print a warning message to the user and request they input a different number of people.\n",
        "\n",
        "After you've edited the function, try running the file again and make sure it does what you intended. Try it with several different input values, including 0 and other values for the number of people.'''\n",
        "\n",
        "\n",
        "def party_planner(cookies, people):\n",
        "    leftovers = None\n",
        "    num_each = None\n",
        "    # TODO: Add a try-except block here to\n",
        "    #       make sure no ZeroDivisionError occurs.\n",
        "    try:\n",
        "        num_each = cookies // people\n",
        "        leftovers = cookies % people\n",
        "    except ZeroDivisionError as e:\n",
        "        print(e,\"\\nEnter a valid number of people\")\n",
        "        \n",
        "\n",
        "    return(num_each, leftovers)\n",
        "\n",
        "# The main code block is below; do not edit this\n",
        "lets_party = 'y'\n",
        "while lets_party == 'y':\n",
        "\n",
        "    cookies = int(input(\"How many cookies are you baking? \"))\n",
        "    people = int(input(\"How many people are attending? \"))\n",
        "\n",
        "    cookies_each, leftovers = party_planner(cookies, people)\n",
        "\n",
        "    if cookies_each:  # if cookies_each is not None\n",
        "        message = \"\\nLet's party! We'll have {} people attending, they'll each get to eat {} cookies, and we'll have {} left over.\"\n",
        "        print(message.format(people, cookies_each, leftovers))\n",
        "\n",
        "    lets_party = input(\"\\nWould you like to party more? (y or n) \")"
      ],
      "execution_count": 1,
      "outputs": [
        {
          "output_type": "stream",
          "text": [
            "How many cookies are you baking? 5\n",
            "How many people are attending? 0\n",
            "integer division or modulo by zero \n",
            "Enter a valid number of people\n",
            "\n",
            "Would you like to party more? (y or n) y\n",
            "How many cookies are you baking? 5\n",
            "How many people are attending? 1\n",
            "\n",
            "Let's party! We'll have 1 people attending, they'll each get to eat 5 cookies, and we'll have 0 left over.\n",
            "\n",
            "Would you like to party more? (y or n) y\n",
            "How many cookies are you baking? 10\n",
            "How many people are attending? 1\n",
            "\n",
            "Let's party! We'll have 1 people attending, they'll each get to eat 10 cookies, and we'll have 0 left over.\n",
            "\n",
            "Would you like to party more? (y or n) y\n",
            "How many cookies are you baking? 10\n",
            "How many people are attending? 7\n",
            "\n",
            "Let's party! We'll have 7 people attending, they'll each get to eat 1 cookies, and we'll have 3 left over.\n",
            "\n",
            "Would you like to party more? (y or n) y\n",
            "How many cookies are you baking? 10\n",
            "How many people are attending? 0\n",
            "integer division or modulo by zero \n",
            "Enter a valid number of people\n",
            "\n",
            "Would you like to party more? (y or n) n\n"
          ],
          "name": "stdout"
        }
      ]
    }
  ]
}