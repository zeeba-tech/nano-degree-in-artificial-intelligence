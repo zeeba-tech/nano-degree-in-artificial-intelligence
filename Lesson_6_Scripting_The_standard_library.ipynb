{
  "nbformat": 4,
  "nbformat_minor": 0,
  "metadata": {
    "colab": {
      "name": "Lesson-6/Scripting-The standard library.ipynb",
      "provenance": [],
      "collapsed_sections": [],
      "authorship_tag": "ABX9TyMDTSQ/ayO+JkHKeJBnhsVX",
      "include_colab_link": true
    },
    "kernelspec": {
      "name": "python3",
      "display_name": "Python 3"
    },
    "language_info": {
      "name": "python"
    }
  },
  "cells": [
    {
      "cell_type": "markdown",
      "metadata": {
        "id": "view-in-github",
        "colab_type": "text"
      },
      "source": [
        "<a href=\"https://colab.research.google.com/github/zeeba-tech/nano-degree-in-artificial-intelligence/blob/main/Lesson_6_Scripting_The_standard_library.ipynb\" target=\"_parent\"><img src=\"https://colab.research.google.com/assets/colab-badge.svg\" alt=\"Open In Colab\"/></a>"
      ]
    },
    {
      "cell_type": "code",
      "metadata": {
        "id": "A-4GvYz05ZaF"
      },
      "source": [
        "a=[i for i in 'abcdefghijklmnopqrstuvwxyz']"
      ],
      "execution_count": 11,
      "outputs": []
    },
    {
      "cell_type": "code",
      "metadata": {
        "colab": {
          "base_uri": "https://localhost:8080/"
        },
        "id": "IbxGl_CRIUXY",
        "outputId": "e3319f96-ca75-4ad7-fc44-9dccd295aa71"
      },
      "source": [
        "from random import sample\n",
        "sample(a,k=3)"
      ],
      "execution_count": 12,
      "outputs": [
        {
          "output_type": "execute_result",
          "data": {
            "text/plain": [
              "['k', 'u', 'w']"
            ]
          },
          "metadata": {
            "tags": []
          },
          "execution_count": 12
        }
      ]
    },
    {
      "cell_type": "code",
      "metadata": {
        "id": "KKNLMnsNIiXt"
      },
      "source": [
        "def generate_password(list_one):\n",
        "  b=sample(list_one,k=3)\n",
        "  return ''.join(b)"
      ],
      "execution_count": 13,
      "outputs": []
    },
    {
      "cell_type": "code",
      "metadata": {
        "colab": {
          "base_uri": "https://localhost:8080/",
          "height": 35
        },
        "id": "EMOb_BVmI2WB",
        "outputId": "3c1334e7-9ec5-4d03-c3ea-e33edd774cb3"
      },
      "source": [
        "\n",
        "generate_password(a)"
      ],
      "execution_count": 14,
      "outputs": [
        {
          "output_type": "execute_result",
          "data": {
            "application/vnd.google.colaboratory.intrinsic+json": {
              "type": "string"
            },
            "text/plain": [
              "'wsg'"
            ]
          },
          "metadata": {
            "tags": []
          },
          "execution_count": 14
        }
      ]
    },
    {
      "cell_type": "code",
      "metadata": {
        "id": "wKdyvW9ZQmjR"
      },
      "source": [
        "quiz:3''' Password Generator\n",
        "Write a function called generate_password that selects three random words from the list of words word_list and concatenates them into a single string. Your function should not accept any arguments and should reference the global variable word_list to build the password.\n",
        "\n",
        "password_generator.py\n",
        "words.txt'''\n",
        "# Use an import statement at the top\n",
        "from random import sample\n",
        "\n",
        "\n",
        "\n",
        "word_file = \"words.txt\"\n",
        "word_list = []\n",
        "\n",
        "\n",
        "\n",
        "#fill up the word_list\n",
        "with open(word_file,'r') as words:\n",
        "\tfor line in words:\n",
        "\t\t# remove white space and make everything lowercase\n",
        "\t\tword = line.strip().lower()\n",
        "\t\t# don't include words that are too long or too short\n",
        "\t\tif 3 < len(word) < 8:\n",
        "\t\t\tword_list.append(word)\n",
        "def generate_password():\n",
        "    b=sample(word_list,k=3)\n",
        "    return ''.join(b)\n",
        "    \n",
        "\n",
        "# Add your function generate_password here\n",
        "# It should return a string consisting of three random words \n",
        "# concatenated together without spaces\n",
        "\n",
        "\n",
        "\n",
        "# test your function\n",
        "generate_password(word_list)\n",
        "  \n"
      ],
      "execution_count": null,
      "outputs": []
    },
    {
      "cell_type": "code",
      "metadata": {
        "id": "vJ2XJPPPXHy5"
      },
      "source": [
        "quiz:2'''Explore the Standard Library\n",
        "In the following quizzes, enter the name of the module that solves each problem. Note that capitalization is important! Every module in the standard library is lowercased. You can browse the library documentation here.\n",
        "\n",
        "Which Module? 1\n",
        "Which module can tell you the current time and date?\n",
        "\n",
        "datetime\n",
        "\n",
        "Which Module? 2\n",
        "Which module has a method for changing the current working directory?\n",
        "\n",
        "os\n",
        "\n",
        "Which Module? 3\n",
        "Which module can read data from a comma separated values (.csv) file into Python dictionaries for each row?\n",
        "\n",
        "csv\n",
        "\n",
        "Which Module? 4\n",
        "Which module can help extract all of the files from a zip file?\n",
        "\n",
        "zipfile\n",
        "\n",
        "Which Module? 5\n",
        "Which module can say how long your code took to run?\n",
        "\n",
        "timeit\n",
        "\n",
        "Our favourite modules\n",
        "The Python Standard Library has a lot of modules! To help you get familiar with what's available, here are a selection of our favourite Python Standard Library modules and why we use them!\n",
        "\n",
        "csv: very convenient for reading and writing csv files\n",
        "collections: useful extensions of the usual data types including OrderedDict, defaultdict and namedtuple\n",
        "random: generates pseudo-random numbers, shuffles sequences randomly and chooses random items\n",
        "string: more functions on strings. This module also contains useful collections of letters like string.digits (a string containing all characters which are valid digits).\n",
        "re: pattern-matching in strings via regular expressions\n",
        "math: some standard mathematical functions\n",
        "os: interacting with operating systems\n",
        "os.path: submodule of os for manipulating path names\n",
        "sys: work directly with the Python interpreter\n",
        "json: good for reading and writing json files (good for web work)\n",
        "We hope you find these useful!\n",
        "\n",
        "'''"
      ],
      "execution_count": null,
      "outputs": []
    },
    {
      "cell_type": "code",
      "metadata": {
        "id": "e-YG_SeuXSqb"
      },
      "source": [
        "quiz 1:Compute an Exponent\n",
        "It's your turn to import and use the math module. Use the math module to calculate e to the power of 3. print the answer.\n",
        "\n",
        "Refer to the math module's documentation to find the function you need!\n",
        "\n",
        "# print e to the power of 3 using the math module\n",
        "from math import exp\n",
        "print(exp(3))\n",
        "  \n"
      ],
      "execution_count": null,
      "outputs": []
    }
  ]
}