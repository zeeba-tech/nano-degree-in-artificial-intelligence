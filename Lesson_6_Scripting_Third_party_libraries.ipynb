{
  "nbformat": 4,
  "nbformat_minor": 0,
  "metadata": {
    "colab": {
      "name": "Lesson-6-Scripting/Third party libraries.ipynb",
      "provenance": [],
      "collapsed_sections": [],
      "authorship_tag": "ABX9TyMifnwPu8AIUWZrKGJW125Z",
      "include_colab_link": true
    },
    "kernelspec": {
      "name": "python3",
      "display_name": "Python 3"
    },
    "language_info": {
      "name": "python"
    }
  },
  "cells": [
    {
      "cell_type": "markdown",
      "metadata": {
        "id": "view-in-github",
        "colab_type": "text"
      },
      "source": [
        "<a href=\"https://colab.research.google.com/github/zeeba-tech/nano-degree-in-artificial-intelligence/blob/main/Lesson_6_Scripting_Third_party_libraries.ipynb\" target=\"_parent\"><img src=\"https://colab.research.google.com/assets/colab-badge.svg\" alt=\"Open In Colab\"/></a>"
      ]
    },
    {
      "cell_type": "code",
      "metadata": {
        "id": "Dzov6gp1dffl"
      },
      "source": [
        "'''\n",
        "Third-Party Libraries\n",
        "There are tens of thousands of third-party libraries written by independent developers! You can install them using pip, a package manager that is included with Python 3. pip is the standard package manager for Python, but it isn't the only one. One popular alternative is Anaconda which is designed specifically for data science.\n",
        "\n",
        "To install a package using pip, just enter \"pip install\" followed by the name of the package in your command line like this: pip install package_name. This downloads and installs the package so that it's available to import in your programs. Once installed, you can import third-party packages using the same syntax used to import from the standard library.\n",
        "\n",
        "Using a requirements.txt File\n",
        "Larger Python programs might depend on dozens of third party packages. To make it easier to share these programs, programmers often list a project's dependencies in a file called requirements.txt. This is an example of a requirements.txt file.\n",
        "\n",
        "beautifulsoup4==4.5.1\n",
        "bs4==0.0.1\n",
        "pytz==2016.7\n",
        "requests==2.11.1\n",
        "Each line of the file includes the name of a package and its version number. The version number is optional, but it usually should be included. Libraries can change subtly, or dramatically, between versions, so it's important to use the same library versions that the program's author used when they wrote the program.\n",
        "\n",
        "You can use pip to install all of a project's dependencies at once by typing pip install -r requirements.txt in your command line.\n",
        "\n",
        "Useful Third-Party Packages\n",
        "Being able to install and import third party libraries is useful, but to be an effective programmer you also need to know what libraries are available for you to use. People typically learn about useful new libraries from online recommendations or from colleagues. If you're a new Python programmer you may not have many colleagues, so to get you started here's a list of packages that are popular with engineers at Udacity.\n",
        "\n",
        "IPython - A better interactive Python interpreter\n",
        "requests - Provides easy to use methods to make web requests. Useful for accessing web APIs.\n",
        "Flask - a lightweight framework for making web applications and APIs.\n",
        "Django - A more featureful framework for making web applications. Django is particularly good for designing complex, content heavy, web applications.\n",
        "Beautiful Soup - Used to parse HTML and extract information from it. Great for web scraping.\n",
        "pytest - extends Python's builtin assertions and unittest module.\n",
        "PyYAML - For reading and writing YAML files.\n",
        "NumPy - The fundamental package for scientific computing with Python. It contains among other things a powerful N-dimensional array object and useful linear algebra capabilities.\n",
        "pandas - A library containing high-performance, data structures and data analysis tools. In particular, pandas provides dataframes!\n",
        "matplotlib - a 2D plotting library which produces publication quality figures in a variety of hardcopy formats and interactive environments.\n",
        "ggplot - Another 2D plotting library, based on R's ggplot2 library.\n",
        "Pillow - The Python Imaging Library adds image processing capabilities to your Python interpreter.\n",
        "pyglet - A cross-platform application framework intended for game development.\n",
        "Pygame - A set of Python modules designed for writing games.\n",
        "pytz - World Timezone Definitions for Python\n",
        "'''"
      ],
      "execution_count": null,
      "outputs": []
    }
  ]
}