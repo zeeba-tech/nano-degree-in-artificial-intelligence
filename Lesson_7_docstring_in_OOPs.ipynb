{
  "nbformat": 4,
  "nbformat_minor": 0,
  "metadata": {
    "colab": {
      "name": "Lesson-7/docstring in OOPs.ipynb",
      "provenance": [],
      "collapsed_sections": [],
      "authorship_tag": "ABX9TyOV+UQNCbix9/eb5GgO8X++",
      "include_colab_link": true
    },
    "kernelspec": {
      "name": "python3",
      "display_name": "Python 3"
    },
    "language_info": {
      "name": "python"
    }
  },
  "cells": [
    {
      "cell_type": "markdown",
      "metadata": {
        "id": "view-in-github",
        "colab_type": "text"
      },
      "source": [
        "<a href=\"https://colab.research.google.com/github/zeeba-tech/nano-degree-in-artificial-intelligence/blob/main/Lesson_7_docstring_in_OOPs.ipynb\" target=\"_parent\"><img src=\"https://colab.research.google.com/assets/colab-badge.svg\" alt=\"Open In Colab\"/></a>"
      ]
    },
    {
      "cell_type": "code",
      "metadata": {
        "id": "KTALzcyHFY66"
      },
      "source": [
        "'''Docstrings and Object-Oriented Code\n",
        "Below is an example of a class with docstrings and a few things to keep in mind:\n",
        "\n",
        "Make sure to indent your docstrings correctly or the code will not run. A docstring should be indented one indentation underneath the class or method being described.\n",
        "You don't have to define 'self' in your method docstrings. It's understood that any method will have self as the first method input.'''\n",
        "class Pants:\n",
        "    \"\"\"The Pants class represents an article of clothing sold in a store\n",
        "    \"\"\"\n",
        "\n",
        "    def __init__(self, color, waist_size, length, price):\n",
        "        \"\"\"Method for initializing a Pants object\n",
        "\n",
        "        Args: \n",
        "            color (str)\n",
        "            waist_size (int)\n",
        "            length (int)\n",
        "            price (float)\n",
        "\n",
        "        Attributes:\n",
        "            color (str): color of a pants object\n",
        "            waist_size (str): waist size of a pants object\n",
        "            length (str): length of a pants object\n",
        "            price (float): price of a pants object\n",
        "        \"\"\"\n",
        "\n",
        "        self.color = color\n",
        "        self.waist_size = waist_size\n",
        "        self.length = length\n",
        "        self.price = price\n",
        "\n",
        "    def change_price(self, new_price):\n",
        "        \"\"\"The change_price method changes the price attribute of a pants object\n",
        "\n",
        "        Args: \n",
        "            new_price (float): the new price of the pants object\n",
        "\n",
        "        Returns: None\n",
        "\n",
        "        \"\"\"\n",
        "        self.price = new_price\n",
        "\n",
        "    def discount(self, percentage):\n",
        "        \"\"\"The discount method outputs a discounted price of a pants object\n",
        "\n",
        "        Args:\n",
        "            percentage (float): a decimal representing the amount to discount\n",
        "\n",
        "        Returns:\n",
        "            float: the discounted price\n",
        "        \"\"\"\n",
        "        return self.price * (1 - percentage)\n"
      ],
      "execution_count": null,
      "outputs": []
    }
  ]
}