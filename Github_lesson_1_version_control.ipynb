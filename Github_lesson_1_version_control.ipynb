{
  "nbformat": 4,
  "nbformat_minor": 0,
  "metadata": {
    "colab": {
      "name": "Github -lesson-1-version control.ipynb",
      "provenance": [],
      "collapsed_sections": [],
      "authorship_tag": "ABX9TyOk6h3eUKWPLkP3bgI8nGA4",
      "include_colab_link": true
    },
    "kernelspec": {
      "name": "python3",
      "display_name": "Python 3"
    },
    "language_info": {
      "name": "python"
    }
  },
  "cells": [
    {
      "cell_type": "markdown",
      "metadata": {
        "id": "view-in-github",
        "colab_type": "text"
      },
      "source": [
        "<a href=\"https://colab.research.google.com/github/zeeba-tech/nano-degree-in-artificial-intelligence/blob/main/Github_lesson_1_version_control.ipynb\" target=\"_parent\"><img src=\"https://colab.research.google.com/assets/colab-badge.svg\" alt=\"Open In Colab\"/></a>"
      ]
    },
    {
      "cell_type": "markdown",
      "metadata": {
        "id": "iE4ymLSurGDq"
      },
      "source": [
        "I just said \"version control\". Now since you're in this course, you might already know a bit about version control. But if you don't, a handy trick I've learned is to try reading the words in reverse - so \"version control\" would become \"control version\"! So a Version Control System is just software that helps you control (or manage) the different versions...of something (typically source code).\n",
        "\n",
        "Further Research\n",
        "Version Control on Wikipedia\n",
        "\n",
        "\n",
        "VCS Info\n",
        "There are a number of Version Control Systems out there. This alone should prove that version control is incredibly important. Three of the most popular version control systems are:\n",
        "\n",
        "Git\n",
        "Subversion\n",
        "Mercurial\n",
        "There are two main types of version control system models:\n",
        "\n",
        "the centralized model - all users connect to a central, master repository\n",
        "the distributed model - each user has the entire repository on their computer\n",
        "Further Research\n",
        "Centralized vs. DVCS from the Atlassian Blog\n",
        "Distributed version control on Wikipedia\n",
        "Recap\n",
        "Remember that the main point of a version control system is to help you maintain a detailed history of the project as well as the ability to work on different versions of it. Having a detailed history of a project is important because it lets you see the progress of the project over time. If needed, you can also jump back to any point in the project to recover data or files.\n",
        "\n",
        "In this course, we'll be using Git which is a distributed version control system. You might be surprised to discover that you're already using version control all the time!\n",
        "\n",
        ";"
      ]
    },
    {
      "cell_type": "code",
      "metadata": {
        "id": "RySMfuMYqk9V"
      },
      "source": [
        ""
      ],
      "execution_count": null,
      "outputs": []
    }
  ]
}