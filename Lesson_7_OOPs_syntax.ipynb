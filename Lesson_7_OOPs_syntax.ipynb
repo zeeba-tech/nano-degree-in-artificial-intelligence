{
  "nbformat": 4,
  "nbformat_minor": 0,
  "metadata": {
    "colab": {
      "name": "Lesson-7/OOPs syntax.ipynb",
      "provenance": [],
      "collapsed_sections": [],
      "authorship_tag": "ABX9TyP0fO7O+vYTE9S++S5PRwkV",
      "include_colab_link": true
    },
    "kernelspec": {
      "name": "python3",
      "display_name": "Python 3"
    },
    "language_info": {
      "name": "python"
    }
  },
  "cells": [
    {
      "cell_type": "markdown",
      "metadata": {
        "id": "view-in-github",
        "colab_type": "text"
      },
      "source": [
        "<a href=\"https://colab.research.google.com/github/zeeba-tech/nano-degree-in-artificial-intelligence/blob/main/Lesson_7_OOPs_syntax.ipynb\" target=\"_parent\"><img src=\"https://colab.research.google.com/assets/colab-badge.svg\" alt=\"Open In Colab\"/></a>"
      ]
    },
    {
      "cell_type": "code",
      "metadata": {
        "id": "wY3doHUB8FUt"
      },
      "source": [
        "'''What is self?\n",
        "If you instantiate two objects, how does Python differentiate between these two objects?\n",
        "\n",
        "shirt_one = Shirt('red', 'S', 'short-sleeve', 15)\n",
        "short_two = Shirt('yellow', 'M', 'long-sleeve', 20)\n",
        "That's where self comes into play. If you call the change_price method on shirt_one, how does Python know to change the price of shirt_one and not of shirt_two?\n",
        "\n",
        "shirt_one.change_price(12)\n",
        "Behind the scenes, Python is calling the change_price method:\n",
        "\n",
        "    def change_price(self, new_price):\n",
        "\n",
        "        self.price = new_price\n",
        "Self tells Python where to look in the computer's memory for the shirt_one object. And then Python changes the price of the shirt_one object. When you call the change_price method, shirt_one.change_price(12), self is implicitly passed in.\n",
        "\n",
        "The word self is just a convention. You could actually use any other name as long as you are consistent; however, you should always use self rather than some other word or else you might confuse people.'''\n",
        "\n"
      ],
      "execution_count": null,
      "outputs": []
    },
    {
      "cell_type": "code",
      "metadata": {
        "id": "LBFGDQ2zJfzY"
      },
      "source": [
        "class Shirt:\n",
        "\n",
        "    def __init__(self, shirt_color, shirt_size, shirt_style, shirt_price):\n",
        "        self.color = shirt_color\n",
        "        self.size = shirt_size\n",
        "        self.style = shirt_style\n",
        "        self.price = shirt_price\n",
        "    \n",
        "    def change_price(self, new_price):\n",
        "    \n",
        "        self.price = new_price\n",
        "        \n",
        "    def discount(self, discount):\n",
        "\n",
        "        return self.price * (1 - discount)"
      ],
      "execution_count": 2,
      "outputs": []
    },
    {
      "cell_type": "code",
      "metadata": {
        "colab": {
          "base_uri": "https://localhost:8080/"
        },
        "id": "T8AMSZOXOV96",
        "outputId": "c3332d6e-f25e-4e8a-c4dc-bd4eccce4083"
      },
      "source": [
        "### TODO:\n",
        "#    - insantiate a shirt object with the following characteristics:\n",
        "#        - color red, size S, style long-sleeve, and price 25\n",
        "#    - store the object in a variable called shirt_one\n",
        "#\n",
        "#\n",
        "###\n",
        "shirt_one=Shirt(\"red\",\"S\",\"long-sleeve\",25)\n",
        "shirt_one.price"
      ],
      "execution_count": 3,
      "outputs": [
        {
          "output_type": "execute_result",
          "data": {
            "text/plain": [
              "25"
            ]
          },
          "metadata": {
            "tags": []
          },
          "execution_count": 3
        }
      ]
    },
    {
      "cell_type": "code",
      "metadata": {
        "colab": {
          "base_uri": "https://localhost:8080/"
        },
        "id": "62HTZggFOZnI",
        "outputId": "7edd6a30-f07e-4ce6-8fdc-cccde2b62468"
      },
      "source": [
        "### TODO:\n",
        "#     - print the price of the shirt using the price attribute\n",
        "#     - use the change_price method to change the price of the shirt to 10\n",
        "#     - print the price of the shirt using the price attribute\n",
        "#     - use the discount method to print the price of the shirt with a 12% discount\n",
        "#\n",
        "###\n",
        "print(shirt_one.price)\n",
        "\n",
        "\n",
        "    \n",
        "shirt_one.change_price(10)\n",
        "print(shirt_one.price)\n",
        "print(shirt_one.discount(.12))"
      ],
      "execution_count": 4,
      "outputs": [
        {
          "output_type": "stream",
          "text": [
            "25\n",
            "10\n",
            "8.8\n"
          ],
          "name": "stdout"
        }
      ]
    },
    {
      "cell_type": "code",
      "metadata": {
        "id": "bf93AgCyOdyH"
      },
      "source": [
        "### TODO:\n",
        "#\n",
        "#    - instantiate another object with the following characteristics:\n",
        "# .       - color orange, size L, style short-sleeve, and price 10\n",
        "#    - store the object in a variable called shirt_two\n",
        "#\n",
        "###\n",
        "shirt_two=Shirt(\"orange\",\"L\",\"short-sleeve\",10)"
      ],
      "execution_count": 5,
      "outputs": []
    },
    {
      "cell_type": "code",
      "metadata": {
        "colab": {
          "base_uri": "https://localhost:8080/"
        },
        "id": "HNldLai3OhBx",
        "outputId": "69a3f27f-d189-462b-e385-4764b505bb47"
      },
      "source": [
        "### TODO:\n",
        "#\n",
        "#    - calculate the total cost of shirt_one and shirt_two\n",
        "#    - store the results in a variable called total\n",
        "#    \n",
        "###\n",
        "\n",
        "#shirt_one=shirt(\"red\",\"Small\",\"long sleeve\",25)\n",
        "#shirt_two=shirt(\"orange\",\"Large\",\"short sleeve\",10)\n",
        "\n",
        "total=shirt_one.price+shirt_two.price\n",
        "print(total)\n",
        "\n"
      ],
      "execution_count": 6,
      "outputs": [
        {
          "output_type": "stream",
          "text": [
            "20\n"
          ],
          "name": "stdout"
        }
      ]
    },
    {
      "cell_type": "code",
      "metadata": {
        "colab": {
          "base_uri": "https://localhost:8080/"
        },
        "id": "sWHPpOC7Ok73",
        "outputId": "5ff2b3eb-3ad4-4ca8-e78d-32881e0570b5"
      },
      "source": [
        "### TODO:\n",
        "#\n",
        "#    - use the shirt discount method to calculate the total cost if\n",
        "#       shirt_one has a discount of 14% and shirt_two has a discount\n",
        "#       of 6%\n",
        "#    - store the results in a variable called total_discount\n",
        "###\n",
        "\n",
        "total_discount=shirt_one.discount(.14)+shirt_two.discount(0.06)\n",
        "print(total_discount)"
      ],
      "execution_count": 7,
      "outputs": [
        {
          "output_type": "stream",
          "text": [
            "18.0\n"
          ],
          "name": "stdout"
        }
      ]
    },
    {
      "cell_type": "code",
      "metadata": {
        "id": "I7z51WTtOsbT"
      },
      "source": [
        "# Unit tests to check your solution\n",
        "from tests import run_tests\n",
        "\n",
        "run_tests(shirt_one, shirt_two, total, total_discount)"
      ],
      "execution_count": null,
      "outputs": []
    }
  ]
}