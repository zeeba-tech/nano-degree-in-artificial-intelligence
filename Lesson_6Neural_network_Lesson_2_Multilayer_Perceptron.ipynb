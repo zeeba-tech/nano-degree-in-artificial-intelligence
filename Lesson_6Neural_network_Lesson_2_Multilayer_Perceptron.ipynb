{
  "nbformat": 4,
  "nbformat_minor": 0,
  "metadata": {
    "colab": {
      "name": "Lesson-6Neural network/Lesson-2 Multilayer Perceptron.ipynb",
      "provenance": [],
      "collapsed_sections": [],
      "authorship_tag": "ABX9TyPL7YCWnEmpVfvifAG0hnB3",
      "include_colab_link": true
    },
    "kernelspec": {
      "name": "python3",
      "display_name": "Python 3"
    },
    "language_info": {
      "name": "python"
    }
  },
  "cells": [
    {
      "cell_type": "markdown",
      "metadata": {
        "id": "view-in-github",
        "colab_type": "text"
      },
      "source": [
        "<a href=\"https://colab.research.google.com/github/zeeba-tech/nano-degree-in-artificial-intelligence/blob/main/Lesson_6Neural_network_Lesson_2_Multilayer_Perceptron.ipynb\" target=\"_parent\"><img src=\"https://colab.research.google.com/assets/colab-badge.svg\" alt=\"Open In Colab\"/></a>"
      ]
    },
    {
      "cell_type": "markdown",
      "metadata": {
        "id": "RvfguZV8hQ7T"
      },
      "source": [
        "Implementing the hidden layer\n",
        "Prerequisites\n",
        "Below, we are going to walk through the math of neural networks in a multilayer perceptron. With multiple perceptrons, we are going to move to using vectors and matrices. To brush up, be sure to view the following:\n",
        "\n",
        "Khan Academy's introduction to vectors.\n",
        "Khan Academy's introduction to matrices.\n",
        "Derivation\n",
        "Before, we were dealing with only one output node which made the code straightforward. However now that we have multiple input units and multiple hidden units, the weights between them will require two indices: w_{ij}w \n",
        "ij\n",
        "​\t  where ii denotes input units and jj are the hidden units.\n",
        "\n",
        "For example, the following image shows our network, with its input units labeled x_1, x_2,x \n",
        "1\n",
        "​\t ,x \n",
        "2\n",
        "​\t , and x_3x \n",
        "3\n",
        "​\t , and its hidden nodes labeled h_1h \n",
        "1\n",
        "​\t  and h_2h \n",
        "2\n",
        "​\t :\n",
        "\n",
        "\n",
        "The lines indicating the weights leading to h_1h \n",
        "1\n",
        "​\t  have been colored differently from those leading to h_2h \n",
        "2\n",
        "​\t  just to make it easier to read.\n",
        "\n",
        "Now to index the weights, we take the input unit number for the _i \n",
        "i\n",
        "​\t  and the hidden unit number for the _j. \n",
        "j\n",
        "​\t . That gives us\n",
        "\n",
        "w_{11}w \n",
        "11\n",
        "​\t \n",
        "\n",
        "for the weight leading from x_1x \n",
        "1\n",
        "​\t  to h_1h \n",
        "1\n",
        "​\t , and\n",
        "\n",
        "w_{12}w \n",
        "12\n",
        "​\t \n",
        "\n",
        "for the weight leading from x_1x \n",
        "1\n",
        "​\t  to h_2h \n",
        "2\n",
        "​\t .\n",
        "\n",
        "The following image includes all of the weights between the input layer and the hidden layer, labeled with their appropriate w_{ij}w \n",
        "ij\n",
        "​\t  indices:\n",
        "\n",
        "\n",
        "Before, we were able to write the weights as an array, indexed as w_iw \n",
        "i\n",
        "​\t .\n",
        "\n",
        "But now, the weights need to be stored in a matrix, indexed as w_{ij}w \n",
        "ij\n",
        "​\t . Each row in the matrix will correspond to the weights leading out of a single input unit, and each column will correspond to the weights leading in to a single hidden unit. For our three input units and two hidden units, the weights matrix looks like this:\n",
        "\n",
        "\n",
        "Weights matrix for 3 input units and 2 hidden units\n",
        "\n",
        "Be sure to compare the matrix above with the diagram shown before it so you can see where the different weights in the network end up in the matrix.\n",
        "\n"
      ]
    },
    {
      "cell_type": "code",
      "metadata": {
        "id": "R5caEo1BgCp4"
      },
      "source": [
        ""
      ],
      "execution_count": null,
      "outputs": []
    },
    {
      "cell_type": "code",
      "metadata": {
        "id": "fgIFCCQUhURe"
      },
      "source": [
        "To initialize these weights in NumPy, we have to provide the shape of the matrix. If features is a 2D array containing the input data:\n",
        "\n",
        "# Number of records and input units\n",
        "n_records, n_inputs = features.shape\n",
        "# Number of hidden units\n",
        "n_hidden = 2\n",
        "weights_input_to_hidden = np.random.normal(0, n_inputs**-0.5, size=(n_inputs, n_hidden))"
      ],
      "execution_count": null,
      "outputs": []
    },
    {
      "cell_type": "markdown",
      "metadata": {
        "id": "QOIilf-Hhbxb"
      },
      "source": [
        "This creates a 2D array (i.e. a matrix) named weights_input_to_hidden with dimensions n_inputs by n_hidden. Remember how the input to a hidden unit is the sum of all the inputs multiplied by the hidden unit's weights. So for each hidden layer unit, h_jh \n",
        "j\n",
        "​\t , we need to calculate the following:\n",
        "\n",
        "\n",
        "To do that, we now need to use matrix multiplication. If your linear algebra is rusty, I suggest taking a look at the suggested resources in the prerequisites section. For this part though, you'll only need to know how to multiply a matrix with a vector.\n",
        "\n",
        "In this case, we're multiplying the inputs (a row vector here) by the weights. To do this, you take the dot (inner) product of the inputs with each column in the weights matrix. For example, to calculate the input to the first hidden unit, j = 1j=1, you'd take the dot product of the inputs with the first column of the weights matrix, like so:"
      ]
    },
    {
      "cell_type": "markdown",
      "metadata": {
        "id": "9daUfAt3hitu"
      },
      "source": [
        "Calculating the input to the first hidden unit with the first column of the weights matrix.\n",
        "\n",
        "\n",
        "And for the second hidden layer input, you calculate the dot product of the inputs with the second column. And so on and so forth.\n",
        "\n",
        "In NumPy, you can do this for all the inputs and all the outputs at once using np.dot"
      ]
    },
    {
      "cell_type": "code",
      "metadata": {
        "id": "m9WbPS19hl8N"
      },
      "source": [
        "hidden_inputs = np.dot(inputs, weights_input_to_hidden)"
      ],
      "execution_count": null,
      "outputs": []
    },
    {
      "cell_type": "markdown",
      "metadata": {
        "id": "aXoZ8Q8HhrM5"
      },
      "source": [
        "You could also define your weights matrix such that it has dimensions n_hidden by n_inputs then multiply like so where the inputs form a column vector:\n",
        "\n",
        "\n",
        "Note: The weight indices have changed in the above image and no longer match up with the labels used in the earlier diagrams. That's because, in matrix notation, the row index always precedes the column index, so it would be misleading to label them the way we did in the neural net diagram. Just keep in mind that this is the same weight matrix as before, but rotated so the first column is now the first row, and the second column is now the second row. If we were to use the labels from the earlier diagram, the weights would fit into the matrix in the following locations:\n",
        "\n",
        "\n",
        "Weight matrix shown with labels matching earlier diagrams.\n",
        "\n",
        "Remember, the above is not a correct view of the indices, but it uses the labels from the earlier neural net diagrams to show you where each weight ends up in the matrix.\n",
        "\n",
        "The important thing with matrix multiplication is that the dimensions match. For matrix multiplication to work, there has to be the same number of elements in the dot products. In the first example, there are three columns in the input vector, and three rows in the weights matrix. In the second example, there are three columns in the weights matrix and three rows in the input vector. If the dimensions don't match, you'll get this:"
      ]
    },
    {
      "cell_type": "code",
      "metadata": {
        "id": "Uyoba12ohwPH"
      },
      "source": [
        "# Same weights and features as above, but swapped the order\n",
        "hidden_inputs = np.dot(weights_input_to_hidden, features)\n",
        "---------------------------------------------------------------------------\n",
        "ValueError                                Traceback (most recent call last)\n",
        "<ipython-input-11-1bfa0f615c45> in <module>()\n",
        "----> 1 hidden_in = np.dot(weights_input_to_hidden, X)\n",
        "\n",
        "ValueError: shapes (3,2) and (3,) not aligned: 2 (dim 1) != 3 (dim 0)"
      ],
      "execution_count": null,
      "outputs": []
    },
    {
      "cell_type": "markdown",
      "metadata": {
        "id": "mgMWzuAUh1zj"
      },
      "source": [
        "The dot product can't be computed for a 3x2 matrix and 3-element array. That's because the 2 columns in the matrix don't match the number of elements in the array. Some of the dimensions that could work would be the following:\n",
        "\n",
        "\n",
        "The rule is that if you're multiplying an array from the left, the array must have the same number of elements as there are rows in the matrix. And if you're multiplying the matrix from the left, the number of columns in the matrix must equal the number of elements in the array on the right.\n",
        "\n",
        "Making a column vector\n",
        "You see above that sometimes you'll want a column vector, even though by default NumPy arrays work like row vectors. It's possible to get the transpose of an array like so arr.T, but for a 1D array, the transpose will return a row vector. Instead, use arr[:,None] to create a column vector:"
      ]
    },
    {
      "cell_type": "code",
      "metadata": {
        "id": "V7GAQ-dDh4LZ"
      },
      "source": [
        "\n",
        "print(features)\n",
        "> array([ 0.49671415, -0.1382643 ,  0.64768854])\n",
        "\n",
        "print(features.T)\n",
        "> array([ 0.49671415, -0.1382643 ,  0.64768854])\n",
        "\n",
        "print(features[:, None])\n",
        "> array([[ 0.49671415],\n",
        "       [-0.1382643 ],\n",
        "       [ 0.64768854]])"
      ],
      "execution_count": null,
      "outputs": []
    },
    {
      "cell_type": "code",
      "metadata": {
        "id": "SBXob_hXh66A"
      },
      "source": [
        "Alternatively, you can create arrays with two dimensions. Then, you can use arr.T to get the column vector.\n",
        "\n",
        "\n",
        "np.array(features, ndmin=2)\n",
        "> array([[ 0.49671415, -0.1382643 ,  0.64768854]])\n",
        "\n",
        "np.array(features, ndmin=2).T\n",
        "> array([[ 0.49671415],\n",
        "       [-0.1382643 ],\n",
        "       [ 0.64768854]])"
      ],
      "execution_count": null,
      "outputs": []
    },
    {
      "cell_type": "markdown",
      "metadata": {
        "id": "SzRQNk0wh99Q"
      },
      "source": [
        "I personally prefer keeping all vectors as 1D arrays, it just works better in my head.\n",
        "\n",
        "Programming quiz\n",
        "Below, you'll implement a forward pass through a 4x3x2 network, with sigmoid activation functions for both layers.\n",
        "\n",
        "Things to do:\n",
        "\n",
        "Calculate the input to the hidden layer.\n",
        "Calculate the hidden layer output.\n",
        "Calculate the input to the output layer.\n",
        "Calculate the output of the network."
      ]
    },
    {
      "cell_type": "code",
      "metadata": {
        "id": "UItN1IkBQlvP"
      },
      "source": [
        "import numpy as np\n",
        "\n",
        "def sigmoid(x):\n",
        "    \"\"\"\n",
        "    Calculate sigmoid\n",
        "    \"\"\"\n",
        "    return 1/(1+np.exp(-x))\n",
        "\n",
        "# Network size\n",
        "N_input = 4\n",
        "N_hidden = 3\n",
        "N_output = 2\n",
        "\n",
        "np.random.seed(42)\n",
        "# Make some fake data\n",
        "X = np.random.randn(4)\n",
        "\n",
        "weights_input_to_hidden = np.random.normal(0, scale=0.1, size=(N_input, N_hidden))\n",
        "weights_hidden_to_output = np.random.normal(0, scale=0.1, size=(N_hidden, N_output))\n",
        "\n",
        "\n",
        "# TODO: Make a forward pass through the network\n",
        "\n",
        "hidden_layer_in =np.dot(X,weights_input_to_hidden)\n",
        "\n",
        "hidden_layer_out = sigmoid(hidden_layer_in)\n",
        "print('Hidden-layer Output:')\n",
        "print(hidden_layer_out)\n",
        "\n",
        "output_layer_in =np.dot(hidden_layer_out,weights_hidden_to_output)\n",
        "output_layer_out =sigmoid(output_layer_in)\n",
        "\n",
        "print('Output-layer Output:')\n",
        "print(output_layer_out)"
      ],
      "execution_count": null,
      "outputs": []
    },
    {
      "cell_type": "code",
      "metadata": {
        "id": "zgTMhLSHh-3w"
      },
      "source": [
        "Hidden-layer Output:\n",
        "[0.41492192 0.42604313 0.5002434 ]\n",
        "Output-layer Output:\n",
        "[0.49815196 0.48539772]\n",
        "\n",
        "Nice job!  That's right!"
      ],
      "execution_count": null,
      "outputs": []
    },
    {
      "cell_type": "code",
      "metadata": {
        "id": "nFMByaQ8QusH"
      },
      "source": [
        ""
      ],
      "execution_count": null,
      "outputs": []
    }
  ]
}